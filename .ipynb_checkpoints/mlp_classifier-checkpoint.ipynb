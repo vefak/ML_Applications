{
 "cells": [
  {
   "cell_type": "markdown",
   "metadata": {},
   "source": [
    "# MLPClassifier\n",
    "---\n",
    "Vefak Murat Akman\n"
   ]
  },
  {
   "cell_type": "markdown",
   "metadata": {},
   "source": [
    "\n",
    "---\n",
    "### Task 1:\n",
    "\n",
    "Define 20 C paramaters in range of 0.0001 and 10000\n",
    "Define Logistics Regression model\n",
    "RepeatedKFold 5 fold cross 5 repeated \n",
    "Calculate mean AUC score\n",
    "\n",
    "---"
   ]
  },
  {
   "cell_type": "code",
   "execution_count": 29,
   "metadata": {},
   "outputs": [
    {
     "name": "stdout",
     "output_type": "stream",
     "text": [
      "Jobs:\n",
      " ['housemaid' 'services' 'admin.' 'blue-collar' 'technician' 'retired'\n",
      " 'management' 'unemployed' 'self-employed' 'unknown' 'entrepreneur'\n",
      " 'student']\n",
      "Marital:\n",
      " ['married' 'single' 'divorced' 'unknown']\n",
      "Default:\n",
      " ['no' 'unknown' 'yes']\n",
      "Housing:\n",
      " ['no' 'yes' 'unknown']\n",
      "Loan:\n",
      " ['no' 'yes' 'unknown']\n"
     ]
    }
   ],
   "source": [
    "import numpy as np\n",
    "import pandas as pd\n",
    "import matplotlib.pyplot as plt\n",
    "\n",
    "\n",
    "dataset = pd.read_csv('bank-additional-full.csv', sep=\";\")\n",
    "\n",
    "# Print some of categorical variables\n",
    "print('Jobs:\\n', dataset['job'].unique())\n",
    "print('Marital:\\n', dataset['marital'].unique())\n",
    "print('Default:\\n', dataset['default'].unique())\n",
    "print('Housing:\\n', dataset['housing'].unique())\n",
    "print('Loan:\\n', dataset['loan'].unique())\n"
   ]
  },
  {
   "cell_type": "code",
   "execution_count": 31,
   "metadata": {},
   "outputs": [
    {
     "data": {
      "text/html": [
       "<div>\n",
       "<style scoped>\n",
       "    .dataframe tbody tr th:only-of-type {\n",
       "        vertical-align: middle;\n",
       "    }\n",
       "\n",
       "    .dataframe tbody tr th {\n",
       "        vertical-align: top;\n",
       "    }\n",
       "\n",
       "    .dataframe thead th {\n",
       "        text-align: right;\n",
       "    }\n",
       "</style>\n",
       "<table border=\"1\" class=\"dataframe\">\n",
       "  <thead>\n",
       "    <tr style=\"text-align: right;\">\n",
       "      <th></th>\n",
       "      <th>age</th>\n",
       "      <th>job</th>\n",
       "      <th>marital</th>\n",
       "      <th>education</th>\n",
       "      <th>default</th>\n",
       "      <th>housing</th>\n",
       "      <th>loan</th>\n",
       "      <th>contact</th>\n",
       "      <th>month</th>\n",
       "      <th>day_of_week</th>\n",
       "      <th>...</th>\n",
       "      <th>campaign</th>\n",
       "      <th>pdays</th>\n",
       "      <th>previous</th>\n",
       "      <th>poutcome</th>\n",
       "      <th>emp.var.rate</th>\n",
       "      <th>cons.price.idx</th>\n",
       "      <th>cons.conf.idx</th>\n",
       "      <th>euribor3m</th>\n",
       "      <th>nr.employed</th>\n",
       "      <th>y</th>\n",
       "    </tr>\n",
       "  </thead>\n",
       "  <tbody>\n",
       "    <tr>\n",
       "      <th>0</th>\n",
       "      <td>56</td>\n",
       "      <td>housemaid</td>\n",
       "      <td>married</td>\n",
       "      <td>basic.4y</td>\n",
       "      <td>no</td>\n",
       "      <td>no</td>\n",
       "      <td>no</td>\n",
       "      <td>telephone</td>\n",
       "      <td>may</td>\n",
       "      <td>mon</td>\n",
       "      <td>...</td>\n",
       "      <td>1</td>\n",
       "      <td>999</td>\n",
       "      <td>0</td>\n",
       "      <td>nonexistent</td>\n",
       "      <td>1.1</td>\n",
       "      <td>93.994</td>\n",
       "      <td>-36.4</td>\n",
       "      <td>4.857</td>\n",
       "      <td>5191.0</td>\n",
       "      <td>no</td>\n",
       "    </tr>\n",
       "    <tr>\n",
       "      <th>1</th>\n",
       "      <td>57</td>\n",
       "      <td>services</td>\n",
       "      <td>married</td>\n",
       "      <td>high.school</td>\n",
       "      <td>unknown</td>\n",
       "      <td>no</td>\n",
       "      <td>no</td>\n",
       "      <td>telephone</td>\n",
       "      <td>may</td>\n",
       "      <td>mon</td>\n",
       "      <td>...</td>\n",
       "      <td>1</td>\n",
       "      <td>999</td>\n",
       "      <td>0</td>\n",
       "      <td>nonexistent</td>\n",
       "      <td>1.1</td>\n",
       "      <td>93.994</td>\n",
       "      <td>-36.4</td>\n",
       "      <td>4.857</td>\n",
       "      <td>5191.0</td>\n",
       "      <td>no</td>\n",
       "    </tr>\n",
       "    <tr>\n",
       "      <th>2</th>\n",
       "      <td>37</td>\n",
       "      <td>services</td>\n",
       "      <td>married</td>\n",
       "      <td>high.school</td>\n",
       "      <td>no</td>\n",
       "      <td>yes</td>\n",
       "      <td>no</td>\n",
       "      <td>telephone</td>\n",
       "      <td>may</td>\n",
       "      <td>mon</td>\n",
       "      <td>...</td>\n",
       "      <td>1</td>\n",
       "      <td>999</td>\n",
       "      <td>0</td>\n",
       "      <td>nonexistent</td>\n",
       "      <td>1.1</td>\n",
       "      <td>93.994</td>\n",
       "      <td>-36.4</td>\n",
       "      <td>4.857</td>\n",
       "      <td>5191.0</td>\n",
       "      <td>no</td>\n",
       "    </tr>\n",
       "    <tr>\n",
       "      <th>3</th>\n",
       "      <td>40</td>\n",
       "      <td>admin.</td>\n",
       "      <td>married</td>\n",
       "      <td>basic.6y</td>\n",
       "      <td>no</td>\n",
       "      <td>no</td>\n",
       "      <td>no</td>\n",
       "      <td>telephone</td>\n",
       "      <td>may</td>\n",
       "      <td>mon</td>\n",
       "      <td>...</td>\n",
       "      <td>1</td>\n",
       "      <td>999</td>\n",
       "      <td>0</td>\n",
       "      <td>nonexistent</td>\n",
       "      <td>1.1</td>\n",
       "      <td>93.994</td>\n",
       "      <td>-36.4</td>\n",
       "      <td>4.857</td>\n",
       "      <td>5191.0</td>\n",
       "      <td>no</td>\n",
       "    </tr>\n",
       "    <tr>\n",
       "      <th>4</th>\n",
       "      <td>56</td>\n",
       "      <td>services</td>\n",
       "      <td>married</td>\n",
       "      <td>high.school</td>\n",
       "      <td>no</td>\n",
       "      <td>no</td>\n",
       "      <td>yes</td>\n",
       "      <td>telephone</td>\n",
       "      <td>may</td>\n",
       "      <td>mon</td>\n",
       "      <td>...</td>\n",
       "      <td>1</td>\n",
       "      <td>999</td>\n",
       "      <td>0</td>\n",
       "      <td>nonexistent</td>\n",
       "      <td>1.1</td>\n",
       "      <td>93.994</td>\n",
       "      <td>-36.4</td>\n",
       "      <td>4.857</td>\n",
       "      <td>5191.0</td>\n",
       "      <td>no</td>\n",
       "    </tr>\n",
       "  </tbody>\n",
       "</table>\n",
       "<p>5 rows × 21 columns</p>\n",
       "</div>"
      ],
      "text/plain": [
       "   age        job  marital    education  default housing loan    contact  \\\n",
       "0   56  housemaid  married     basic.4y       no      no   no  telephone   \n",
       "1   57   services  married  high.school  unknown      no   no  telephone   \n",
       "2   37   services  married  high.school       no     yes   no  telephone   \n",
       "3   40     admin.  married     basic.6y       no      no   no  telephone   \n",
       "4   56   services  married  high.school       no      no  yes  telephone   \n",
       "\n",
       "  month day_of_week  ...  campaign  pdays  previous     poutcome emp.var.rate  \\\n",
       "0   may         mon  ...         1    999         0  nonexistent          1.1   \n",
       "1   may         mon  ...         1    999         0  nonexistent          1.1   \n",
       "2   may         mon  ...         1    999         0  nonexistent          1.1   \n",
       "3   may         mon  ...         1    999         0  nonexistent          1.1   \n",
       "4   may         mon  ...         1    999         0  nonexistent          1.1   \n",
       "\n",
       "   cons.price.idx  cons.conf.idx  euribor3m  nr.employed   y  \n",
       "0          93.994          -36.4      4.857       5191.0  no  \n",
       "1          93.994          -36.4      4.857       5191.0  no  \n",
       "2          93.994          -36.4      4.857       5191.0  no  \n",
       "3          93.994          -36.4      4.857       5191.0  no  \n",
       "4          93.994          -36.4      4.857       5191.0  no  \n",
       "\n",
       "[5 rows x 21 columns]"
      ]
     },
     "execution_count": 31,
     "metadata": {},
     "output_type": "execute_result"
    }
   ],
   "source": [
    "dataset.head()"
   ]
  },
  {
   "cell_type": "code",
   "execution_count": 34,
   "metadata": {},
   "outputs": [
    {
     "name": "stdout",
     "output_type": "stream",
     "text": [
      "<class 'pandas.core.frame.DataFrame'>\n",
      "RangeIndex: 41188 entries, 0 to 41187\n",
      "Data columns (total 21 columns):\n",
      " #   Column          Non-Null Count  Dtype  \n",
      "---  ------          --------------  -----  \n",
      " 0   age             41188 non-null  int64  \n",
      " 1   job             41188 non-null  object \n",
      " 2   marital         41188 non-null  object \n",
      " 3   education       41188 non-null  object \n",
      " 4   default         41188 non-null  object \n",
      " 5   housing         41188 non-null  object \n",
      " 6   loan            41188 non-null  object \n",
      " 7   contact         41188 non-null  object \n",
      " 8   month           41188 non-null  object \n",
      " 9   day_of_week     41188 non-null  object \n",
      " 10  duration        41188 non-null  int64  \n",
      " 11  campaign        41188 non-null  int64  \n",
      " 12  pdays           41188 non-null  int64  \n",
      " 13  previous        41188 non-null  int64  \n",
      " 14  poutcome        41188 non-null  object \n",
      " 15  emp.var.rate    41188 non-null  float64\n",
      " 16  cons.price.idx  41188 non-null  float64\n",
      " 17  cons.conf.idx   41188 non-null  float64\n",
      " 18  euribor3m       41188 non-null  float64\n",
      " 19  nr.employed     41188 non-null  float64\n",
      " 20  y               41188 non-null  object \n",
      "dtypes: float64(5), int64(5), object(11)\n",
      "memory usage: 6.6+ MB\n"
     ]
    }
   ],
   "source": [
    "dataset.info()"
   ]
  },
  {
   "cell_type": "markdown",
   "metadata": {},
   "source": [
    "### Checking null variables"
   ]
  },
  {
   "cell_type": "code",
   "execution_count": 36,
   "metadata": {},
   "outputs": [
    {
     "name": "stdout",
     "output_type": "stream",
     "text": [
      "Null Values:  age               False\n",
      "job               False\n",
      "marital           False\n",
      "education         False\n",
      "default           False\n",
      "housing           False\n",
      "loan              False\n",
      "contact           False\n",
      "month             False\n",
      "day_of_week       False\n",
      "duration          False\n",
      "campaign          False\n",
      "pdays             False\n",
      "previous          False\n",
      "poutcome          False\n",
      "emp.var.rate      False\n",
      "cons.price.idx    False\n",
      "cons.conf.idx     False\n",
      "euribor3m         False\n",
      "nr.employed       False\n",
      "y                 False\n",
      "dtype: bool\n"
     ]
    }
   ],
   "source": [
    "print('Null Values: ', dataset.isnull().any())"
   ]
  },
  {
   "cell_type": "markdown",
   "metadata": {},
   "source": [
    "### Data Preprocessing\n"
   ]
  },
  {
   "cell_type": "code",
   "execution_count": 55,
   "metadata": {},
   "outputs": [],
   "source": [
    "# Convert Categorical values to Numerics\n",
    "from sklearn.preprocessing import LabelEncoder\n",
    "labelencoder = LabelEncoder()\n",
    "categorilcals = ['job','marital','education','default','housing','loan','contact','month','day_of_week','poutcome','y']\n",
    "for word in (categorilcals):\n",
    "    dataset[word]      = labelencoder.fit_transform(dataset[word]) \n",
    "# Set Features and Results    \n",
    "X = dataset.iloc[:, :20].values\n",
    "y = dataset.iloc[:, -1].values\n",
    "\n",
    "#Feature Scaling\n",
    "from sklearn.preprocessing import StandardScaler\n",
    "sc = StandardScaler()\n",
    "X = sc.fit_transform(X)   \n",
    "\n",
    "# Data split\n",
    "X_train,X_test,y_train,y_test=train_test_split(X,y,test_size=0.3,shuffle=True)"
   ]
  },
  {
   "cell_type": "markdown",
   "metadata": {},
   "source": [
    "### Logistic Regression Training"
   ]
  },
  {
   "cell_type": "code",
   "execution_count": 56,
   "metadata": {},
   "outputs": [
    {
     "name": "stdout",
     "output_type": "stream",
     "text": [
      "Best parameter =  {'C': 10000.0}\n",
      "Best score =  0.9295018672528316\n"
     ]
    }
   ],
   "source": [
    "from sklearn.model_selection import RepeatedKFold\n",
    "from sklearn.linear_model import LogisticRegression\n",
    "from sklearn.model_selection import GridSearchCV\n",
    "\n",
    "#Define Cross Val method\n",
    "rkf = RepeatedKFold(n_splits=5, n_repeats=5, random_state =True)\n",
    "#Define C parameters \n",
    "params=np.array([0.0001,0.0005,0.001,0.002,0.005,0.01,0.05,0.1,0.5,0.75,1.0,5.0,10.0,50.0,100.0,500.0,1000.0,5000.0,7500.0,10000.0])\n",
    "#Using GridSearhCV again\n",
    "#Using roc_auc as scoring method. In sklearn, AUC scoring is defined as roc_auc\n",
    "\n",
    "lr = LogisticRegression()\n",
    "parameters = {'C': params}\n",
    "clf = GridSearchCV(lr, parameters, scoring='roc_auc', cv = rkf,n_jobs=-1)\n",
    "clf.fit(X_train, y_train)\n",
    "result_mean = clf.cv_results_[\"mean_test_score\"]\n",
    "\n",
    "print(\"Best parameter = \",clf.best_params_)\n",
    "print(\"Best score = \",clf.best_score_)\n"
   ]
  },
  {
   "cell_type": "markdown",
   "metadata": {},
   "source": [
    "### Plotting Curve"
   ]
  },
  {
   "cell_type": "code",
   "execution_count": 57,
   "metadata": {},
   "outputs": [
    {
     "data": {
      "image/png": "[encoded data removed]",
      "text/plain": [
       "<Figure size 432x288 with 1 Axes>"
      ]
     },
     "metadata": {
      "needs_background": "light"
     },
     "output_type": "display_data"
    }
   ],
   "source": [
    "from matplotlib.ticker import NullFormatter  # useful for `logit` scale\n",
    "\n",
    "plt.plot(params, result_mean,marker='.', label='Logistic')\n",
    "\n",
    "\n",
    "plt.xscale('log')\n",
    "plt.title('AUC Curver')\n",
    "plt.xlabel('C Parameters')\n",
    "plt.ylabel('Mean AUC Score')\n",
    "plt.grid(True)\n"
   ]
  },
  {
   "cell_type": "markdown",
   "metadata": {},
   "source": [
    "### Task 2\n",
    "---\n",
    "Build a Random Forest model.\n",
    "\n",
    "Using gridsearch try to find the best score and combination of the following \n",
    "\n",
    "**Hyperparameters: **\n",
    "\n",
    "`Number of estimators`: 10,50,100,250,500,1000 \n",
    "\n",
    "`max_depth`: 50,150,250\n",
    "\n",
    "`min_samples_split`: 2,3\n",
    "\n",
    "`min_samples_leaf`: 1,2,3\n",
    "\n",
    "### Random Forest Model\n",
    "---"
   ]
  },
  {
   "cell_type": "code",
   "execution_count": 62,
   "metadata": {},
   "outputs": [
    {
     "name": "stdout",
     "output_type": "stream",
     "text": [
      "{'n_estimators': (10, 50, 100, 250, 500, 1000), 'max_depth': [50, 150, 250], 'min_samples_split': [2, 3], 'min_samples_leaf': [1, 2, 3]}\n",
      "Fitting 9 folds for each of 108 candidates, totalling 972 fits\n"
     ]
    },
    {
     "name": "stderr",
     "output_type": "stream",
     "text": [
      "[Parallel(n_jobs=-1)]: Using backend LokyBackend with 8 concurrent workers.\n",
      "[Parallel(n_jobs=-1)]: Done  25 tasks      | elapsed:   45.1s\n",
      "/home/vefak/.local/lib/python3.6/site-packages/joblib/externals/loky/process_executor.py:706: UserWarning: A worker stopped while some jobs were given to the executor. This can be caused by a too short worker timeout or by a memory leak.\n",
      "  \"timeout or by a memory leak.\", UserWarning\n",
      "[Parallel(n_jobs=-1)]: Done 146 tasks      | elapsed: 18.4min\n",
      "[Parallel(n_jobs=-1)]: Done 349 tasks      | elapsed: 36.2min\n",
      "[Parallel(n_jobs=-1)]: Done 632 tasks      | elapsed: 62.5min\n",
      "[Parallel(n_jobs=-1)]: Done 972 out of 972 | elapsed: 95.3min finished\n",
      "[Parallel(n_jobs=1)]: Using backend SequentialBackend with 1 concurrent workers.\n",
      "[Parallel(n_jobs=1)]: Done 1000 out of 1000 | elapsed:   56.5s finished\n",
      "[Parallel(n_jobs=1)]: Using backend SequentialBackend with 1 concurrent workers.\n",
      "[Parallel(n_jobs=1)]: Done 1000 out of 1000 | elapsed:    0.7s finished\n",
      "[Parallel(n_jobs=1)]: Using backend SequentialBackend with 1 concurrent workers.\n",
      "[Parallel(n_jobs=1)]: Done 1000 out of 1000 | elapsed:   55.6s finished\n",
      "[Parallel(n_jobs=1)]: Using backend SequentialBackend with 1 concurrent workers.\n",
      "[Parallel(n_jobs=1)]: Done 1000 out of 1000 | elapsed:    0.7s finished\n",
      "[Parallel(n_jobs=1)]: Using backend SequentialBackend with 1 concurrent workers.\n",
      "[Parallel(n_jobs=1)]: Done 1000 out of 1000 | elapsed:   56.8s finished\n",
      "[Parallel(n_jobs=1)]: Using backend SequentialBackend with 1 concurrent workers.\n",
      "[Parallel(n_jobs=1)]: Done 1000 out of 1000 | elapsed:    0.7s finished\n",
      "[Parallel(n_jobs=1)]: Using backend SequentialBackend with 1 concurrent workers.\n",
      "[Parallel(n_jobs=1)]: Done 1000 out of 1000 | elapsed:   57.2s finished\n",
      "[Parallel(n_jobs=1)]: Using backend SequentialBackend with 1 concurrent workers.\n",
      "[Parallel(n_jobs=1)]: Done 1000 out of 1000 | elapsed:    0.7s finished\n",
      "[Parallel(n_jobs=1)]: Using backend SequentialBackend with 1 concurrent workers.\n",
      "[Parallel(n_jobs=1)]: Done 1000 out of 1000 | elapsed:   55.9s finished\n",
      "[Parallel(n_jobs=1)]: Using backend SequentialBackend with 1 concurrent workers.\n",
      "[Parallel(n_jobs=1)]: Done 1000 out of 1000 | elapsed:    0.7s finished\n",
      "[Parallel(n_jobs=1)]: Using backend SequentialBackend with 1 concurrent workers.\n",
      "[Parallel(n_jobs=1)]: Done 1000 out of 1000 | elapsed:   55.5s finished\n",
      "[Parallel(n_jobs=1)]: Using backend SequentialBackend with 1 concurrent workers.\n",
      "[Parallel(n_jobs=1)]: Done 1000 out of 1000 | elapsed:    0.7s finished\n",
      "[Parallel(n_jobs=1)]: Using backend SequentialBackend with 1 concurrent workers.\n",
      "[Parallel(n_jobs=1)]: Done 1000 out of 1000 | elapsed:   55.0s finished\n",
      "[Parallel(n_jobs=1)]: Using backend SequentialBackend with 1 concurrent workers.\n",
      "[Parallel(n_jobs=1)]: Done 1000 out of 1000 | elapsed:    0.7s finished\n",
      "[Parallel(n_jobs=1)]: Using backend SequentialBackend with 1 concurrent workers.\n",
      "[Parallel(n_jobs=1)]: Done 1000 out of 1000 | elapsed:   56.7s finished\n",
      "[Parallel(n_jobs=1)]: Using backend SequentialBackend with 1 concurrent workers.\n",
      "[Parallel(n_jobs=1)]: Done 1000 out of 1000 | elapsed:    0.7s finished\n",
      "[Parallel(n_jobs=1)]: Using backend SequentialBackend with 1 concurrent workers.\n",
      "[Parallel(n_jobs=1)]: Done 1000 out of 1000 | elapsed:   55.9s finished\n",
      "[Parallel(n_jobs=1)]: Using backend SequentialBackend with 1 concurrent workers.\n",
      "[Parallel(n_jobs=1)]: Done 1000 out of 1000 | elapsed:    0.7s finished\n"
     ]
    }
   ],
   "source": [
    "# RandomForest Parameters\n",
    "n_estimators = (10, 50, 100, 250, 500,1000)\n",
    "max_depth = [50,150,250]\n",
    "min_samples_split = [2, 3]\n",
    "min_samples_leaf = [1, 2, 3]\n",
    "\n",
    "params_grid = {'n_estimators': n_estimators,\n",
    "               'max_depth': max_depth,\n",
    "               'min_samples_split': min_samples_split,\n",
    "               'min_samples_leaf': min_samples_leaf\n",
    "              }\n",
    "#Kfold\n",
    "rkf_f = RepeatedKFold(n_splits=3, n_repeats=3, random_state =True)\n",
    "print(params_grid)\n",
    "\n",
    "# I already defined functions for Random Forest\n",
    "#Call two function. First one finds best params\n",
    "#Second one: Calculates score\n",
    "params_out = gridSearchRFR(X_train,y_train,params_grid,scoring=\"roc_auc\",cv=rkf_f)\n",
    "best_param_rfm = params_out.best_params_\n",
    "scores_rfm = RandomForestReg(X_train,y_train,best_param_rfm,scoring=\"roc_auc\",cv=rkf_f)\n",
    "\n",
    "    "
   ]
  },
  {
   "cell_type": "code",
   "execution_count": 67,
   "metadata": {},
   "outputs": [
    {
     "name": "stdout",
     "output_type": "stream",
     "text": [
      "   Best Params = {'max_depth': 50, 'min_samples_leaf': 3, 'min_samples_split': 3, 'n_estimators': 1000}\n",
      "   Mean of Mean Absolute Error = 0.9454260339911992\n",
      "   Std of Mean Absolute Error = 0.0020072820964206115\n"
     ]
    }
   ],
   "source": [
    "print(\"   Best Params = {}\".format(best_param_rfm))\n",
    "print(\"   Mean of Mean Absolute Error = {}\".format(scores_rfm.mean()))\n",
    "print(\"   Std of Mean Absolute Error = {}\".format(scores_rfm.std()))"
   ]
  },
  {
   "cell_type": "markdown",
   "metadata": {},
   "source": [
    "### Task 3 \n",
    "---\n",
    "Build Neural Network with using gridsearch to find best hyperparameters\n",
    "\n",
    "`hidden_layer_sizes`: (10,10,10), (10,10,10,10), (10,10,10,10,10), (10,10,10,10,10,10)\n",
    "\n",
    "`alpha`: 0.00001, 0.0001, 0.001, 0.01, 0.1\n",
    "\n",
    "### MLPClassifier for NN\n"
   ]
  },
  {
   "cell_type": "code",
   "execution_count": 68,
   "metadata": {},
   "outputs": [
    {
     "name": "stdout",
     "output_type": "stream",
     "text": [
      "Fitting 9 folds for each of 20 candidates, totalling 180 fits\n"
     ]
    },
    {
     "name": "stderr",
     "output_type": "stream",
     "text": [
      "[Parallel(n_jobs=-1)]: Using backend LokyBackend with 8 concurrent workers.\n",
      "[Parallel(n_jobs=-1)]: Done  34 tasks      | elapsed:  2.2min\n",
      "[Parallel(n_jobs=-1)]: Done 180 out of 180 | elapsed: 10.6min finished\n"
     ]
    }
   ],
   "source": [
    "#Call MLPClassifier to build Neural Network\n",
    "from sklearn.neural_network import MLPClassifier\n",
    "rkf_y = RepeatedKFold(n_splits=3, n_repeats=3, random_state =True)\n",
    "mlp = MLPClassifier()\n",
    "parameters={\n",
    "'hidden_layer_sizes': [(10,10,10), (10,10,10,10), (10,10,10,10,10), (10,10,10,10,10,10)],\n",
    "'alpha': [0.00001, 0.0001, 0.001, 0.01, 0.1]\n",
    "}\n",
    "\n",
    "mdl= GridSearchCV(mlp,param_grid=parameters,scoring='roc_auc',n_jobs=-1,verbose=1,cv=rkf_y)\n",
    "scores_mdl=mdl.fit(X_train, y_train )"
   ]
  },
  {
   "cell_type": "code",
   "execution_count": 69,
   "metadata": {},
   "outputs": [
    {
     "name": "stdout",
     "output_type": "stream",
     "text": [
      "Best parameter =  {'alpha': 0.1, 'hidden_layer_sizes': (10, 10, 10, 10)}\n",
      "Best score =  0.9408511930890392\n"
     ]
    }
   ],
   "source": [
    "print(\"Best parameter = \",mdl.best_params_)\n",
    "print(\"Best score = \",mdl.best_score_)"
   ]
  },
  {
   "cell_type": "markdown",
   "metadata": {},
   "source": [
    "### Task 4\n",
    "---\n",
    "Create Classification Report.\n",
    "\n",
    "> For this task I found two way to do that. First one uses recall_scorer, precision_scorer and f1_scorer function then use cross_validation. Second uses classification report library to find results. Both methods gives exact same values\n",
    "\n",
    "**Recall**: How many of this class you find over the whole number of element of this class\n",
    "\n",
    "**Precision**: how many are correctly classified among that class\n",
    "\n",
    "**F1-score**: The harmonic mean between precision & recall\n",
    "\n",
    "**Support**: It is the number of occurence of the given class in  dataset"
   ]
  },
  {
   "cell_type": "code",
   "execution_count": 125,
   "metadata": {},
   "outputs": [],
   "source": [
    "from sklearn.metrics import accuracy_score, make_scorer,recall_score\n",
    "from sklearn.metrics import classification_report,precision_score, f1_score\n",
    "\n",
    "#Create General Scorer which returns every score\n",
    "def scorer(x_data,y_data,model,pos_label,cv):\n",
    " \n",
    "    \n",
    "    precision_scorer = make_scorer(precision_score,pos_label=pos_label)\n",
    "    precision = cross_val_score(model, x_data, y_data,cv=cv,scoring=precision_scorer)\n",
    "\n",
    "    recal_scorer= make_scorer(recall_score,pos_label=pos_label)\n",
    "    recall = cross_val_score(model, x_data, y_data,cv=cv,scoring=recal_scorer)\n",
    "\n",
    "    f1_scorer= make_scorer(f1_score,pos_label=pos_label)\n",
    "    f1sc = cross_val_score(model, x_data, y_data,cv=cv,scoring=f1_scorer)\n",
    "    return np.array([precision, recall, f1sc])\n"
   ]
  },
  {
   "cell_type": "markdown",
   "metadata": {},
   "source": [
    "#### Logistic Regression Classification Report\n",
    "---"
   ]
  },
  {
   "cell_type": "code",
   "execution_count": 145,
   "metadata": {},
   "outputs": [
    {
     "data": {
      "text/plain": [
       "0.9090394108602412"
      ]
     },
     "execution_count": 145,
     "metadata": {},
     "output_type": "execute_result"
    }
   ],
   "source": [
    "#Logistic Regression Report\n",
    "rkf = RepeatedKFold(n_splits=5, n_repeats=5, random_state =True)\n",
    "lr = LogisticRegression(C=1)\n",
    "# 'ham' for zeros and 'spam' for ones\n",
    "lr_ham=scorer(X_train,y_train,lr,0,rkf)\n",
    "lr_spam=scorer(X_train,y_train,lr,1,rkf)\n",
    "\n",
    "lr.fit(X_train,y_train)\n",
    "predictions = lr.predict(X_test)\n",
    "accuracy_score(y_test,predictions)"
   ]
  },
  {
   "cell_type": "code",
   "execution_count": 146,
   "metadata": {},
   "outputs": [
    {
     "name": "stdout",
     "output_type": "stream",
     "text": [
      "Logistic Regression Classification Report with C=1\n",
      "O means 'NO' \n",
      "1 means 'YES' \n",
      "---------------------------------------------------\n",
      "     precision             recall               f1-score\n",
      "0    0.9285863861319165     0.9745887853711491     0.9510252259044246\n",
      "1    0.6673541688131711     0.4046359005260105     0.5033752329904952\n",
      "---------------------------------------------------\n",
      "---------------------------------------------------\n",
      "              precision    recall  f1-score   support\n",
      "\n",
      "           0       0.93      0.98      0.95     10940\n",
      "           1       0.68      0.40      0.50      1417\n",
      "\n",
      "    accuracy                           0.91     12357\n",
      "   macro avg       0.80      0.69      0.73     12357\n",
      "weighted avg       0.90      0.91      0.90     12357\n",
      "\n"
     ]
    }
   ],
   "source": [
    "print(\"Logistic Regression Classification Report with C=1\")\n",
    "print(\"O means 'NO' \\n1 means 'YES' \")\n",
    "print(\"---------------------------------------------------\")\n",
    "print(\"     precision             recall               f1-score\")\n",
    "print(\"0    {}     {}     {}\".format(lr_ham[0,:].mean(),lr_ham[1,:].mean(),lr_ham[2,:].mean()))\n",
    "print(\"1    {}     {}     {}\".format(lr_spam[0,:].mean(),lr_spam[1,:].mean(),lr_spam[2,:].mean()))\n",
    "print(\"---------------------------------------------------\")\n",
    "print(\"---------------------------------------------------\")\n",
    "print(classification_report(y_test,predictions))"
   ]
  },
  {
   "cell_type": "markdown",
   "metadata": {},
   "source": [
    "#### Random Forest Regressor Classification Report\n",
    "---\n",
    "> For Random Forest Regressor, the precision and recall scorer were not work. Because RFR has multiple parameter which causes error while training"
   ]
  },
  {
   "cell_type": "code",
   "execution_count": 150,
   "metadata": {},
   "outputs": [
    {
     "name": "stdout",
     "output_type": "stream",
     "text": [
      "{'max_depth': 50, 'min_samples_leaf': 3, 'min_samples_split': 3, 'n_estimators': 1000}\n"
     ]
    },
    {
     "name": "stderr",
     "output_type": "stream",
     "text": [
      "[Parallel(n_jobs=1)]: Using backend SequentialBackend with 1 concurrent workers.\n",
      "[Parallel(n_jobs=1)]: Done 1000 out of 1000 | elapsed:  1.5min finished\n",
      "[Parallel(n_jobs=1)]: Using backend SequentialBackend with 1 concurrent workers.\n"
     ]
    },
    {
     "name": "stdout",
     "output_type": "stream",
     "text": [
      "Random Forest Regressor with Best Hyperparameters\n",
      "---------------------------------------------------\n",
      "Accuracy=  0.9090394108602412\n",
      "              precision    recall  f1-score   support\n",
      "\n",
      "           0       0.93      0.98      0.95     10940\n",
      "           1       0.68      0.40      0.50      1417\n",
      "\n",
      "    accuracy                           0.91     12357\n",
      "   macro avg       0.80      0.69      0.73     12357\n",
      "weighted avg       0.90      0.91      0.90     12357\n",
      "\n"
     ]
    },
    {
     "name": "stderr",
     "output_type": "stream",
     "text": [
      "[Parallel(n_jobs=1)]: Done 1000 out of 1000 | elapsed:    0.9s finished\n"
     ]
    }
   ],
   "source": [
    "# Random Forest Regressor Results\n",
    "# I've already found best_params in task 2 \"best_param_rfm\"\n",
    "print(best_param_rfm)\n",
    "rfr = RandomForestRegressor(max_depth=50, \n",
    "                                n_estimators=1000,\n",
    "                                min_samples_split=3,\n",
    "                                min_samples_leaf=3,\n",
    "                                random_state=True, verbose=1)\n",
    "rfr.fit(X_train,y_train)\n",
    "predictions_rfr = rfr.predict(X_test)\n",
    "\n",
    "print(\"Random Forest Regressor with Best Hyperparameters\")\n",
    "print(\"---------------------------------------------------\")\n",
    "print(\"Accuracy= \", accuracy_score(y_test,predictions_rfr))\n",
    "print(classification_report(y_test,predictions_rfr))"
   ]
  },
  {
   "cell_type": "markdown",
   "metadata": {},
   "source": [
    "#### Neural Network Classification Report"
   ]
  },
  {
   "cell_type": "code",
   "execution_count": 153,
   "metadata": {},
   "outputs": [
    {
     "name": "stderr",
     "output_type": "stream",
     "text": [
      "/home/vefak/.local/lib/python3.6/site-packages/sklearn/neural_network/_multilayer_perceptron.py:571: ConvergenceWarning: Stochastic Optimizer: Maximum iterations (200) reached and the optimization hasn't converged yet.\n",
      "  % self.max_iter, ConvergenceWarning)\n",
      "/home/vefak/.local/lib/python3.6/site-packages/sklearn/neural_network/_multilayer_perceptron.py:571: ConvergenceWarning: Stochastic Optimizer: Maximum iterations (200) reached and the optimization hasn't converged yet.\n",
      "  % self.max_iter, ConvergenceWarning)\n",
      "/home/vefak/.local/lib/python3.6/site-packages/sklearn/neural_network/_multilayer_perceptron.py:571: ConvergenceWarning: Stochastic Optimizer: Maximum iterations (200) reached and the optimization hasn't converged yet.\n",
      "  % self.max_iter, ConvergenceWarning)\n",
      "/home/vefak/.local/lib/python3.6/site-packages/sklearn/neural_network/_multilayer_perceptron.py:571: ConvergenceWarning: Stochastic Optimizer: Maximum iterations (200) reached and the optimization hasn't converged yet.\n",
      "  % self.max_iter, ConvergenceWarning)\n"
     ]
    },
    {
     "data": {
      "text/plain": [
       "0.913814032532168"
      ]
     },
     "execution_count": 153,
     "metadata": {},
     "output_type": "execute_result"
    }
   ],
   "source": [
    "#Call MLPClassifier to build Neural Network\n",
    "from sklearn.neural_network import MLPClassifier\n",
    "mlp = MLPClassifier(alpha = 0.1, hidden_layer_sizes=(10,10,10,10))\n",
    "mlp_ham=scorer(X_train,y_train,mlp,0,rkf)\n",
    "mlp_spam=scorer(X_train,y_train,mlp,1,rkf)\n",
    "\n",
    "mlp.fit(X_train,y_train)\n",
    "predictions_mlp = mlp.predict(X_test)\n",
    "accuracy_score(y_test,predictions_mlp)"
   ]
  },
  {
   "cell_type": "code",
   "execution_count": 154,
   "metadata": {},
   "outputs": [
    {
     "name": "stdout",
     "output_type": "stream",
     "text": [
      "NN Report with alpha=0.1 and hidden_layer_size=(10,10,10,10)\n",
      "O means 'NO' \n",
      "1 means 'YES' \n",
      "---------------------------------------------------\n",
      "     precision             recall               f1-score\n",
      "0    0.9423943315471907     0.9607264706475585     0.9517474750488865\n",
      "1    0.6345920533847988     0.5361477598414031     0.5751675984888988\n",
      "---------------------------------------------------\n",
      "---------------------------------------------------\n",
      "              precision    recall  f1-score   support\n",
      "\n",
      "           0       0.94      0.96      0.95     10940\n",
      "           1       0.65      0.53      0.59      1417\n",
      "\n",
      "    accuracy                           0.91     12357\n",
      "   macro avg       0.80      0.75      0.77     12357\n",
      "weighted avg       0.91      0.91      0.91     12357\n",
      "\n"
     ]
    }
   ],
   "source": [
    "print(\"NN Report with alpha=0.1 and hidden_layer_size=(10,10,10,10)\")\n",
    "print(\"O means 'NO' \\n1 means 'YES' \")\n",
    "print(\"---------------------------------------------------\")\n",
    "print(\"     precision             recall               f1-score\")\n",
    "print(\"0    {}     {}     {}\".format(mlp_ham[0,:].mean(),mlp_ham[1,:].mean(),mlp_ham[2,:].mean()))\n",
    "print(\"1    {}     {}     {}\".format(mlp_spam[0,:].mean(),mlp_spam[1,:].mean(),mlp_spam[2,:].mean()))\n",
    "print(\"---------------------------------------------------\")\n",
    "print(\"---------------------------------------------------\")\n",
    "print(classification_report(y_test,predictions_mlp))"
   ]
  }
 ],
 "metadata": {
  "kernelspec": {
   "display_name": "Python 3",
   "language": "python",
   "name": "python3"
  },
  "language_info": {
   "codemirror_mode": {
    "name": "ipython",
    "version": 3
   },
   "file_extension": ".py",
   "mimetype": "text/x-python",
   "name": "python",
   "nbconvert_exporter": "python",
   "pygments_lexer": "ipython3",
   "version": "3.6.9"
  }
 },
 "nbformat": 4,
 "nbformat_minor": 2
}
