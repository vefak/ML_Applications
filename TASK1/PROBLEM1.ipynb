{
 "cells": [
  {
   "cell_type": "markdown",
   "metadata": {},
   "source": [
    "# BBL536E DATA SCIENCE \n",
    "## HOMEWORK #1\n",
    "---\n",
    "Vefak Murat Akman\n"
   ]
  },
  {
   "cell_type": "markdown",
   "metadata": {},
   "source": [
    "## Problem 1:\n",
    "---\n",
    "### Task 1:\n",
    "\n",
    "Build predictive model using Ridge Regresssion.\\\n",
    "Find optimal alpha parameter: 0.001, 0.01, 0.1, 1.0, 10.0\\\n",
    "Calculate Mean Absolute Error and Mean Squared Errors by using 10-fold 10 repetition. \\\n",
    "Calculate mean score and the standart deviation. "
   ]
  },
  {
   "cell_type": "markdown",
   "metadata": {},
   "source": [
    "### Import Libraries\n",
    "---"
   ]
  },
  {
   "cell_type": "code",
   "execution_count": null,
   "metadata": {},
   "outputs": [],
   "source": [
    "#Import Libraries\n",
    "import pandas as pd\n",
    "from sklearn.linear_model import Ridge\n",
    "from sklearn.model_selection import cross_val_score,RepeatedKFold,GridSearchCV\n",
    "import numpy as np\n",
    "import matplotlib as plt\n",
    "from sklearn.preprocessing import StandardScaler\n",
    "from sklearn.metrics import mean_squared_error"
   ]
  },
  {
   "cell_type": "markdown",
   "metadata": {},
   "source": [
    "### Preparing & Exploring Data\n",
    "---\n",
    "This data about energy analysis using 12 different building shapes.\\\n",
    "X1-to-X8 features about building. y1 and y2 are outcomes. All features are numeric.\n",
    "> **Specifically**: \n",
    "    - X1 Relative Compactness\n",
    "    - X2 Surface Area \n",
    "    - X3 Wall Area \n",
    "    - X4 Roof Area \n",
    "    - X5 Overall Height \n",
    "    - X6 Orientation \n",
    "    - X7 Glazing Area \n",
    "    - X8 Glazing Area Distribution \n",
    "    - Y1 Heating Load \n",
    "    - Y2 Cooling Load"
   ]
  },
  {
   "cell_type": "code",
   "execution_count": null,
   "metadata": {},
   "outputs": [],
   "source": [
    "data = pd.read_excel(\"ENB2012_data.xlsx\")\n",
    "print(\"Length of data= \",len(data))\n",
    "data.head()"
   ]
  },
  {
   "cell_type": "code",
   "execution_count": null,
   "metadata": {},
   "outputs": [],
   "source": [
    "data.describe()"
   ]
  },
  {
   "cell_type": "code",
   "execution_count": null,
   "metadata": {},
   "outputs": [],
   "source": [
    "# Split Data\n",
    "X = data.iloc[:, 0:8].values\n",
    "y1 = data.iloc[:, 8].values\n",
    "y2 = data.iloc[:, 9].values"
   ]
  },
  {
   "cell_type": "markdown",
   "metadata": {},
   "source": [
    "### Ridge Regression\n",
    "---\n",
    "\n",
    "\n",
    "GridSearchCV is used for Task 1. This function can perform finding best alpha value using iteration. \\\n",
    "`best_params_`: Returns optimal alpha.\\\n",
    "`best_score_` : Returns optimal alpha's mean error(MAE or MSE for each cross validations.\\\n",
    "`cv_results_` : Returns results of gridSearchCV. \\\n",
    "`cv_results_[std_test_score]`: Returns std of each alpha parameter.\n",
    "\n"
   ]
  },
  {
   "cell_type": "code",
   "execution_count": null,
   "metadata": {},
   "outputs": [],
   "source": [
    "def findOptimalRidgeAlpha(x_data,y_data,parameters,scoring,cv):\n",
    "    \"\"\"train_test_splitmodel\n",
    "    Arguments:\n",
    "        x_data = Features\n",
    "        y_data = Results (Labels)\n",
    "        parameters = alpha values\n",
    "        scoring = Scoring method \n",
    "        cv = Cross validation method\n",
    "    Return:\n",
    "        best_params_\n",
    "        best_score_\n",
    "        cv_results_\n",
    "    \"\"\"\n",
    "    ridge_model = Ridge()\n",
    "    ridgeRegressor = GridSearchCV(ridge_model,parameters,scoring=scoring,cv=cv)\n",
    "    ridgeRegressor.fit(x_data,y_data)\n",
    "    return ridgeRegressor.best_params_,ridgeRegressor.best_score_ , ridgeRegressor.cv_results_, ridgeRegressor.best_index_\n",
    "\n",
    "#Create reapeted Kfold object with 10 repeats & 10 splits & random_state\n",
    "rkf = RepeatedKFold(n_splits=10, n_repeats=10, random_state =True)\n",
    "#Parameters\n",
    "parameters = {'alpha': [0.001, 0.01, 0.1, 1.0, 10.0]}"
   ]
  },
  {
   "cell_type": "markdown",
   "metadata": {},
   "source": [
    "### Y1 Results:\n",
    "---"
   ]
  },
  {
   "cell_type": "code",
   "execution_count": null,
   "metadata": {},
   "outputs": [],
   "source": [
    "#Optimal parameter for mean_sqauared_error\n",
    "best_alpha_mse,best_scr_mse,results_mse,idx = findOptimalRidgeAlpha(X,y1,parameters,\"neg_mean_squared_error\",rkf)\n",
    "print(\"Mean Squared Error: \")\n",
    "print(\"   Optimal Alpha= {}\".format(best_alpha_mse))\n",
    "print(\"   Mean of Mean Squared Error= {}\".format(best_scr_mse*-1))\n",
    "print(\"   Std of Mean Squared Error= {}\\n\".format(results_mse[\"std_test_score\"][idx]))\n",
    "print(\"**************************************************\\n\")\n",
    "#Optimal parameter for mean_abosule_error\n",
    "best_alpha_mae,best_scr_mae,results_mae, idx = findOptimalRidgeAlpha(X,y1,parameters,\"neg_mean_absolute_error\",rkf)\n",
    "print(\"Mean Absolute Error:\")\n",
    "print(\"   Optimal Alpha= {}\".format(best_alpha_mae))\n",
    "print(\"   Mean of Mean Absolute Error= {}\".format(best_scr_mae*-1))\n",
    "print(\"   Std of Mean Absolute Error= {}\".format(results_mae[\"std_test_score\"][idx]))\n"
   ]
  },
  {
   "cell_type": "markdown",
   "metadata": {},
   "source": [
    "### Y2 Results: \n",
    "---"
   ]
  },
  {
   "cell_type": "code",
   "execution_count": null,
   "metadata": {},
   "outputs": [],
   "source": [
    "#Optimal parameter for mean_sqauared_error\n",
    "best_alpha_mse,best_scr_mse,results_mse,idx = findOptimalRidgeAlpha(X,y2,parameters,\"neg_mean_squared_error\",rkf)\n",
    "print(\"Mean Squared Error: \")\n",
    "print(\"   Optimal Alpha= {}\".format(best_alpha_mse))\n",
    "print(\"   Mean of Mean Squared Error= {}\".format(best_scr_mse*-1))\n",
    "print(\"   Std of Mean Squared Error= {}\\n\".format(results_mse[\"std_test_score\"][idx]))\n",
    "print(\"**************************************************\\n\")\n",
    "#Optimal parameter train_test_splitmodelfor mean_abosule_error\n",
    "best_alpha_mae,best_scr_mae,results_mae,idx = findOptimalRidgeAlpha(X,y2,parameters,\"neg_mean_absolute_error\",rkf)\n",
    "print(\"Mean Absolute Error:\")\n",
    "print(\"   Optimal Alpha= {}\".format(best_alpha_mae))\n",
    "print(\"   Mean of Mean Squared Error= {}\".format(best_scr_mae*-1))\n",
    "print(\"   Std of Mean Squared Error= {}\".format(results_mae[\"std_test_score\"][idx]))"
   ]
  },
  {
   "cell_type": "markdown",
   "metadata": {},
   "source": [
    "#### Double check for results. \n",
    "In the below I tested the alpha=0.001 with same cv and scoring.\\\n",
    "The results are same. I would say that the proposed method is correct. \\\n",
    "Comment / Uncomment the lines to test other result."
   ]
  },
  {
   "cell_type": "code",
   "execution_count": null,
   "metadata": {},
   "outputs": [],
   "source": [
    "model = Ridge(alpha=0.01)\n",
    "scoring = 'neg_mean_absolute_error'\n",
    "#scoring = 'neg_mean_squared_error'\n",
    "#results = cross_val_score(model, X, y1, cv=rkf, scoring=scoring)\n",
    "results = cross_val_score(model, X, y2, cv=rkf, scoring=scoring)\n",
    "print(results.mean(axis=0)*-1)\n",
    "print(results.std(axis=0))"
   ]
  },
  {
   "cell_type": "markdown",
   "metadata": {},
   "source": [
    "## Problem 1:\n",
    "---\n",
    "## Task 2:\n",
    "\n",
    "Use gridsearch to find optimal parameters \\\n",
    "Calculate Mean Absoulute Error and Mean Squared Error \\\n",
    "Find mean and std of them\n",
    "\n",
    "*The data is already provided. There is no need to call them again. \n",
    "\n"
   ]
  },
  {
   "cell_type": "markdown",
   "metadata": {},
   "source": [
    "### Random Forest Regression \n",
    "\n",
    "### Import Libraries"
   ]
  },
  {
   "cell_type": "code",
   "execution_count": null,
   "metadata": {},
   "outputs": [],
   "source": [
    "from sklearn.model_selection import cross_val_score, GridSearchCV\n",
    "from sklearn.ensemble import RandomForestRegressor\n",
    "from sklearn.preprocessing import MinMaxScaler\n",
    "from sklearn.model_selection import train_test_split"
   ]
  },
  {
   "cell_type": "markdown",
   "metadata": {},
   "source": [
    "### Define Parameters & Cross Validation Method"
   ]
  },
  {
   "cell_type": "code",
   "execution_count": null,
   "metadata": {},
   "outputs": [],
   "source": [
    "# RandomForest Parameters\n",
    "n_estimators = (10, 50, 100, 250, 500)\n",
    "max_depth = [50,150,250]\n",
    "min_samples_split = [2, 3]\n",
    "min_samples_leaf = [1, 2, 3]\n",
    "\n",
    "params_grid = {'n_estimators': n_estimators,\n",
    "               'max_depth': max_depth,\n",
    "               'min_samples_split': min_samples_split,\n",
    "               'min_samples_leaf': min_samples_leaf\n",
    "              }\n",
    "#Kfold\n",
    "rkf = RepeatedKFold(n_splits=10, n_repeats=10, random_state =True)\n",
    "print(params_grid)"
   ]
  },
  {
   "cell_type": "markdown",
   "metadata": {},
   "source": [
    "### Define Random Forest Regressor Function and Grid Search Function to Find Parameters "
   ]
  },
  {
   "cell_type": "code",
   "execution_count": null,
   "metadata": {},
   "outputs": [],
   "source": [
    "#Grid Search \n",
    "def gridSearchRFR(x_data,y_data,param_grid,scoring,cv):\n",
    "    grid_model = GridSearchCV(\n",
    "                estimator=RandomForestRegressor(),\n",
    "                param_grid=param_grid,\n",
    "                cv=cv, scoring=scoring, verbose=2, n_jobs=-1)\n",
    "    results=grid_model.fit(x_data,y_data)\n",
    "    return results\n",
    "#Random Forest Regressor\n",
    "def RandomForestReg(x_data,y_data,best_params,scoring,cv):\n",
    "    rfr = RandomForestRegressor(max_depth=best_params[\"max_depth\"], \n",
    "                                    n_estimators=best_params[\"n_estimators\"],\n",
    "                                    min_samples_split=best_params[\"min_samples_split\"],\n",
    "                                    min_samples_leaf=best_params[\"min_samples_leaf\"],\n",
    "                                    random_state=True, verbose=1)\n",
    "    scores = cross_val_score(rfr, x_data, y_data, scoring=scoring,  cv=cv)\n",
    "    return scores\n",
    "    "
   ]
  },
  {
   "cell_type": "markdown",
   "metadata": {},
   "source": [
    "### Y1 Results:\n",
    "---"
   ]
  },
  {
   "cell_type": "code",
   "execution_count": null,
   "metadata": {
    "scrolled": true
   },
   "outputs": [],
   "source": [
    "#Finding best parameters for Y1 with neg_mean_squared_error\n",
    "y1_param_sqr = gridSearchRFR(X,y1,params_grid,scoring=\"neg_mean_squared_error\",cv=rkf)\n"
   ]
  },
  {
   "cell_type": "code",
   "execution_count": null,
   "metadata": {
    "scrolled": true
   },
   "outputs": [],
   "source": [
    "#Calculate scores\n",
    "y1_best_sqr = y1_param_sqr.best_params_\n",
    "y1_scores_sqr = RandomForestReg(X,y1,y1_best_sqr,scoring=\"neg_mean_squared_error\",cv=rkf)\n"
   ]
  },
  {
   "cell_type": "code",
   "execution_count": null,
   "metadata": {
    "scrolled": true
   },
   "outputs": [],
   "source": [
    "#Finding best parameters for Y1 with neg_mean_absolute_error\n",
    "y1_param_abs = gridSearchRFR(X,y1,params_grid,scoring=\"neg_mean_absolute_error\",cv=rkf)\n"
   ]
  },
  {
   "cell_type": "code",
   "execution_count": null,
   "metadata": {},
   "outputs": [],
   "source": [
    "y1_best_abs = y1_param_abs.best_params_\n",
    "y1_scores_abs = RandomForestReg(X,y1,y1_best_abs,scoring=\"neg_mean_absolute_error\",cv=rkf)\n"
   ]
  },
  {
   "cell_type": "code",
   "execution_count": null,
   "metadata": {},
   "outputs": [],
   "source": [
    "print(\"Mean Squared Error: \")\n",
    "print(\"   Best Params{}\".format(y1_best_sqr))\n",
    "print(\"   Mean of Mean Squared Error= {}\".format(y1_scores_sqr.mean()))\n",
    "print(\"   Std of Mean Squared Error= {}\\n\".format(y1_scores_sqr.std()))\n",
    "\n",
    "\n",
    "print(\"**************************************************\\n\")\n",
    "#Optimal parameter train_test_splitmodelfor mean_abosule_error\n",
    "print(\"Mean Absolute Error:\")\n",
    "print(\"   Optimal Alpha= {}\".format(y1_best_abs))\n",
    "print(\"   Mean of Mean Absolute Error= {}\".format(y1_scores_abs.mean()))\n",
    "print(\"   Std of Mean Absolute Error= {}\".format(y1_scores_abs.std()))"
   ]
  },
  {
   "cell_type": "code",
   "execution_count": null,
   "metadata": {},
   "outputs": [],
   "source": []
  },
  {
   "cell_type": "markdown",
   "metadata": {},
   "source": [
    "### Y2 Results:\n",
    "---"
   ]
  },
  {
   "cell_type": "code",
   "execution_count": null,
   "metadata": {
    "scrolled": true
   },
   "outputs": [],
   "source": [
    "#Finding best parameters for Y1 with neg_mean_squared_error\n",
    "y1_param_sqr = gridSearchRFR(X,y1,params_grid,scoring=\"neg_mean_squared_error\",cv=rkf)\n"
   ]
  },
  {
   "cell_type": "code",
   "execution_count": null,
   "metadata": {
    "scrolled": true
   },
   "outputs": [],
   "source": [
    "#Calculate scores\n",
    "y1_best_sqr = y1_param_sqr.best_params_\n",
    "y1_scores_sqr = RandomForestReg(X,y1,y1_best_sqr,scoring=\"neg_mean_squared_error\",cv=rkf)\n"
   ]
  },
  {
   "cell_type": "code",
   "execution_count": null,
   "metadata": {
    "scrolled": true
   },
   "outputs": [],
   "source": [
    "#Finding best parameters for Y1 with neg_mean_absolute_error\n",
    "y1_param_abs = gridSearchRFR(X,y1,params_grid,scoring=\"neg_mean_absolute_error\",cv=rkf)\n"
   ]
  },
  {
   "cell_type": "code",
   "execution_count": null,
   "metadata": {},
   "outputs": [],
   "source": [
    "y1_best_abs = y1_param_abs.best_params_\n",
    "y1_scores_abs = RandomForestReg(X,y1,y1_best_abs,scoring=\"neg_mean_absolute_error\",cv=rkf)\n"
   ]
  },
  {
   "cell_type": "code",
   "execution_count": null,
   "metadata": {},
   "outputs": [],
   "source": [
    "print(\"Mean Squared Error: \")\n",
    "print(\"   Best Params{}\".format(y1_best_sqr))\n",
    "print(\"   Mean of Mean Squared Error= {}\".format(y1_scores_sqr.mean()))\n",
    "print(\"   Std of Mean Squared Error= {}\\n\".format(y1_scores_sqr.std()))\n",
    "\n",
    "\n",
    "print(\"**************************************************\\n\")\n",
    "#Optimal parameter train_test_splitmodelfor mean_abosule_error\n",
    "print(\"Mean Absolute Error:\")\n",
    "print(\"   Optimal Alpha= {}\".format(y1_best_abs))\n",
    "print(\"   Mean of Mean Absolute Error= {}\".format(y1_scores_abs.mean()))\n",
    "print(\"   Std of Mean Absolute Error= {}\".format(y1_scores_abs.std()))"
   ]
  },
  {
   "cell_type": "code",
   "execution_count": null,
   "metadata": {},
   "outputs": [],
   "source": []
  }
 ],
 "metadata": {
  "kernelspec": {
   "display_name": "Python 3",
   "language": "python",
   "name": "python3"
  },
  "language_info": {
   "codemirror_mode": {
    "name": "ipython",
    "version": 3
   },
   "file_extension": ".py",
   "mimetype": "text/x-python",
   "name": "python",
   "nbconvert_exporter": "python",
   "pygments_lexer": "ipython3",
   "version": "3.7.7"
  }
 },
 "nbformat": 4,
 "nbformat_minor": 2
}
