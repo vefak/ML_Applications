{
 "cells": [
  {
   "cell_type": "markdown",
   "metadata": {},
   "source": [
    "# BBL536E DATA SCIENCE \n",
    "## HOMEWORK #1\n",
    "---\n",
    "Vefak Murat Akman\n"
   ]
  },
  {
   "cell_type": "markdown",
   "metadata": {},
   "source": [
    "## Problem 1:\n",
    "---\n",
    "## Task 1:\n",
    "\n",
    "Build predictive model using Ridge Regresssion.\\\n",
    "Find optimal alpha parameter: 0.001, 0.01, 0.1, 1.0, 10.0\\\n",
    "Calculate Mean Absolute Error and Mean Squared Errors by using 10-fold 10 repetition \\\n",
    "Calculate mean score and the standart deviation "
   ]
  },
  {
   "cell_type": "markdown",
   "metadata": {},
   "source": [
    "### Import Libraries"
   ]
  },
  {
   "cell_type": "code",
   "execution_count": 2,
   "metadata": {},
   "outputs": [],
   "source": [
    "#Import Libraries\n",
    "import pandas as pd\n",
    "from sklearn.linear_model import Ridge\n",
    "from sklearn.model_selection import cross_val_score,RepeatedKFold,GridSearchCV\n",
    "import numpy as np\n",
    "import matplotlib as plt\n",
    "from sklearn.preprocessing import StandardScaler\n",
    "from sklearn.metrics import mean_squared_error"
   ]
  },
  {
   "cell_type": "markdown",
   "metadata": {},
   "source": [
    "### Preparing & Exploring Data\n",
    "---\n",
    "This data about energy analysis using 12 different building shapes.\\\n",
    "X1-to-X8 features about building. y1 and y2 are outcomes. All features are numeric.\n",
    "> **Specifically**: \n",
    "    - X1 Relative Compactness\n",
    "    - X2 Surface Area \n",
    "    - X3 Wall Area \n",
    "    - X4 Roof Area \n",
    "    - X5 Overall Height \n",
    "    - X6 Orientation \n",
    "    - X7 Glazing Area \n",
    "    - X8 Glazing Area Distribution \n",
    "    - Y1 Heating Load \n",
    "    - Y2 Cooling Load"
   ]
  },
  {
   "cell_type": "code",
   "execution_count": 3,
   "metadata": {},
   "outputs": [
    {
     "name": "stdout",
     "output_type": "stream",
     "text": [
      "Length of data=  768\n"
     ]
    },
    {
     "data": {
      "text/html": [
       "<div>\n",
       "<style scoped>\n",
       "    .dataframe tbody tr th:only-of-type {\n",
       "        vertical-align: middle;\n",
       "    }\n",
       "\n",
       "    .dataframe tbody tr th {\n",
       "        vertical-align: top;\n",
       "    }\n",
       "\n",
       "    .dataframe thead th {\n",
       "        text-align: right;\n",
       "    }\n",
       "</style>\n",
       "<table border=\"1\" class=\"dataframe\">\n",
       "  <thead>\n",
       "    <tr style=\"text-align: right;\">\n",
       "      <th></th>\n",
       "      <th>X1</th>\n",
       "      <th>X2</th>\n",
       "      <th>X3</th>\n",
       "      <th>X4</th>\n",
       "      <th>X5</th>\n",
       "      <th>X6</th>\n",
       "      <th>X7</th>\n",
       "      <th>X8</th>\n",
       "      <th>Y1</th>\n",
       "      <th>Y2</th>\n",
       "    </tr>\n",
       "  </thead>\n",
       "  <tbody>\n",
       "    <tr>\n",
       "      <th>0</th>\n",
       "      <td>0.98</td>\n",
       "      <td>514.5</td>\n",
       "      <td>294.0</td>\n",
       "      <td>110.25</td>\n",
       "      <td>7.0</td>\n",
       "      <td>2</td>\n",
       "      <td>0.0</td>\n",
       "      <td>0</td>\n",
       "      <td>15.55</td>\n",
       "      <td>21.33</td>\n",
       "    </tr>\n",
       "    <tr>\n",
       "      <th>1</th>\n",
       "      <td>0.98</td>\n",
       "      <td>514.5</td>\n",
       "      <td>294.0</td>\n",
       "      <td>110.25</td>\n",
       "      <td>7.0</td>\n",
       "      <td>3</td>\n",
       "      <td>0.0</td>\n",
       "      <td>0</td>\n",
       "      <td>15.55</td>\n",
       "      <td>21.33</td>\n",
       "    </tr>\n",
       "    <tr>\n",
       "      <th>2</th>\n",
       "      <td>0.98</td>\n",
       "      <td>514.5</td>\n",
       "      <td>294.0</td>\n",
       "      <td>110.25</td>\n",
       "      <td>7.0</td>\n",
       "      <td>4</td>\n",
       "      <td>0.0</td>\n",
       "      <td>0</td>\n",
       "      <td>15.55</td>\n",
       "      <td>21.33</td>\n",
       "    </tr>\n",
       "    <tr>\n",
       "      <th>3</th>\n",
       "      <td>0.98</td>\n",
       "      <td>514.5</td>\n",
       "      <td>294.0</td>\n",
       "      <td>110.25</td>\n",
       "      <td>7.0</td>\n",
       "      <td>5</td>\n",
       "      <td>0.0</td>\n",
       "      <td>0</td>\n",
       "      <td>15.55</td>\n",
       "      <td>21.33</td>\n",
       "    </tr>\n",
       "    <tr>\n",
       "      <th>4</th>\n",
       "      <td>0.90</td>\n",
       "      <td>563.5</td>\n",
       "      <td>318.5</td>\n",
       "      <td>122.50</td>\n",
       "      <td>7.0</td>\n",
       "      <td>2</td>\n",
       "      <td>0.0</td>\n",
       "      <td>0</td>\n",
       "      <td>20.84</td>\n",
       "      <td>28.28</td>\n",
       "    </tr>\n",
       "  </tbody>\n",
       "</table>\n",
       "</div>"
      ],
      "text/plain": [
       "     X1     X2     X3      X4   X5  X6   X7  X8     Y1     Y2\n",
       "0  0.98  514.5  294.0  110.25  7.0   2  0.0   0  15.55  21.33\n",
       "1  0.98  514.5  294.0  110.25  7.0   3  0.0   0  15.55  21.33\n",
       "2  0.98  514.5  294.0  110.25  7.0   4  0.0   0  15.55  21.33\n",
       "3  0.98  514.5  294.0  110.25  7.0   5  0.0   0  15.55  21.33\n",
       "4  0.90  563.5  318.5  122.50  7.0   2  0.0   0  20.84  28.28"
      ]
     },
     "execution_count": 3,
     "metadata": {},
     "output_type": "execute_result"
    }
   ],
   "source": [
    "data = pd.read_excel(\"ENB2012_data.xlsx\")\n",
    "print(\"Length of data= \",len(data))\n",
    "data.head()"
   ]
  },
  {
   "cell_type": "code",
   "execution_count": 4,
   "metadata": {},
   "outputs": [
    {
     "data": {
      "text/html": [
       "<div>\n",
       "<style scoped>\n",
       "    .dataframe tbody tr th:only-of-type {\n",
       "        vertical-align: middle;\n",
       "    }\n",
       "\n",
       "    .dataframe tbody tr th {\n",
       "        vertical-align: top;\n",
       "    }\n",
       "\n",
       "    .dataframe thead th {\n",
       "        text-align: right;\n",
       "    }\n",
       "</style>\n",
       "<table border=\"1\" class=\"dataframe\">\n",
       "  <thead>\n",
       "    <tr style=\"text-align: right;\">\n",
       "      <th></th>\n",
       "      <th>X1</th>\n",
       "      <th>X2</th>\n",
       "      <th>X3</th>\n",
       "      <th>X4</th>\n",
       "      <th>X5</th>\n",
       "      <th>X6</th>\n",
       "      <th>X7</th>\n",
       "      <th>X8</th>\n",
       "      <th>Y1</th>\n",
       "      <th>Y2</th>\n",
       "    </tr>\n",
       "  </thead>\n",
       "  <tbody>\n",
       "    <tr>\n",
       "      <th>count</th>\n",
       "      <td>768.000000</td>\n",
       "      <td>768.000000</td>\n",
       "      <td>768.000000</td>\n",
       "      <td>768.000000</td>\n",
       "      <td>768.00000</td>\n",
       "      <td>768.000000</td>\n",
       "      <td>768.000000</td>\n",
       "      <td>768.00000</td>\n",
       "      <td>768.000000</td>\n",
       "      <td>768.000000</td>\n",
       "    </tr>\n",
       "    <tr>\n",
       "      <th>mean</th>\n",
       "      <td>0.764167</td>\n",
       "      <td>671.708333</td>\n",
       "      <td>318.500000</td>\n",
       "      <td>176.604167</td>\n",
       "      <td>5.25000</td>\n",
       "      <td>3.500000</td>\n",
       "      <td>0.234375</td>\n",
       "      <td>2.81250</td>\n",
       "      <td>22.307195</td>\n",
       "      <td>24.587760</td>\n",
       "    </tr>\n",
       "    <tr>\n",
       "      <th>std</th>\n",
       "      <td>0.105777</td>\n",
       "      <td>88.086116</td>\n",
       "      <td>43.626481</td>\n",
       "      <td>45.165950</td>\n",
       "      <td>1.75114</td>\n",
       "      <td>1.118763</td>\n",
       "      <td>0.133221</td>\n",
       "      <td>1.55096</td>\n",
       "      <td>10.090204</td>\n",
       "      <td>9.513306</td>\n",
       "    </tr>\n",
       "    <tr>\n",
       "      <th>min</th>\n",
       "      <td>0.620000</td>\n",
       "      <td>514.500000</td>\n",
       "      <td>245.000000</td>\n",
       "      <td>110.250000</td>\n",
       "      <td>3.50000</td>\n",
       "      <td>2.000000</td>\n",
       "      <td>0.000000</td>\n",
       "      <td>0.00000</td>\n",
       "      <td>6.010000</td>\n",
       "      <td>10.900000</td>\n",
       "    </tr>\n",
       "    <tr>\n",
       "      <th>25%</th>\n",
       "      <td>0.682500</td>\n",
       "      <td>606.375000</td>\n",
       "      <td>294.000000</td>\n",
       "      <td>140.875000</td>\n",
       "      <td>3.50000</td>\n",
       "      <td>2.750000</td>\n",
       "      <td>0.100000</td>\n",
       "      <td>1.75000</td>\n",
       "      <td>12.992500</td>\n",
       "      <td>15.620000</td>\n",
       "    </tr>\n",
       "    <tr>\n",
       "      <th>50%</th>\n",
       "      <td>0.750000</td>\n",
       "      <td>673.750000</td>\n",
       "      <td>318.500000</td>\n",
       "      <td>183.750000</td>\n",
       "      <td>5.25000</td>\n",
       "      <td>3.500000</td>\n",
       "      <td>0.250000</td>\n",
       "      <td>3.00000</td>\n",
       "      <td>18.950000</td>\n",
       "      <td>22.080000</td>\n",
       "    </tr>\n",
       "    <tr>\n",
       "      <th>75%</th>\n",
       "      <td>0.830000</td>\n",
       "      <td>741.125000</td>\n",
       "      <td>343.000000</td>\n",
       "      <td>220.500000</td>\n",
       "      <td>7.00000</td>\n",
       "      <td>4.250000</td>\n",
       "      <td>0.400000</td>\n",
       "      <td>4.00000</td>\n",
       "      <td>31.667500</td>\n",
       "      <td>33.132500</td>\n",
       "    </tr>\n",
       "    <tr>\n",
       "      <th>max</th>\n",
       "      <td>0.980000</td>\n",
       "      <td>808.500000</td>\n",
       "      <td>416.500000</td>\n",
       "      <td>220.500000</td>\n",
       "      <td>7.00000</td>\n",
       "      <td>5.000000</td>\n",
       "      <td>0.400000</td>\n",
       "      <td>5.00000</td>\n",
       "      <td>43.100000</td>\n",
       "      <td>48.030000</td>\n",
       "    </tr>\n",
       "  </tbody>\n",
       "</table>\n",
       "</div>"
      ],
      "text/plain": [
       "               X1          X2          X3          X4         X5          X6  \\\n",
       "count  768.000000  768.000000  768.000000  768.000000  768.00000  768.000000   \n",
       "mean     0.764167  671.708333  318.500000  176.604167    5.25000    3.500000   \n",
       "std      0.105777   88.086116   43.626481   45.165950    1.75114    1.118763   \n",
       "min      0.620000  514.500000  245.000000  110.250000    3.50000    2.000000   \n",
       "25%      0.682500  606.375000  294.000000  140.875000    3.50000    2.750000   \n",
       "50%      0.750000  673.750000  318.500000  183.750000    5.25000    3.500000   \n",
       "75%      0.830000  741.125000  343.000000  220.500000    7.00000    4.250000   \n",
       "max      0.980000  808.500000  416.500000  220.500000    7.00000    5.000000   \n",
       "\n",
       "               X7         X8          Y1          Y2  \n",
       "count  768.000000  768.00000  768.000000  768.000000  \n",
       "mean     0.234375    2.81250   22.307195   24.587760  \n",
       "std      0.133221    1.55096   10.090204    9.513306  \n",
       "min      0.000000    0.00000    6.010000   10.900000  \n",
       "25%      0.100000    1.75000   12.992500   15.620000  \n",
       "50%      0.250000    3.00000   18.950000   22.080000  \n",
       "75%      0.400000    4.00000   31.667500   33.132500  \n",
       "max      0.400000    5.00000   43.100000   48.030000  "
      ]
     },
     "execution_count": 4,
     "metadata": {},
     "output_type": "execute_result"
    }
   ],
   "source": [
    "data.describe()"
   ]
  },
  {
   "cell_type": "code",
   "execution_count": 8,
   "metadata": {},
   "outputs": [],
   "source": [
    "# Split Data\n",
    "X = data.iloc[:, 0:8].values\n",
    "y1 = data.iloc[:, 8].values\n",
    "y2 = data.iloc[:, 9].values"
   ]
  },
  {
   "cell_type": "markdown",
   "metadata": {},
   "source": [
    "### Ridge Regression"
   ]
  },
  {
   "cell_type": "markdown",
   "metadata": {},
   "source": [
    "### Find optimal Alpha and Best Error Score\n",
    "\n",
    "GridSearchCV is used for Task 1. This function can perform finding best alpha value using iteration \\\n",
    "`best_params_`: Returns optimal alpha\\\n",
    "`best_score_` : Returns optimal alpha's mean error(MAE or MSE for each cross validations\\\n",
    "`cv_results_` : Returns results of gridSearchCV\n",
    "`cv_results_[std_test_score]`: Returns std of each alpha parameter. The first one is \n",
    "\n",
    "\n",
    "---  \n",
    "\n"
   ]
  },
  {
   "cell_type": "code",
   "execution_count": 35,
   "metadata": {},
   "outputs": [],
   "source": [
    "def findOptimalRidgeAlpha(x_data,y_data,parameters,scoring,cv):\n",
    "    \"\"\"\n",
    "    Arguments:\n",
    "        x_data = Features\n",
    "        y_data = Results (Labels)\n",
    "        parameters = alpha values\n",
    "        scoring = Scoring method \n",
    "        cv = Cross validation method\n",
    "    Return:\n",
    "        best_params_\n",
    "        best_score_\n",
    "        cv_results_\n",
    "    \"\"\"\n",
    "    ridge_model = Ridge()\n",
    "    ridgeRegressor = GridSearchCV(ridge_model,parameters,scoring=scoring,cv=cv)\n",
    "    ridgeRegressor.fit(x_data,y_data)\n",
    "    return ridgeRegressor.best_params_, ridgeRegressor.best_score_ , ridgeRegressor.cv_results_\n",
    "\n",
    "#Create reapeted Kfold object with 10 repeats & 10 splits & random_state\n",
    "rkf = RepeatedKFold(n_splits=10, n_repeats=10, random_state =True)\n",
    "#Parameters\n",
    "parameters = {'alpha': [0.001, 0.01, 0.1, 1.0, 10.0]}"
   ]
  },
  {
   "cell_type": "markdown",
   "metadata": {},
   "source": [
    "### Y1 Results:\n",
    "---"
   ]
  },
  {
   "cell_type": "code",
   "execution_count": 32,
   "metadata": {},
   "outputs": [
    {
     "name": "stdout",
     "output_type": "stream",
     "text": [
      "Mean Squared Error: \n",
      "   Optimal Alpha= {'alpha': 0.001}\n",
      "   Mean of Mean Absolute Error= -8.710823249413723\n",
      "   Std of Mean Absolute Error= 1.7413434482072387\n",
      "\n",
      "**************************************************\n",
      "\n",
      "Mean Absolute Error:\n",
      "   Optimal Alpha= {'alpha': 0.001}\n",
      "   Mean of Mean Absolute Error= -2.0910518036913515\n",
      "   Std of Mean Absolute Error= 0.23614822382853362\n"
     ]
    }
   ],
   "source": [
    "#Optimal parameter for mean_sqauared_error\n",
    "best_alpha_mse,best_scr_mse,results_mse = findOptimalRidgeAlpha(X,y1,parameters,\"neg_mean_squared_error\",rkf)\n",
    "print(\"Mean Squared Error: \")\n",
    "print(\"   Optimal Alpha= {}\".format(best_alpha_mse))\n",
    "print(\"   Mean of Mean Absolute Error= {}\".format(best_scr_mse))\n",
    "print(\"   Std of Mean Absolute Error= {}\\n\".format(results_mse[\"std_test_score\"][0]))\n",
    "print(\"**************************************************\\n\")\n",
    "#Optimal parameter for mean_abosule_error\n",
    "best_alpha_mae,best_scr_mae,results_mae = findOptimalRidgeAlpha(X,y1,parameters,\"neg_mean_absolute_error\",rkf)\n",
    "print(\"Mean Absolute Error:\")\n",
    "print(\"   Optimal Alpha= {}\".format(best_alpha_mae))\n",
    "print(\"   Mean of Mean Absolute Error= {}\".format(best_scr_mae))\n",
    "print(\"   Std of Mean Absolute Error= {}\".format(results_mae[\"std_test_score\"][0]))\n"
   ]
  },
  {
   "cell_type": "markdown",
   "metadata": {},
   "source": [
    "### Y2 Results: \n",
    "---"
   ]
  },
  {
   "cell_type": "code",
   "execution_count": 36,
   "metadata": {},
   "outputs": [
    {
     "name": "stdout",
     "output_type": "stream",
     "text": [
      "Mean Squared Error: \n",
      "   Optimal Alpha= {'alpha': 0.001}\n",
      "   Mean of Mean Absolute Error= -10.353927888203641\n",
      "   Std of Mean Absolute Error= 2.53101017995386\n",
      "\n",
      "**************************************************\n",
      "\n",
      "Mean Absolute Error:\n",
      "   Optimal Alpha= {'alpha': 0.01}\n",
      "   Mean of Mean Absolute Error= -2.266249368365367\n",
      "   Std of Mean Absolute Error= 0.2695020960123341\n"
     ]
    }
   ],
   "source": [
    "#Optimal parameter for mean_sqauared_error\n",
    "best_alpha_mse,best_scr_mse,results_mse = findOptimalRidgeAlpha(X,y2,parameters,\"neg_mean_squared_error\",rkf)\n",
    "print(\"Mean Squared Error: \")\n",
    "print(\"   Optimal Alpha= {}\".format(best_alpha_mse))\n",
    "print(\"   Mean of Mean Absolute Error= {}\".format(best_scr_mse))\n",
    "print(\"   Std of Mean Absolute Error= {}\\n\".format(results_mse[\"std_test_score\"][0]))\n",
    "print(\"**************************************************\\n\")\n",
    "#Optimal parameter for mean_abosule_error\n",
    "best_alpha_mae,best_scr_mae,results_mae = findOptimalRidgeAlpha(X,y2,parameters,\"neg_mean_absolute_error\",rkf)\n",
    "print(\"Mean Absolute Error:\")\n",
    "print(\"   Optimal Alpha= {}\".format(best_alpha_mae))\n",
    "print(\"   Mean of Mean Absolute Error= {}\".format(best_scr_mae))\n",
    "print(\"   Std of Mean Absolute Error= {}\".format(results_mae[\"std_test_score\"][0]))"
   ]
  },
  {
   "cell_type": "markdown",
   "metadata": {},
   "source": [
    "#### Double check for results. \n",
    "In the below I tested the alpha=0.001 with same cv and scoring.\\\n",
    "The results are same. I would say that the proposed method is correct\n",
    "You can change the parameters to test other values"
   ]
  },
  {
   "cell_type": "code",
   "execution_count": 40,
   "metadata": {},
   "outputs": [
    {
     "name": "stdout",
     "output_type": "stream",
     "text": [
      "-2.266249368365367\n",
      "0.2698513327435206\n"
     ]
    }
   ],
   "source": [
    "model = Ridge(alpha=0.01)\n",
    "scoring = 'neg_mean_absolute_error'\n",
    "#scoring = 'neg_mean_squared_error'\n",
    "#results = cross_val_score(model, X, y1, cv=rkf, scoring=scoring)\n",
    "results = cross_val_score(model, X, y2, cv=rkf, scoring=scoring)\n",
    "print(results.mean(axis=0))\n",
    "print(results.std(axis=0))"
   ]
  },
  {
   "cell_type": "code",
   "execution_count": null,
   "metadata": {},
   "outputs": [],
   "source": [
    "### RandomForest"
   ]
  }
 ],
 "metadata": {
  "kernelspec": {
   "display_name": "Python 3",
   "language": "python",
   "name": "python3"
  },
  "language_info": {
   "codemirror_mode": {
    "name": "ipython",
    "version": 3
   },
   "file_extension": ".py",
   "mimetype": "text/x-python",
   "name": "python",
   "nbconvert_exporter": "python",
   "pygments_lexer": "ipython3",
   "version": "3.7.7"
  }
 },
 "nbformat": 4,
 "nbformat_minor": 2
}
