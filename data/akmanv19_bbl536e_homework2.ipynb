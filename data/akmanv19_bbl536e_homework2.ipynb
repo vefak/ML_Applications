{
 "cells": [
  {
   "cell_type": "markdown",
   "metadata": {},
   "source": [
    "# BBL536E DATA SCIENCE \n",
    "## HOMEWORK #2\n",
    "---\n",
    "Vefak Murat Akman\n"
   ]
  },
  {
   "cell_type": "markdown",
   "metadata": {},
   "source": [
    "## Problem 1:\n",
    "\n",
    "`def problem1`\n",
    "\n",
    "---\n",
    "### Mutual Information Score Method\n",
    "---\n",
    "The Mutual Information is a measure of the similarity between two labels of the same data. Get Top-4 features\n",
    "\n",
    "### Recursive Feature Elimination Method\n",
    "---\n",
    "Given an external estimator that assigns weights to features (e.g., the coefficients of a linear model), the goal of recursive feature elimination (RFE) is to select features by recursively considering smaller and smaller sets of features. \n",
    "\n",
    "I used RFE with Ridge Regressor. Rigde Regressor parameters were default. Get Top-4 features\n"
   ]
  },
  {
   "cell_type": "markdown",
   "metadata": {},
   "source": [
    "### Import Libraries\n",
    "---"
   ]
  },
  {
   "cell_type": "code",
   "execution_count": 11,
   "metadata": {},
   "outputs": [],
   "source": [
    "#Import Libraries\n",
    "import pandas as pd\n",
    "import numpy as np\n",
    "import matplotlib.pyplot as plt"
   ]
  },
  {
   "cell_type": "markdown",
   "metadata": {},
   "source": [
    "### Preparing & Exploring Data\n",
    "---\n",
    "This data about effect of features on calory burning\n",
    "\n",
    "    - Calories Burned\t\n",
    "    - Steps\t\n",
    "    - Distance\t\n",
    "    - Floors\t\n",
    "    - Minutes Sedentary\t\n",
    "    - Minutes Lightly Active\t\n",
    "    - Minutes Fairly Active\t\n",
    "    - Minutes Very Active\t\n",
    "    - Activity Calories\n",
    "\n"
   ]
  },
  {
   "cell_type": "code",
   "execution_count": 20,
   "metadata": {},
   "outputs": [
    {
     "name": "stdout",
     "output_type": "stream",
     "text": [
      "Length of data =  30\n",
      "Shape of data  =  (30, 10)\n"
     ]
    },
    {
     "data": {
      "text/html": [
       "<div>\n",
       "<style scoped>\n",
       "    .dataframe tbody tr th:only-of-type {\n",
       "        vertical-align: middle;\n",
       "    }\n",
       "\n",
       "    .dataframe tbody tr th {\n",
       "        vertical-align: top;\n",
       "    }\n",
       "\n",
       "    .dataframe thead th {\n",
       "        text-align: right;\n",
       "    }\n",
       "</style>\n",
       "<table border=\"1\" class=\"dataframe\">\n",
       "  <thead>\n",
       "    <tr style=\"text-align: right;\">\n",
       "      <th></th>\n",
       "      <th>Date</th>\n",
       "      <th>Calories Burned</th>\n",
       "      <th>Steps</th>\n",
       "      <th>Distance</th>\n",
       "      <th>Floors</th>\n",
       "      <th>Minutes Sedentary</th>\n",
       "      <th>Minutes Lightly Active</th>\n",
       "      <th>Minutes Fairly Active</th>\n",
       "      <th>Minutes Very Active</th>\n",
       "      <th>Activity Calories</th>\n",
       "    </tr>\n",
       "  </thead>\n",
       "  <tbody>\n",
       "    <tr>\n",
       "      <th>0</th>\n",
       "      <td>7/07/2016</td>\n",
       "      <td>2,682</td>\n",
       "      <td>12,541</td>\n",
       "      <td>9.02</td>\n",
       "      <td>13</td>\n",
       "      <td>667</td>\n",
       "      <td>171</td>\n",
       "      <td>18</td>\n",
       "      <td>60</td>\n",
       "      <td>1,248</td>\n",
       "    </tr>\n",
       "    <tr>\n",
       "      <th>1</th>\n",
       "      <td>8/07/2016</td>\n",
       "      <td>2,423</td>\n",
       "      <td>8,029</td>\n",
       "      <td>5.70</td>\n",
       "      <td>35</td>\n",
       "      <td>760</td>\n",
       "      <td>208</td>\n",
       "      <td>13</td>\n",
       "      <td>6</td>\n",
       "      <td>928</td>\n",
       "    </tr>\n",
       "    <tr>\n",
       "      <th>2</th>\n",
       "      <td>9/07/2016</td>\n",
       "      <td>2,875</td>\n",
       "      <td>10,801</td>\n",
       "      <td>7.67</td>\n",
       "      <td>3</td>\n",
       "      <td>496</td>\n",
       "      <td>148</td>\n",
       "      <td>18</td>\n",
       "      <td>46</td>\n",
       "      <td>1,040</td>\n",
       "    </tr>\n",
       "    <tr>\n",
       "      <th>3</th>\n",
       "      <td>10/07/2016</td>\n",
       "      <td>2,638</td>\n",
       "      <td>11,997</td>\n",
       "      <td>8.52</td>\n",
       "      <td>22</td>\n",
       "      <td>771</td>\n",
       "      <td>248</td>\n",
       "      <td>3</td>\n",
       "      <td>27</td>\n",
       "      <td>1,285</td>\n",
       "    </tr>\n",
       "    <tr>\n",
       "      <th>4</th>\n",
       "      <td>11/07/2016</td>\n",
       "      <td>2,423</td>\n",
       "      <td>9,039</td>\n",
       "      <td>6.42</td>\n",
       "      <td>12</td>\n",
       "      <td>714</td>\n",
       "      <td>232</td>\n",
       "      <td>10</td>\n",
       "      <td>16</td>\n",
       "      <td>1,044</td>\n",
       "    </tr>\n",
       "  </tbody>\n",
       "</table>\n",
       "</div>"
      ],
      "text/plain": [
       "         Date Calories Burned   Steps  Distance  Floors  Minutes Sedentary  \\\n",
       "0   7/07/2016           2,682  12,541      9.02      13                667   \n",
       "1   8/07/2016           2,423   8,029      5.70      35                760   \n",
       "2   9/07/2016           2,875  10,801      7.67       3                496   \n",
       "3  10/07/2016           2,638  11,997      8.52      22                771   \n",
       "4  11/07/2016           2,423   9,039      6.42      12                714   \n",
       "\n",
       "   Minutes Lightly Active  Minutes Fairly Active  Minutes Very Active  \\\n",
       "0                     171                     18                   60   \n",
       "1                     208                     13                    6   \n",
       "2                     148                     18                   46   \n",
       "3                     248                      3                   27   \n",
       "4                     232                     10                   16   \n",
       "\n",
       "  Activity Calories  \n",
       "0             1,248  \n",
       "1               928  \n",
       "2             1,040  \n",
       "3             1,285  \n",
       "4             1,044  "
      ]
     },
     "execution_count": 20,
     "metadata": {},
     "output_type": "execute_result"
    }
   ],
   "source": [
    "data = pd.read_csv(\"fitbit.csv\") #Reading data\n",
    "print(\"Length of data = \",len(data))\n",
    "print(\"Shape of data  = \",data.shape)\n",
    "data.head()"
   ]
  },
  {
   "cell_type": "code",
   "execution_count": 21,
   "metadata": {},
   "outputs": [
    {
     "name": "stdout",
     "output_type": "stream",
     "text": [
      "Shape of data after drop column =  (30, 9)\n"
     ]
    }
   ],
   "source": [
    "#Drop \"Date\" Column\n",
    "data = data.drop(['Date'], axis=1) \n",
    "print(\"Shape of data after drop column = \",data.shape)\n",
    "\n",
    "#There is error in csv file that some of columns are considered as strings\n",
    "#I converted them to floats\n",
    "data[\"Steps\"] =data[\"Steps\"].apply(lambda x : x.replace(',' , '')).astype(float)\n",
    "data[\"Calories Burned\"] =data[\"Calories Burned\"].apply(lambda x : x.replace(',' , '')).astype(float)\n",
    "data[\"Activity Calories\"] =data[\"Activity Calories\"].apply(lambda x : x.replace(',' , '')).astype(float)\n"
   ]
  },
  {
   "cell_type": "code",
   "execution_count": 22,
   "metadata": {},
   "outputs": [
    {
     "data": {
      "text/html": [
       "<div>\n",
       "<style scoped>\n",
       "    .dataframe tbody tr th:only-of-type {\n",
       "        vertical-align: middle;\n",
       "    }\n",
       "\n",
       "    .dataframe tbody tr th {\n",
       "        vertical-align: top;\n",
       "    }\n",
       "\n",
       "    .dataframe thead th {\n",
       "        text-align: right;\n",
       "    }\n",
       "</style>\n",
       "<table border=\"1\" class=\"dataframe\">\n",
       "  <thead>\n",
       "    <tr style=\"text-align: right;\">\n",
       "      <th></th>\n",
       "      <th>Calories Burned</th>\n",
       "      <th>Steps</th>\n",
       "      <th>Distance</th>\n",
       "      <th>Floors</th>\n",
       "      <th>Minutes Sedentary</th>\n",
       "      <th>Minutes Lightly Active</th>\n",
       "      <th>Minutes Fairly Active</th>\n",
       "      <th>Minutes Very Active</th>\n",
       "      <th>Activity Calories</th>\n",
       "    </tr>\n",
       "  </thead>\n",
       "  <tbody>\n",
       "    <tr>\n",
       "      <th>0</th>\n",
       "      <td>2682.0</td>\n",
       "      <td>12541.0</td>\n",
       "      <td>9.02</td>\n",
       "      <td>13</td>\n",
       "      <td>667</td>\n",
       "      <td>171</td>\n",
       "      <td>18</td>\n",
       "      <td>60</td>\n",
       "      <td>1248.0</td>\n",
       "    </tr>\n",
       "    <tr>\n",
       "      <th>1</th>\n",
       "      <td>2423.0</td>\n",
       "      <td>8029.0</td>\n",
       "      <td>5.70</td>\n",
       "      <td>35</td>\n",
       "      <td>760</td>\n",
       "      <td>208</td>\n",
       "      <td>13</td>\n",
       "      <td>6</td>\n",
       "      <td>928.0</td>\n",
       "    </tr>\n",
       "    <tr>\n",
       "      <th>2</th>\n",
       "      <td>2875.0</td>\n",
       "      <td>10801.0</td>\n",
       "      <td>7.67</td>\n",
       "      <td>3</td>\n",
       "      <td>496</td>\n",
       "      <td>148</td>\n",
       "      <td>18</td>\n",
       "      <td>46</td>\n",
       "      <td>1040.0</td>\n",
       "    </tr>\n",
       "    <tr>\n",
       "      <th>3</th>\n",
       "      <td>2638.0</td>\n",
       "      <td>11997.0</td>\n",
       "      <td>8.52</td>\n",
       "      <td>22</td>\n",
       "      <td>771</td>\n",
       "      <td>248</td>\n",
       "      <td>3</td>\n",
       "      <td>27</td>\n",
       "      <td>1285.0</td>\n",
       "    </tr>\n",
       "    <tr>\n",
       "      <th>4</th>\n",
       "      <td>2423.0</td>\n",
       "      <td>9039.0</td>\n",
       "      <td>6.42</td>\n",
       "      <td>12</td>\n",
       "      <td>714</td>\n",
       "      <td>232</td>\n",
       "      <td>10</td>\n",
       "      <td>16</td>\n",
       "      <td>1044.0</td>\n",
       "    </tr>\n",
       "  </tbody>\n",
       "</table>\n",
       "</div>"
      ],
      "text/plain": [
       "   Calories Burned    Steps  Distance  Floors  Minutes Sedentary  \\\n",
       "0           2682.0  12541.0      9.02      13                667   \n",
       "1           2423.0   8029.0      5.70      35                760   \n",
       "2           2875.0  10801.0      7.67       3                496   \n",
       "3           2638.0  11997.0      8.52      22                771   \n",
       "4           2423.0   9039.0      6.42      12                714   \n",
       "\n",
       "   Minutes Lightly Active  Minutes Fairly Active  Minutes Very Active  \\\n",
       "0                     171                     18                   60   \n",
       "1                     208                     13                    6   \n",
       "2                     148                     18                   46   \n",
       "3                     248                      3                   27   \n",
       "4                     232                     10                   16   \n",
       "\n",
       "   Activity Calories  \n",
       "0             1248.0  \n",
       "1              928.0  \n",
       "2             1040.0  \n",
       "3             1285.0  \n",
       "4             1044.0  "
      ]
     },
     "execution_count": 22,
     "metadata": {},
     "output_type": "execute_result"
    }
   ],
   "source": [
    "#Check Data to control Date column was dropped or not\n",
    "data.head()"
   ]
  },
  {
   "cell_type": "code",
   "execution_count": 23,
   "metadata": {},
   "outputs": [
    {
     "name": "stdout",
     "output_type": "stream",
     "text": [
      "Shape of X =  (30, 8)\n",
      "Shape of y =  (30,)\n"
     ]
    }
   ],
   "source": [
    "# Split Data as X(features) and y(targets)\n",
    "y = data.iloc[:, 0].values\n",
    "X = data.iloc[:, 1:9].values\n",
    "print(\"Shape of X = \",X.shape)\n",
    "print(\"Shape of y = \",y.shape)"
   ]
  },
  {
   "cell_type": "markdown",
   "metadata": {},
   "source": [
    "### Problem 1 Function"
   ]
  },
  {
   "cell_type": "code",
   "execution_count": 24,
   "metadata": {},
   "outputs": [],
   "source": [
    "from sklearn.feature_selection import mutual_info_regression\n",
    "from sklearn.feature_selection import RFE\n",
    "from sklearn.linear_model import Ridge\n",
    "\n",
    "def problem1(X,y):\n",
    "    \"\"\"\n",
    "    Input:\n",
    "        \n",
    "        X : Features\n",
    "        y : Targets\n",
    "        \n",
    "    Returns:\n",
    "    \n",
    "        top_mutual : Top-4 features by mutual info\n",
    "        top_rfe    : Top-4 features by RFE\n",
    "        \n",
    "    \"\"\"\n",
    "    \n",
    "    mic = mutual_info_regression(X, y) #Find mutual information between classes\n",
    "    top_mutual = mic.argsort()[-4:][::-1] #Sort and get Top-4 \n",
    "    \n",
    "    model = Ridge() #Create Ridge Regressor \n",
    "    rfe = RFE(model,4,step=0.1,verbose=0) #Create RFE object\n",
    "    rfe_selection = rfe.fit(X,y) #Training\n",
    "    top_rfe = rfe_selection.support_ #Top-4 Elements\n",
    "    \n",
    "    return top_mutual, top_rfe"
   ]
  },
  {
   "cell_type": "code",
   "execution_count": 25,
   "metadata": {},
   "outputs": [
    {
     "name": "stdout",
     "output_type": "stream",
     "text": [
      "Top-4 Features\n",
      "--------------------\n",
      "Mutual Top-4 Features: ['Activity Calories', 'Minutes Fairly Active', 'Steps', 'Distance']\n",
      "\n",
      "RFE Top-4 Features: Index(['Distance', 'Minutes Lightly Active', 'Minutes Fairly Active',\n",
      "       'Minutes Very Active'],\n",
      "      dtype='object')\n"
     ]
    }
   ],
   "source": [
    "#Print Results\n",
    "mutual,rfe = problem1(X,y)\n",
    "list_mutual = []\n",
    "list_rfe = []\n",
    "\n",
    "# Add answer to list object to print results properly\n",
    "for i, col  in enumerate(mutual): \n",
    "    list_mutual.append(data.columns[col+1])\n",
    "\n",
    "list_rfe.append(data.columns[1:9][rfe])\n",
    "\n",
    "print(\"Top-4 Features\")   \n",
    "print(\"--------------------\")   \n",
    "print(\"Mutual Top-4 Features: {}\\n\".format(list_mutual))\n",
    "print(\"RFE Top-4 Features: {}\".format(list_rfe[0]))\n"
   ]
  },
  {
   "cell_type": "markdown",
   "metadata": {},
   "source": [
    "## Problem 2:\n",
    "\n",
    "`def problem2`\n",
    "\n",
    "---\n",
    "### K-means\n",
    "---\n",
    "The KMeans algorithm clusters data by trying to separate samples in n groups of equal variance, minimizing a criterion known as the inertia or within-cluster sum-of-squares\n",
    "\n",
    "- Produce Elbow and Silhoutte Coefficient Plots for cluster ranging from 2 to 9.\n",
    "\n",
    "- Apply Standard Scaling\n",
    "\n",
    "- Drop ID Column\n",
    "\n"
   ]
  },
  {
   "cell_type": "markdown",
   "metadata": {},
   "source": [
    "### Preparing & Exploring Data"
   ]
  },
  {
   "cell_type": "code",
   "execution_count": 8,
   "metadata": {},
   "outputs": [
    {
     "name": "stdout",
     "output_type": "stream",
     "text": [
      "Length of data=  60\n",
      "Shape of data=  (60, 5)\n"
     ]
    },
    {
     "data": {
      "text/html": [
       "<div>\n",
       "<style scoped>\n",
       "    .dataframe tbody tr th:only-of-type {\n",
       "        vertical-align: middle;\n",
       "    }\n",
       "\n",
       "    .dataframe tbody tr th {\n",
       "        vertical-align: top;\n",
       "    }\n",
       "\n",
       "    .dataframe thead th {\n",
       "        text-align: right;\n",
       "    }\n",
       "</style>\n",
       "<table border=\"1\" class=\"dataframe\">\n",
       "  <thead>\n",
       "    <tr style=\"text-align: right;\">\n",
       "      <th></th>\n",
       "      <th>ID</th>\n",
       "      <th>Visit.Time</th>\n",
       "      <th>Average.Expense</th>\n",
       "      <th>Sex</th>\n",
       "      <th>Age</th>\n",
       "    </tr>\n",
       "  </thead>\n",
       "  <tbody>\n",
       "    <tr>\n",
       "      <th>0</th>\n",
       "      <td>1</td>\n",
       "      <td>3</td>\n",
       "      <td>5.7</td>\n",
       "      <td>0</td>\n",
       "      <td>10</td>\n",
       "    </tr>\n",
       "    <tr>\n",
       "      <th>1</th>\n",
       "      <td>2</td>\n",
       "      <td>5</td>\n",
       "      <td>14.5</td>\n",
       "      <td>0</td>\n",
       "      <td>27</td>\n",
       "    </tr>\n",
       "    <tr>\n",
       "      <th>2</th>\n",
       "      <td>3</td>\n",
       "      <td>16</td>\n",
       "      <td>33.5</td>\n",
       "      <td>0</td>\n",
       "      <td>32</td>\n",
       "    </tr>\n",
       "    <tr>\n",
       "      <th>3</th>\n",
       "      <td>4</td>\n",
       "      <td>5</td>\n",
       "      <td>15.9</td>\n",
       "      <td>0</td>\n",
       "      <td>30</td>\n",
       "    </tr>\n",
       "    <tr>\n",
       "      <th>4</th>\n",
       "      <td>5</td>\n",
       "      <td>16</td>\n",
       "      <td>24.9</td>\n",
       "      <td>0</td>\n",
       "      <td>23</td>\n",
       "    </tr>\n",
       "    <tr>\n",
       "      <th>5</th>\n",
       "      <td>6</td>\n",
       "      <td>3</td>\n",
       "      <td>12.0</td>\n",
       "      <td>0</td>\n",
       "      <td>15</td>\n",
       "    </tr>\n",
       "    <tr>\n",
       "      <th>6</th>\n",
       "      <td>7</td>\n",
       "      <td>12</td>\n",
       "      <td>28.5</td>\n",
       "      <td>0</td>\n",
       "      <td>33</td>\n",
       "    </tr>\n",
       "    <tr>\n",
       "      <th>7</th>\n",
       "      <td>8</td>\n",
       "      <td>14</td>\n",
       "      <td>18.8</td>\n",
       "      <td>0</td>\n",
       "      <td>27</td>\n",
       "    </tr>\n",
       "    <tr>\n",
       "      <th>8</th>\n",
       "      <td>9</td>\n",
       "      <td>6</td>\n",
       "      <td>23.8</td>\n",
       "      <td>0</td>\n",
       "      <td>16</td>\n",
       "    </tr>\n",
       "    <tr>\n",
       "      <th>9</th>\n",
       "      <td>10</td>\n",
       "      <td>3</td>\n",
       "      <td>5.3</td>\n",
       "      <td>0</td>\n",
       "      <td>11</td>\n",
       "    </tr>\n",
       "  </tbody>\n",
       "</table>\n",
       "</div>"
      ],
      "text/plain": [
       "   ID  Visit.Time  Average.Expense  Sex  Age\n",
       "0   1           3              5.7    0   10\n",
       "1   2           5             14.5    0   27\n",
       "2   3          16             33.5    0   32\n",
       "3   4           5             15.9    0   30\n",
       "4   5          16             24.9    0   23\n",
       "5   6           3             12.0    0   15\n",
       "6   7          12             28.5    0   33\n",
       "7   8          14             18.8    0   27\n",
       "8   9           6             23.8    0   16\n",
       "9  10           3              5.3    0   11"
      ]
     },
     "execution_count": 8,
     "metadata": {},
     "output_type": "execute_result"
    }
   ],
   "source": [
    "data = pd.read_csv(\"customer.csv\", sep=\",\") #Reading data\n",
    "print(\"Length of data= \",len(data))\n",
    "print(\"Shape of data= \",data.shape)\n",
    "data.head(10)"
   ]
  },
  {
   "cell_type": "code",
   "execution_count": 9,
   "metadata": {},
   "outputs": [
    {
     "name": "stdout",
     "output_type": "stream",
     "text": [
      "Shape of data after drop ID column=  (60, 4)\n"
     ]
    }
   ],
   "source": [
    "#Drop \"Date\" Column\n",
    "data = data.drop(['ID'], axis=1) \n",
    "print(\"Shape of data after drop ID column= \",   data.shape)"
   ]
  },
  {
   "cell_type": "code",
   "execution_count": 10,
   "metadata": {},
   "outputs": [],
   "source": [
    "# Get features\n",
    "features=data.iloc[:,:4]\n",
    "features.head()\n",
    "\n",
    "# Scale features by using StandardScaler Method\n",
    "from sklearn.preprocessing import StandardScaler\n",
    "sc = StandardScaler()\n",
    "features = sc.fit_transform(features)"
   ]
  },
  {
   "cell_type": "markdown",
   "metadata": {},
   "source": [
    "### Problem 2 Function"
   ]
  },
  {
   "cell_type": "code",
   "execution_count": 11,
   "metadata": {},
   "outputs": [],
   "source": [
    "from sklearn.cluster import KMeans\n",
    "from sklearn.metrics import silhouette_score\n",
    "\n",
    "def problem2(features):\n",
    "    \"\"\"\n",
    "    Input:\n",
    "        \n",
    "        X : Features\n",
    "        \n",
    "        \n",
    "    Returns:\n",
    "    \n",
    "        inertia_list : Sum of squared distances of samples to their closest cluster center.\n",
    "        silhouette_score_list  : Silhouette Coefficient of all samples.\n",
    "        \n",
    "    \"\"\"\n",
    "    km=KMeans(n_clusters=4) # Create K-means object with 4 cluster\n",
    "\n",
    "    # Create two list to keep results\n",
    "    inertia_list=[] \n",
    "    silhouette_score_list=[]\n",
    "    \n",
    "    for i in range(2,10): #2-9 cluster\n",
    "        k_means=KMeans(n_clusters=i,n_init=10) #K-means object\n",
    "        k_means.fit(features) #Train\n",
    "        inertia_list.append(k_means.inertia_) #Inertia Scores\n",
    "        silhouette_score_list.append(silhouette_score(features,k_means.labels_)) # silhouette coefficients\n",
    "        \n",
    "    return inertia_list, silhouette_score_list"
   ]
  },
  {
   "cell_type": "code",
   "execution_count": 12,
   "metadata": {},
   "outputs": [
    {
     "data": {
      "image/png": "[encoded data removed]",
      "text/plain": [
       "<Figure size 432x288 with 1 Axes>"
      ]
     },
     "metadata": {
      "needs_background": "light"
     },
     "output_type": "display_data"
    },
    {
     "data": {
      "image/png": "[encoded data removed]",
      "text/plain": [
       "<Figure size 432x288 with 1 Axes>"
      ]
     },
     "metadata": {
      "needs_background": "light"
     },
     "output_type": "display_data"
    }
   ],
   "source": [
    "#Call problem2 function\n",
    "inertia_list, silhouette_score_list=  problem2(features)\n",
    "\n",
    "#Drawing Elbow and Silhouette graphs\n",
    "cluster_numbers=np.arange(2,10)\n",
    "plt.plot(cluster_numbers,inertia_list,\"o-\")\n",
    "plt.xlabel(\"cluster number\")\n",
    "plt.ylabel(\"Inertia\")\n",
    "plt.title(\"Elbow method\")\n",
    "plt.grid(True)\n",
    "plt.show()\n",
    "\n",
    "plt.plot(cluster_numbers,silhouette_score_list,\"o-\")\n",
    "plt.xlabel(\"cluster number\")\n",
    "plt.ylabel(\"Silhouette Score\")\n",
    "plt.title(\"Silhouette method\")\n",
    "plt.grid(True)\n",
    "plt.show()"
   ]
  },
  {
   "cell_type": "markdown",
   "metadata": {},
   "source": [
    "## Problem 3:\n",
    "\n",
    "`def problem3`\n",
    "\n",
    "---\n",
    "\n",
    "Predict customer churn with \n",
    "    - Logistic Regression\n",
    "    - Decision Tree\n",
    "    - Support Vector Machine\n",
    "    - K-Nearest Neighbor \n",
    "    - Neural Network methods\n",
    "\n",
    "Using 5-Fold cv with shuffling. Drop ID column. Remove rows which have missing data"
   ]
  },
  {
   "cell_type": "markdown",
   "metadata": {},
   "source": [
    "### Preparing & Exploring Data\n",
    "---"
   ]
  },
  {
   "cell_type": "code",
   "execution_count": 13,
   "metadata": {},
   "outputs": [
    {
     "name": "stdout",
     "output_type": "stream",
     "text": [
      "Shape of data =  (7043, 21)\n",
      "Shape of data after drop column =  (7043, 20) \n",
      "\n",
      "\n",
      "Null Values: \n",
      " gender              False\n",
      "SeniorCitizen       False\n",
      "Partner             False\n",
      "Dependents          False\n",
      "tenure              False\n",
      "PhoneService        False\n",
      "MultipleLines       False\n",
      "InternetService     False\n",
      "OnlineSecurity      False\n",
      "OnlineBackup        False\n",
      "DeviceProtection    False\n",
      "TechSupport         False\n",
      "StreamingTV         False\n",
      "StreamingMovies     False\n",
      "Contract            False\n",
      "PaperlessBilling    False\n",
      "PaymentMethod       False\n",
      "MonthlyCharges      False\n",
      "TotalCharges         True\n",
      "Churn               False\n",
      "dtype: bool\n",
      "----------------------\n",
      "\n",
      "Number of rows with empty cells: 11 \n",
      "\n",
      "Shape of data after remove rows=  (7032, 20)\n"
     ]
    }
   ],
   "source": [
    "data = pd.read_csv(\"WA_Fn-UseC_-Telco-Customer-Churn.csv\", sep=\",\") #Reading data\n",
    "print(\"Shape of data = \",data.shape)\n",
    "\n",
    "\n",
    "#Drop \"Date\" Column\n",
    "data = data.drop(['customerID'], axis=1) \n",
    "print(\"Shape of data after drop column = \",   data.shape, \"\\n\\n\")\n",
    "\n",
    "#To remove rows which have empty values first convert empty cells to nan\n",
    "data = data.replace(' ', np.nan)\n",
    "print('Null Values: \\n', data.isnull().any()) #Control which column has nan values\n",
    "print(\"----------------------\\n\")\n",
    "\n",
    "empty_cells = np.where(pd.isnull(data)) \n",
    "print(\"Number of rows with empty cells: {}\".format(len(empty_cells[0])),\"\\n\")\n",
    "data = data.dropna() #Remove rows\n",
    "print(\"Shape of data after remove rows= \",   data.shape)"
   ]
  },
  {
   "cell_type": "code",
   "execution_count": 14,
   "metadata": {},
   "outputs": [],
   "source": [
    "from sklearn.preprocessing import LabelEncoder\n",
    "\n",
    "#Non-numeric features\n",
    "categorilcals = ['gender', 'Partner', 'Dependents', \n",
    "                 'PhoneService', 'MultipleLines', 'InternetService', 'OnlineSecurity',\n",
    "       'OnlineBackup', 'DeviceProtection', 'TechSupport', 'StreamingTV',\n",
    "       'StreamingMovies', 'Contract', 'PaperlessBilling', 'PaymentMethod',\n",
    "       'Churn']\n",
    "#Encoding non-numeric features\n",
    "labelencoder = LabelEncoder()\n",
    "for word in (categorilcals):\n",
    "    data[word]      = labelencoder.fit_transform(data[word]) \n",
    "\n",
    "#Divide data as features(X) and target(y)    \n",
    "X = data.iloc[:, 0:19].values.astype(float)\n",
    "y = data.iloc[:, -1].values.astype(float)\n",
    "\n",
    "\n",
    "#Scaling Data\n",
    "from sklearn.preprocessing import StandardScaler\n",
    "sc = StandardScaler()\n",
    "X = sc.fit_transform(X)\n"
   ]
  },
  {
   "cell_type": "code",
   "execution_count": 15,
   "metadata": {},
   "outputs": [],
   "source": [
    "from sklearn.neighbors import KNeighborsClassifier\n",
    "from sklearn.neural_network import MLPClassifier\n",
    "from sklearn.linear_model import LogisticRegression\n",
    "from sklearn.svm import LinearSVC\n",
    "from sklearn.tree import DecisionTreeClassifier\n",
    "\n",
    "\n",
    "def problem3(model_selected, features, target, cv):\n",
    "    \n",
    "    \n",
    "    \"\"\"\n",
    "    Input:\n",
    "        \n",
    "        features : Features\n",
    "        target   : Target.(Labels)\n",
    "        cv : cross-validation generator \n",
    "        model_selected : To select which model will use the train features\n",
    "            List of 5 Possible Models:\n",
    "                \n",
    "                'lr'  = Logistic Regression\n",
    "                'mlp' = MLP Classifier (Neural Network Model)\n",
    "                'dtc' = Decision Tree Classifier\n",
    "                'svc' = Linear Support Vector Machine\n",
    "                'knn' = k-Nearest Neighbors \n",
    "        \n",
    "    Returns:\n",
    "    \n",
    "        results : Mean of results\n",
    "        \n",
    "    \"\"\"\n",
    "    \n",
    "    if(model_selected == 'lr'):\n",
    "         model= LogisticRegression()\n",
    "\n",
    "    elif(model_selected == 'mlp'):\n",
    "         model= MLPClassifier()\n",
    "\n",
    "    elif(model_selected == 'dtc'): \n",
    "         model= DecisionTreeClassifier()\n",
    "\n",
    "    elif(model_selected == 'svc'):\n",
    "         model= LinearSVC()\n",
    "\n",
    "    elif(model_selected == 'knn'):\n",
    "         model= KNeighborsClassifier()\n",
    "\n",
    "    else:\n",
    "         raise NameError('invalid selected model')\n",
    "         \n",
    "\n",
    "    results= cross_val_score(model, features, target, cv=cv)   \n",
    "\n",
    "    return results.mean()"
   ]
  },
  {
   "cell_type": "code",
   "execution_count": 16,
   "metadata": {},
   "outputs": [
    {
     "name": "stderr",
     "output_type": "stream",
     "text": [
      "/home/vefak/anaconda3/lib/python3.7/site-packages/sklearn/svm/_base.py:947: ConvergenceWarning: Liblinear failed to converge, increase the number of iterations.\n",
      "  \"the number of iterations.\", ConvergenceWarning)\n",
      "/home/vefak/anaconda3/lib/python3.7/site-packages/sklearn/svm/_base.py:947: ConvergenceWarning: Liblinear failed to converge, increase the number of iterations.\n",
      "  \"the number of iterations.\", ConvergenceWarning)\n",
      "/home/vefak/anaconda3/lib/python3.7/site-packages/sklearn/svm/_base.py:947: ConvergenceWarning: Liblinear failed to converge, increase the number of iterations.\n",
      "  \"the number of iterations.\", ConvergenceWarning)\n",
      "/home/vefak/anaconda3/lib/python3.7/site-packages/sklearn/neural_network/_multilayer_perceptron.py:571: ConvergenceWarning: Stochastic Optimizer: Maximum iterations (200) reached and the optimization hasn't converged yet.\n",
      "  % self.max_iter, ConvergenceWarning)\n",
      "/home/vefak/anaconda3/lib/python3.7/site-packages/sklearn/neural_network/_multilayer_perceptron.py:571: ConvergenceWarning: Stochastic Optimizer: Maximum iterations (200) reached and the optimization hasn't converged yet.\n",
      "  % self.max_iter, ConvergenceWarning)\n",
      "/home/vefak/anaconda3/lib/python3.7/site-packages/sklearn/neural_network/_multilayer_perceptron.py:571: ConvergenceWarning: Stochastic Optimizer: Maximum iterations (200) reached and the optimization hasn't converged yet.\n",
      "  % self.max_iter, ConvergenceWarning)\n",
      "/home/vefak/anaconda3/lib/python3.7/site-packages/sklearn/neural_network/_multilayer_perceptron.py:571: ConvergenceWarning: Stochastic Optimizer: Maximum iterations (200) reached and the optimization hasn't converged yet.\n",
      "  % self.max_iter, ConvergenceWarning)\n",
      "/home/vefak/anaconda3/lib/python3.7/site-packages/sklearn/neural_network/_multilayer_perceptron.py:571: ConvergenceWarning: Stochastic Optimizer: Maximum iterations (200) reached and the optimization hasn't converged yet.\n",
      "  % self.max_iter, ConvergenceWarning)\n",
      "/home/vefak/anaconda3/lib/python3.7/site-packages/sklearn/neural_network/_multilayer_perceptron.py:571: ConvergenceWarning: Stochastic Optimizer: Maximum iterations (200) reached and the optimization hasn't converged yet.\n",
      "  % self.max_iter, ConvergenceWarning)\n",
      "/home/vefak/anaconda3/lib/python3.7/site-packages/sklearn/neural_network/_multilayer_perceptron.py:571: ConvergenceWarning: Stochastic Optimizer: Maximum iterations (200) reached and the optimization hasn't converged yet.\n",
      "  % self.max_iter, ConvergenceWarning)\n",
      "/home/vefak/anaconda3/lib/python3.7/site-packages/sklearn/neural_network/_multilayer_perceptron.py:571: ConvergenceWarning: Stochastic Optimizer: Maximum iterations (200) reached and the optimization hasn't converged yet.\n",
      "  % self.max_iter, ConvergenceWarning)\n",
      "/home/vefak/anaconda3/lib/python3.7/site-packages/sklearn/neural_network/_multilayer_perceptron.py:571: ConvergenceWarning: Stochastic Optimizer: Maximum iterations (200) reached and the optimization hasn't converged yet.\n",
      "  % self.max_iter, ConvergenceWarning)\n",
      "/home/vefak/anaconda3/lib/python3.7/site-packages/sklearn/neural_network/_multilayer_perceptron.py:571: ConvergenceWarning: Stochastic Optimizer: Maximum iterations (200) reached and the optimization hasn't converged yet.\n",
      "  % self.max_iter, ConvergenceWarning)\n"
     ]
    }
   ],
   "source": [
    "#Split data as Traing and Test\n",
    "from sklearn.model_selection import train_test_split, cross_val_score\n",
    "X_train,X_test,y_train,y_test=train_test_split(X,y,test_size=0.3)\n",
    "\n",
    "# 5-Fold with shuffling\n",
    "from sklearn.model_selection import KFold\n",
    "kfold = KFold(n_splits=5, shuffle=True, random_state=0)\n",
    "\n",
    "\n",
    "#Call function and keep results\n",
    "train_lr = problem3('lr', X_train, y_train, kfold)\n",
    "test_lr = problem3('lr', X_test, y_test, kfold)\n",
    "\n",
    "train_dtc = problem3('dtc', X_train, y_train, kfold)\n",
    "test_dtc = problem3('dtc', X_test, y_test, kfold)\n",
    "\n",
    "train_svc = problem3('svc', X_train, y_train, kfold)\n",
    "test_svc = problem3('svc', X_test, y_test, kfold)\n",
    "\n",
    "train_knn = problem3('knn', X_train, y_train, kfold)\n",
    "test_knn = problem3('knn', X_test, y_test, kfold)\n",
    "\n",
    "train_mlp = problem3('mlp', X_train, y_train, kfold)\n",
    "test_mlp = problem3('mlp', X_test, y_test, kfold)\n",
    "\n",
    "    "
   ]
  },
  {
   "cell_type": "code",
   "execution_count": 17,
   "metadata": {},
   "outputs": [
    {
     "name": "stdout",
     "output_type": "stream",
     "text": [
      "model                train   test\n",
      "-------------------------------------\n",
      "LogisticRegression   0.801   0.806   \n",
      "DecisionTree         0.720   0.718   \n",
      "LinearSVC            0.803   0.805   \n",
      "KNN                  0.748   0.751   \n",
      "MLPClassifier        0.783   0.786   \n"
     ]
    }
   ],
   "source": [
    "print(\"model                train   test\")\n",
    "print(\"-------------------------------------\")\n",
    "print(\"LogisticRegression   {:.3f}   {:.3f}   \".format(train_lr,  test_lr))\n",
    "print(\"DecisionTree         {:.3f}   {:.3f}   \".format(train_dtc, test_dtc))\n",
    "print(\"LinearSVC            {:.3f}   {:.3f}   \".format(train_svc,  test_svc))\n",
    "print(\"KNN                  {:.3f}   {:.3f}   \".format(train_knn,  test_knn))\n",
    "print(\"MLPClassifier        {:.3f}   {:.3f}   \".format(train_mlp,  test_mlp))\n",
    "\n",
    "\n"
   ]
  }
 ],
 "metadata": {
  "kernelspec": {
   "display_name": "Python 3",
   "language": "python",
   "name": "python3"
  },
  "language_info": {
   "codemirror_mode": {
    "name": "ipython",
    "version": 3
   },
   "file_extension": ".py",
   "mimetype": "text/x-python",
   "name": "python",
   "nbconvert_exporter": "python",
   "pygments_lexer": "ipython3",
   "version": "3.7.6"
  }
 },
 "nbformat": 4,
 "nbformat_minor": 2
}
