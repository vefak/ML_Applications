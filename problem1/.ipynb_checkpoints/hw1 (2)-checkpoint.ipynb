{
 "cells": [
  {
   "cell_type": "code",
   "execution_count": 2,
   "metadata": {
    "colab": {
     "base_uri": "https://localhost:8080/",
     "height": 102
    },
    "colab_type": "code",
    "id": "IKq3hh16kkGJ",
    "outputId": "9a726e2f-886d-42a2-87d3-84498c5ae005"
   },
   "outputs": [
    {
     "name": "stdout",
     "output_type": "stream",
     "text": [
      "Requirement already satisfied: scikit-learn in /usr/local/lib/python3.6/dist-packages (0.22.2.post1)\n",
      "Requirement already satisfied: numpy>=1.11.0 in /usr/local/lib/python3.6/dist-packages (from scikit-learn) (1.18.3)\n",
      "Requirement already satisfied: scipy>=0.17.0 in /usr/local/lib/python3.6/dist-packages (from scikit-learn) (1.4.1)\n",
      "Requirement already satisfied: joblib>=0.11 in /usr/local/lib/python3.6/dist-packages (from scikit-learn) (0.14.1)\n"
     ]
    }
   ],
   "source": [
    "pip install scikit-learn"
   ]
  },
  {
   "cell_type": "code",
   "execution_count": 0,
   "metadata": {
    "colab": {},
    "colab_type": "code",
    "id": "I7mRlE5vlNzG"
   },
   "outputs": [],
   "source": [
    "import pandas as pd\n",
    "from sklearn.linear_model import Ridge\n",
    "from sklearn.model_selection import cross_val_score,RepeatedKFold,GridSearchCV\n",
    "import numpy as np\n",
    "import matplotlib as plt\n",
    "from sklearn.preprocessing import StandardScaler\n",
    "from sklearn.metrics import mean_squared_error"
   ]
  },
  {
   "cell_type": "code",
   "execution_count": 0,
   "metadata": {
    "colab": {},
    "colab_type": "code",
    "id": "V22KlbamlvmF"
   },
   "outputs": [],
   "source": [
    "def findOptimalRidgeAlpha(x_data,y_data,parameters,scoring,cv):\n",
    "    ridge_model = Ridge(normalize=True)\n",
    "    ridgeRegressor = GridSearchCV(ridge_model,parameters,scoring=scoring,cv=cv,return_train_score=True)\n",
    "    ridgeRegressor.fit(x_data,y_data)\n",
    "    \n",
    "    return ridgeRegressor.best_params_, ridgeRegressor.best_score_, ridgeRegressor"
   ]
  },
  {
   "cell_type": "code",
   "execution_count": 0,
   "metadata": {
    "colab": {},
    "colab_type": "code",
    "id": "4xre0vPKlxx1"
   },
   "outputs": [],
   "source": [
    "\n",
    "#Data import\n",
    "data = pd.read_excel(\"ENB2012_data.xlsx\")\n",
    "X = data.iloc[:, 0:8].values\n",
    "y = data.iloc[:, 8:10].values\n",
    "y1= y[:,0]\n",
    "y2= y[:,1]\n",
    "\n",
    "\"\"\"\n",
    "#Split\n",
    "X_train, X_test, y_train, y_test = train_test_split(X,y,test_size=0.25,random_state=0)\n",
    "y1_train, y1_test = y_train[:,0], y_test[:,0]\n",
    "y2_train, y2_test = y_train[:,1], y_test[:,1]\n",
    "\"\"\"\n",
    "\n",
    "\n",
    "\n",
    "parameters = {'alpha': [0.001, 0.01, 0.1, 1.0, 10.0]}\n",
    "rkf = RepeatedKFold(n_splits=10, n_repeats=10, random_state =True)"
   ]
  },
  {
   "cell_type": "code",
   "execution_count": 37,
   "metadata": {
    "colab": {
     "base_uri": "https://localhost:8080/",
     "height": 245
    },
    "colab_type": "code",
    "id": "qsqLdVhYmdZ9",
    "outputId": "b89dbcdc-2065-4878-d1d3-fccf6bef6681"
   },
   "outputs": [
    {
     "name": "stdout",
     "output_type": "stream",
     "text": [
      "Y1: \n",
      "Mean Squared Error: \n",
      "Optimal Alpha= {'alpha': 0.001}, Best Score= -8.714700118211292\n",
      "\n",
      "Mean Absolute Error:\n",
      "Optimal Alpha= {'alpha': 0.001}, Best Score= -2.0904072461514303\n",
      "----------------------------------------------------------------------\n",
      "Y2: \n",
      "Mean Squared Error: \n",
      "Optimal Alpha= {'alpha': 0.001}, Best Score= -10.358241487154858\n",
      "\n",
      "Mean Absolute Error:\n",
      "Optimal Alpha= {'alpha': 0.001}, Best Score= -2.26702120487305\n",
      "----------------------------------------------------------------------\n"
     ]
    }
   ],
   "source": [
    "\n",
    "print(\"Y1: \")\n",
    "#Optimal parameter for mean_sqauared_error\n",
    "best_alpha,best_scr,ridgeRegressor_1 = findOptimalRidgeAlpha(X,y1,parameters,\"neg_mean_squared_error\",rkf)\n",
    "print(\"Mean Squared Error: \")\n",
    "print(\"Optimal Alpha= {}, Best Score= {}\\n\".format(best_alpha,best_scr))\n",
    "\n",
    "#Optimal parameter for mean_abosule_error\n",
    "best_alpha,best_scr,ridgeRegressor = findOptimalRidgeAlpha(X,y1,parameters,\"neg_mean_absolute_error\",rkf)\n",
    "print(\"Mean Absolute Error:\")\n",
    "print(\"Optimal Alpha= {}, Best Score= {}\".format(best_alpha,best_scr))\n",
    "print(\"----------------------------------------------------------------------\")\n",
    "\n",
    "\n",
    "print(\"Y2: \")\n",
    "#Optimal parameter for mean_sqauared_error\n",
    "best_alpha,best_scr,ridgeRegressor = findOptimalRidgeAlpha(X,y2,parameters,\"neg_mean_squared_error\",rkf)\n",
    "print(\"Mean Squared Error: \")\n",
    "print(\"Optimal Alpha= {}, Best Score= {}\\n\".format(best_alpha,best_scr))\n",
    "\n",
    "#Optimal parameter for mean_abosule_error\n",
    "best_alpha,best_scr,ridgeRegressor = findOptimalRidgeAlpha(X,y2,parameters,\"neg_mean_absolute_error\",rkf)\n",
    "\n",
    "print(\"Mean Absolute Error:\")\n",
    "print(\"Optimal Alpha= {}, Best Score= {}\".format(best_alpha,best_scr))\n",
    "print(\"----------------------------------------------------------------------\")"
   ]
  },
  {
   "cell_type": "code",
   "execution_count": 69,
   "metadata": {
    "colab": {
     "base_uri": "https://localhost:8080/",
     "height": 1000
    },
    "colab_type": "code",
    "id": "RlQXDMW0tyiM",
    "outputId": "16de9896-2e56-4a50-910e-64496bd64ee8"
   },
   "outputs": [
    {
     "name": "stdout",
     "output_type": "stream",
     "text": [
      "{'mean_fit_time': array([0.00070388, 0.00070631, 0.00062426, 0.00061269, 0.00061029]), 'std_fit_time': array([3.47088781e-04, 1.62248608e-04, 3.41188129e-05, 3.05416712e-05,\n",
      "       3.37911697e-05]), 'mean_score_time': array([0.00031955, 0.00033837, 0.00029499, 0.00029391, 0.00028908]), 'std_score_time': array([6.10654712e-05, 6.92493247e-05, 2.31523188e-05, 2.39786007e-05,\n",
      "       2.84609772e-05]), 'param_alpha': masked_array(data=[0.001, 0.01, 0.1, 1.0, 10.0],\n",
      "             mask=[False, False, False, False, False],\n",
      "       fill_value='?',\n",
      "            dtype=object), 'params': [{'alpha': 0.001}, {'alpha': 0.01}, {'alpha': 0.1}, {'alpha': 1.0}, {'alpha': 10.0}], 'split0_test_score': array([-10.67952536, -10.39488165, -10.65552463, -18.72750185,\n",
      "       -61.93179951]), 'split1_test_score': array([ -9.87220027, -10.41023081, -13.35114354, -25.60712323,\n",
      "       -73.69592853]), 'split2_test_score': array([-12.16441258, -12.53138129, -15.12499822, -26.0459513 ,\n",
      "       -71.47076539]), 'split3_test_score': array([ -5.61676338,  -5.67773156,  -6.66323739, -14.01557005,\n",
      "       -55.66946465]), 'split4_test_score': array([ -7.92153898,  -8.26646109, -11.09340239, -22.8002393 ,\n",
      "       -71.90399695]), 'split5_test_score': array([ -9.19612781,  -9.24462416, -10.41826717, -18.61993285,\n",
      "       -59.44727354]), 'split6_test_score': array([ -5.90964332,  -6.14235726,  -7.23455505, -15.49711113,\n",
      "       -64.93337459]), 'split7_test_score': array([-11.13889372, -11.45730033, -14.24627726, -28.18313944,\n",
      "       -85.1239582 ]), 'split8_test_score': array([ -5.74874147,  -5.85090736,  -6.83137373, -14.01267852,\n",
      "       -56.92542147]), 'split9_test_score': array([ -8.47682442,  -8.31420673,  -8.65467886, -17.11853485,\n",
      "       -66.17666028]), 'split10_test_score': array([ -9.35198079,  -9.80690224, -12.387598  , -25.54617923,\n",
      "       -77.35148063]), 'split11_test_score': array([ -9.82916854, -10.10666708, -12.57045686, -24.56800419,\n",
      "       -75.70858794]), 'split12_test_score': array([ -6.47556094,  -6.76946877,  -8.70673972, -18.0331693 ,\n",
      "       -63.0402114 ]), 'split13_test_score': array([ -8.48428924,  -8.70313059, -10.76058692, -20.07603885,\n",
      "       -62.93183747]), 'split14_test_score': array([-10.81949712, -10.66584226, -11.73844516, -19.77225839,\n",
      "       -64.00230604]), 'split15_test_score': array([ -7.38854163,  -7.25004917,  -7.62286105, -17.86956183,\n",
      "       -71.53042676]), 'split16_test_score': array([ -5.49654759,  -5.56934031,  -6.6454915 , -14.75883422,\n",
      "       -58.08812987]), 'split17_test_score': array([-10.69319848, -10.28578556,  -9.89585888, -15.85933567,\n",
      "       -59.47153054]), 'split18_test_score': array([ -7.63374777,  -8.04850684, -10.32483691, -19.59883203,\n",
      "       -63.26707251]), 'split19_test_score': array([-10.77707873, -11.15658773, -13.51411249, -24.42920864,\n",
      "       -71.22013234]), 'split20_test_score': array([ -6.47122683,  -6.86863354,  -8.87098322, -18.11494195,\n",
      "       -62.81407995]), 'split21_test_score': array([ -8.67477999,  -8.38146022,  -7.49844033, -10.6693015 ,\n",
      "       -43.31629941]), 'split22_test_score': array([ -8.20625209,  -8.6877199 , -11.47777085, -25.45049361,\n",
      "       -86.70163771]), 'split23_test_score': array([ -9.63482564,  -9.51397707, -10.39829211, -18.45028542,\n",
      "       -62.56488384]), 'split24_test_score': array([-11.75558465, -12.36743891, -15.42311389, -28.87781878,\n",
      "       -77.93734183]), 'split25_test_score': array([ -9.07618896,  -9.41901178, -12.67545178, -25.62696388,\n",
      "       -77.45034836]), 'split26_test_score': array([ -7.89737091,  -7.60225679,  -8.12189709, -16.59244824,\n",
      "       -65.08786793]), 'split27_test_score': array([ -6.51288442,  -6.14344237,  -5.70976234, -13.03993054,\n",
      "       -59.79649215]), 'split28_test_score': array([-10.81229955, -11.19820017, -13.77234731, -24.5295236 ,\n",
      "       -68.78947041]), 'split29_test_score': array([ -8.72148939,  -9.02157057, -11.07363878, -19.98035639,\n",
      "       -63.32265183]), 'split30_test_score': array([ -8.28909298,  -9.06369062, -13.0913028 , -25.82384799,\n",
      "       -72.9991712 ]), 'split31_test_score': array([ -9.78140568,  -9.58909843,  -9.8810083 , -14.96460412,\n",
      "       -45.01216669]), 'split32_test_score': array([ -6.69546887,  -6.81551844,  -8.47771927, -19.802492  ,\n",
      "       -69.05940008]), 'split33_test_score': array([-10.41539055, -10.56379039, -12.0590966 , -20.65210873,\n",
      "       -62.75309742]), 'split34_test_score': array([ -8.44181243,  -8.72497147, -11.05329391, -19.28678048,\n",
      "       -62.25575999]), 'split35_test_score': array([-10.59494674, -10.33748053, -10.91886831, -19.20162274,\n",
      "       -65.58976841]), 'split36_test_score': array([ -9.36476767,  -9.96506188, -12.82829144, -26.63609462,\n",
      "       -82.60699549]), 'split37_test_score': array([ -7.83574625,  -8.0718392 ,  -9.46291812, -19.34914732,\n",
      "       -71.93835924]), 'split38_test_score': array([ -8.47042891,  -8.61139106, -10.35447454, -22.58120333,\n",
      "       -81.13171872]), 'split39_test_score': array([ -8.25382327,  -7.87731342,  -7.28000775, -13.35065405,\n",
      "       -53.60434401]), 'split40_test_score': array([ -9.67045521,  -9.68168698, -11.08501219, -20.54670711,\n",
      "       -64.64526018]), 'split41_test_score': array([ -7.86171363,  -8.20382542, -10.49849884, -21.34328455,\n",
      "       -68.77829188]), 'split42_test_score': array([ -6.47888758,  -6.46599728,  -6.95834141, -14.55540092,\n",
      "       -60.9901804 ]), 'split43_test_score': array([ -8.22993381,  -7.90023129,  -7.74092758, -14.00255073,\n",
      "       -57.8637334 ]), 'split44_test_score': array([-10.07291536, -10.09124808, -11.44638252, -20.83901864,\n",
      "       -67.80135655]), 'split45_test_score': array([ -6.34767293,  -6.63460441,  -9.002923  , -21.32134368,\n",
      "       -74.36339019]), 'split46_test_score': array([ -7.34176039,  -7.47169447,  -8.14078154, -15.5648908 ,\n",
      "       -61.92408309]), 'split47_test_score': array([-11.51876947, -11.99097584, -14.51185977, -24.85084301,\n",
      "       -68.72145783]), 'split48_test_score': array([-10.29405447, -10.3094728 , -11.68860563, -21.308742  ,\n",
      "       -64.70412764]), 'split49_test_score': array([ -9.21357099,  -9.78767212, -13.1826944 , -26.02809613,\n",
      "       -77.2161924 ]), 'split50_test_score': array([ -9.32536927,  -9.56127602, -11.40780013, -21.58457055,\n",
      "       -69.56984786]), 'split51_test_score': array([ -9.39486324,  -9.70720786, -11.97525371, -24.51815097,\n",
      "       -79.19547474]), 'split52_test_score': array([ -6.40267297,  -6.34223122,  -6.99180958, -13.62193219,\n",
      "       -51.7137997 ]), 'split53_test_score': array([ -9.08415993,  -9.44416548, -11.50507148, -21.91995835,\n",
      "       -72.2648709 ]), 'split54_test_score': array([ -6.56966219,  -6.61011279,  -7.45688278, -16.09159354,\n",
      "       -63.1626672 ]), 'split55_test_score': array([ -8.75978702,  -9.05529991, -11.28675614, -20.64021116,\n",
      "       -64.29429808]), 'split56_test_score': array([-10.52246944, -10.27090266, -11.28196661, -21.158436  ,\n",
      "       -66.21612733]), 'split57_test_score': array([ -9.10868583,  -9.22083027, -10.34827514, -19.67954169,\n",
      "       -69.50160586]), 'split58_test_score': array([-10.72511979, -11.07132495, -13.77953332, -24.47061524,\n",
      "       -69.47000878]), 'split59_test_score': array([ -6.81529359,  -6.96450981,  -8.26162184, -16.96251929,\n",
      "       -61.40721417]), 'split60_test_score': array([ -8.28098205,  -8.78204712, -11.56908728, -21.82019869,\n",
      "       -66.03691214]), 'split61_test_score': array([ -6.88502071,  -7.00060106,  -8.37047185, -19.2951546 ,\n",
      "       -71.73100327]), 'split62_test_score': array([-10.83893281, -10.56387864, -10.94428798, -19.98370204,\n",
      "       -66.49667242]), 'split63_test_score': array([ -9.74510219, -10.01282206, -11.5523571 , -18.45884934,\n",
      "       -57.14700622]), 'split64_test_score': array([ -6.07893293,  -6.08426056,  -7.05751487, -16.70966174,\n",
      "       -67.65986558]), 'split65_test_score': array([ -6.71006607,  -6.93997587,  -9.01711681, -18.25108334,\n",
      "       -64.40630413]), 'split66_test_score': array([ -8.96566641,  -8.90596064,  -9.61042826, -19.49478528,\n",
      "       -71.68130356]), 'split67_test_score': array([ -9.64864771,  -9.81316065, -11.27103303, -18.01683626,\n",
      "       -52.74775535]), 'split68_test_score': array([-10.53930444, -10.729388  , -13.18754563, -25.22260724,\n",
      "       -73.59103532]), 'split69_test_score': array([ -9.14467559,  -9.46377789, -11.6301722 , -23.45485075,\n",
      "       -75.78100469]), 'split70_test_score': array([ -7.11162791,  -7.27567215,  -8.61953601, -16.15650516,\n",
      "       -59.97865146]), 'split71_test_score': array([-10.82158271, -11.5767484 , -15.68319251, -28.7399371 ,\n",
      "       -75.83551346]), 'split72_test_score': array([-12.47469107, -12.55802725, -14.99045663, -28.12849679,\n",
      "       -80.12435107]), 'split73_test_score': array([ -6.54046057,  -6.75282657,  -8.42263662, -17.99335304,\n",
      "       -69.14176611]), 'split74_test_score': array([ -5.06335662,  -5.09660673,  -6.0556756 , -14.57801478,\n",
      "       -61.35480489]), 'split75_test_score': array([ -8.48777833,  -8.45126324,  -9.50672954, -20.83960279,\n",
      "       -70.3313097 ]), 'split76_test_score': array([ -7.15518395,  -7.08761847,  -7.50568661, -13.9409607 ,\n",
      "       -59.03884956]), 'split77_test_score': array([ -8.1996571 ,  -7.99514894,  -7.65881879, -13.44170969,\n",
      "       -60.23313866]), 'split78_test_score': array([-10.47584289, -10.36821491, -10.6922331 , -18.52464274,\n",
      "       -59.37562553]), 'split79_test_score': array([-11.33747835, -12.03995404, -15.88523989, -28.48681388,\n",
      "       -71.96069151]), 'split80_test_score': array([ -8.12806596,  -8.36566555, -10.18077219, -17.3269193 ,\n",
      "       -55.06158881]), 'split81_test_score': array([ -9.35309285,  -9.42660458, -10.43987726, -18.76629369,\n",
      "       -60.735898  ]), 'split82_test_score': array([-12.21678087, -12.64089391, -15.64769525, -31.27858644,\n",
      "       -88.14846605]), 'split83_test_score': array([ -6.02808834,  -5.85480661,  -6.48241314, -15.59045563,\n",
      "       -66.26321622]), 'split84_test_score': array([ -8.37017317,  -8.4195131 ,  -9.27236448, -18.41116698,\n",
      "       -66.907983  ]), 'split85_test_score': array([-12.01718865, -12.17989533, -14.0339699 , -24.78941356,\n",
      "       -72.64614455]), 'split86_test_score': array([ -8.66182343,  -8.73076082,  -9.8590732 , -16.41084903,\n",
      "       -57.21910239]), 'split87_test_score': array([ -8.98002336,  -9.52413325, -12.81461007, -23.96485606,\n",
      "       -67.26566607]), 'split88_test_score': array([ -6.95641626,  -7.41177774,  -9.8394414 , -21.36004189,\n",
      "       -70.88107132]), 'split89_test_score': array([ -6.06822177,  -5.75073662,  -5.80361338, -12.83026878,\n",
      "       -61.39387763]), 'split90_test_score': array([ -7.15998285,  -7.18051384,  -7.3649076 , -13.08018752,\n",
      "       -58.8140617 ]), 'split91_test_score': array([ -8.62988108,  -8.60705335,  -9.85214452, -17.71572161,\n",
      "       -56.41188046]), 'split92_test_score': array([ -8.09882079,  -8.1454418 ,  -9.34447469, -15.05931847,\n",
      "       -49.90880106]), 'split93_test_score': array([ -7.02080582,  -7.45294128, -10.06015716, -23.17804509,\n",
      "       -78.59483643]), 'split94_test_score': array([ -8.49233588,  -8.7259445 , -10.82335695, -19.60293732,\n",
      "       -59.2652472 ]), 'split95_test_score': array([-11.77623095, -12.02145749, -13.91512581, -23.79030374,\n",
      "       -63.76305485]), 'split96_test_score': array([ -9.40024724,  -9.88584227, -13.00843968, -26.99148621,\n",
      "       -81.91999962]), 'split97_test_score': array([ -8.15263541,  -8.32092354,  -9.78495118, -21.35265806,\n",
      "       -76.11752883]), 'split98_test_score': array([ -9.24741435,  -9.23157031, -10.62444382, -21.36898997,\n",
      "       -72.3391454 ]), 'split99_test_score': array([ -8.88890735,  -8.8317546 ,  -9.66329568, -18.98057669,\n",
      "       -70.70042992]), 'mean_test_score': array([ -8.71470012,  -8.86467683, -10.4546547 , -20.08515073,\n",
      "       -66.71437766]), 'std_test_score': array([1.74483266, 1.80961227, 2.46712381, 4.39604767, 8.53501573]), 'rank_test_score': array([1, 2, 3, 4, 5], dtype=int32), 'split0_train_score': array([ -8.28956891,  -8.45979388, -10.16342632, -19.97377444,\n",
      "       -67.04054788]), 'split1_train_score': array([ -8.39356369,  -8.53945076, -10.0443228 , -19.39453926,\n",
      "       -65.65008257]), 'split2_train_score': array([ -8.13342472,  -8.28982202,  -9.81989178, -19.25334376,\n",
      "       -65.89429226]), 'split3_train_score': array([ -8.85829151,  -9.00963105, -10.63986878, -20.31052965,\n",
      "       -67.41066476]), 'split4_train_score': array([ -8.60272069,  -8.76120476, -10.28759336, -19.70023721,\n",
      "       -65.88538157]), 'split5_train_score': array([ -8.45717731,  -8.61464221, -10.23468267, -19.87696558,\n",
      "       -66.97007221]), 'split6_train_score': array([ -8.82850715,  -8.97757047, -10.55873098, -20.31069706,\n",
      "       -66.70087187]), 'split7_train_score': array([ -8.25561439,  -8.42511823,  -9.9528645 , -19.40113897,\n",
      "       -64.88703464]), 'split8_train_score': array([ -8.83874925,  -8.99144   , -10.60136168, -20.33432698,\n",
      "       -67.35119517]), 'split9_train_score': array([ -8.53617138,  -8.70444354, -10.37687433, -20.15565896,\n",
      "       -66.61264756]), 'split10_train_score': array([ -8.44517085,  -8.5935334 , -10.12639134, -19.57711747,\n",
      "       -65.4901715 ]), 'split11_train_score': array([ -8.39748133,  -8.56619305, -10.10144342, -19.55832311,\n",
      "       -65.64021112]), 'split12_train_score': array([ -8.76323707,  -8.91655925, -10.46962219, -20.04040988,\n",
      "       -66.73142641]), 'split13_train_score': array([ -8.53530272,  -8.69637814, -10.25473723, -19.80394744,\n",
      "       -66.73186464]), 'split14_train_score': array([ -8.28570822,  -8.45088342, -10.1047396 , -19.69825044,\n",
      "       -66.42655306]), 'split15_train_score': array([ -8.65813673,  -8.81651692, -10.50513884, -20.27195146,\n",
      "       -66.18997483]), 'split16_train_score': array([ -8.87065788,  -9.02055026, -10.65186068, -20.32455593,\n",
      "       -67.19878814]), 'split17_train_score': array([ -8.30193978,  -8.479067  , -10.19632551, -20.08894703,\n",
      "       -67.25490421]), 'split18_train_score': array([ -8.63596503,  -8.78550865, -10.30517358, -19.86078422,\n",
      "       -66.77378104]), 'split19_train_score': array([ -8.29010957,  -8.44227898,  -9.97552227, -19.5006641 ,\n",
      "       -65.99777979]), 'split20_train_score': array([ -8.765414  ,  -8.91180469, -10.44375886, -20.0166633 ,\n",
      "       -66.78110495]), 'split21_train_score': array([ -8.53752777,  -8.68382496, -10.42050072, -20.39113697,\n",
      "       -68.38105699]), 'split22_train_score': array([ -8.57913039,  -8.73515249, -10.24338657, -19.65860594,\n",
      "       -64.83529888]), 'split23_train_score': array([ -8.40626698,  -8.57294192, -10.22535757, -19.89926844,\n",
      "       -66.76310966]), 'split24_train_score': array([ -8.19274342,  -8.33172236,  -9.83069931, -19.17180653,\n",
      "       -65.23154863]), 'split25_train_score': array([ -8.49157334,  -8.66478753, -10.16159691, -19.58904403,\n",
      "       -65.63631719]), 'split26_train_score': array([ -8.60279803,  -8.78362473, -10.46207861, -20.15650562,\n",
      "       -66.68313403]), 'split27_train_score': array([ -8.76727504,  -8.93241669, -10.66939603, -20.57643907,\n",
      "       -67.26542844]), 'split28_train_score': array([ -8.28467879,  -8.44017401,  -9.96777446, -19.42362197,\n",
      "       -66.15762857]), 'split29_train_score': array([ -8.51407538,  -8.66924367, -10.21739625, -19.80648001,\n",
      "       -66.64563581]), 'split30_train_score': array([ -8.58599325,  -8.72631349, -10.15251584, -19.34503679,\n",
      "       -65.47597387]), 'split31_train_score': array([ -8.43082004,  -8.58861665, -10.28452887, -19.98809996,\n",
      "       -68.09192701]), 'split32_train_score': array([ -8.73726292,  -8.89815827, -10.50494856, -20.04522726,\n",
      "       -66.30634857]), 'split33_train_score': array([ -8.33183621,  -8.48539535, -10.08123365, -19.74895063,\n",
      "       -66.79946893]), 'split34_train_score': array([ -8.55608789,  -8.7223999 , -10.23688902, -19.78833805,\n",
      "       -66.82763511]), 'split35_train_score': array([ -8.29606831,  -8.47167487, -10.14916518, -19.927717  ,\n",
      "       -66.67803206]), 'split36_train_score': array([ -8.46467057,  -8.60676412, -10.10795618, -19.5566765 ,\n",
      "       -65.11382458]), 'split37_train_score': array([ -8.61476714,  -8.76793166, -10.34333827, -20.05237143,\n",
      "       -66.10813499]), 'split38_train_score': array([ -8.5396122 ,  -8.70773036, -10.29074645, -19.8240551 ,\n",
      "       -65.33167553]), 'split39_train_score': array([ -8.56422596,  -8.72731245, -10.46895501, -20.37530968,\n",
      "       -67.65968927]), 'split40_train_score': array([ -8.40692956,  -8.57035807, -10.19354447, -19.7950507 ,\n",
      "       -66.56356549]), 'split41_train_score': array([ -8.61057733,  -8.76267292, -10.31012634, -19.83449711,\n",
      "       -66.30539174]), 'split42_train_score': array([ -8.76954415,  -8.92480707, -10.57404912, -20.33428788,\n",
      "       -67.06202252]), 'split43_train_score': array([ -8.56186107,  -8.73409275, -10.4382932 , -20.30135509,\n",
      "       -67.33265196]), 'split44_train_score': array([ -8.35369906,  -8.52046653, -10.1362415 , -19.79072095,\n",
      "       -66.5216955 ]), 'split45_train_score': array([ -8.77371958,  -8.93339465, -10.48461427, -19.94871266,\n",
      "       -65.70959636]), 'split46_train_score': array([ -8.67352599,  -8.81965905, -10.43507856, -20.29024006,\n",
      "       -67.01903174]), 'split47_train_score': array([ -8.20756833,  -8.3516609 ,  -9.87335759, -19.34548033,\n",
      "       -66.07349783]), 'split48_train_score': array([ -8.34929581,  -8.51386322, -10.1349382 , -19.71924444,\n",
      "       -66.52518222]), 'split49_train_score': array([ -8.47448673,  -8.63034606, -10.09814384, -19.37349268,\n",
      "       -65.31843615]), 'split50_train_score': array([ -8.44321628,  -8.60097762, -10.16760242, -19.74636605,\n",
      "       -66.10758439]), 'split51_train_score': array([ -8.4393922 ,  -8.59885041, -10.14864122, -19.61504319,\n",
      "       -65.29421948]), 'split52_train_score': array([ -8.77309858,  -8.92976585, -10.58037969, -20.29965285,\n",
      "       -67.72716344]), 'split53_train_score': array([ -8.48731929,  -8.63822611, -10.18479724, -19.75022538,\n",
      "       -66.05268597]), 'split54_train_score': array([ -8.75178271,  -8.9067892 , -10.54262939, -20.24279361,\n",
      "       -66.85433195]), 'split55_train_score': array([ -8.50806439,  -8.67067175, -10.2066718 , -19.71282885,\n",
      "       -66.59485817]), 'split56_train_score': array([ -8.3137245 ,  -8.48338721, -10.16352674, -19.77203251,\n",
      "       -66.39695415]), 'split57_train_score': array([ -8.46667921,  -8.62782682, -10.23021354, -19.92767352,\n",
      "       -66.3482206 ]), 'split58_train_score': array([ -8.29294867,  -8.45103472,  -9.98320572, -19.47573434,\n",
      "       -66.14093223]), 'split59_train_score': array([ -8.72046361,  -8.87009237, -10.47716165, -20.16881468,\n",
      "       -66.90380887]), 'split60_train_score': array([ -8.5673465 ,  -8.71042593, -10.21688315, -19.68185007,\n",
      "       -66.31329556]), 'split61_train_score': array([ -8.71203862,  -8.87319781, -10.48120766, -20.17265693,\n",
      "       -66.23494316]), 'split62_train_score': array([ -8.27680241,  -8.44638513, -10.14980727, -19.86450778,\n",
      "       -66.55623955]), 'split63_train_score': array([ -8.4091666 ,  -8.55309384, -10.11616946, -19.78128815,\n",
      "       -67.05762404]), 'split64_train_score': array([ -8.8016458 ,  -8.96485417, -10.59735216, -20.29300014,\n",
      "       -66.51666624]), 'split65_train_score': array([ -8.73788705,  -8.90436274, -10.44751492, -20.00333003,\n",
      "       -66.70168813]), 'split66_train_score': array([ -8.48634607,  -8.6540239 , -10.30211502, -20.02735422,\n",
      "       -66.17356358]), 'split67_train_score': array([ -8.41768214,  -8.57019876, -10.15700958, -19.76382574,\n",
      "       -67.47422222]), 'split68_train_score': array([ -8.31166615,  -8.4786984 , -10.04251543, -19.45891414,\n",
      "       -65.70923153]), 'split69_train_score': array([ -8.46991702,  -8.61900004, -10.17989585, -19.67271094,\n",
      "       -65.67487287]), 'split70_train_score': array([ -8.69331857,  -8.84919781, -10.4318282 , -20.06832248,\n",
      "       -66.93477464]), 'split71_train_score': array([ -8.30093676,  -8.44892972,  -9.87139648, -19.12601971,\n",
      "       -65.47084348]), 'split72_train_score': array([ -8.09235938,  -8.26818687,  -9.85132167, -19.31130536,\n",
      "       -65.31833582]), 'split73_train_score': array([ -8.7564909 ,  -8.92194484, -10.4806236 , -20.17031575,\n",
      "       -66.56549375]), 'split74_train_score': array([ -8.91810923,  -9.07346371, -10.69664173, -20.44501969,\n",
      "       -66.95523209]), 'split75_train_score': array([ -8.54070396,  -8.70006393, -10.36254956, -19.93286662,\n",
      "       -66.09794358]), 'split76_train_score': array([ -8.68389777,  -8.84304859, -10.49090646, -20.32249051,\n",
      "       -67.21591498]), 'split77_train_score': array([ -8.56832595,  -8.72969931, -10.4209025 , -20.44044229,\n",
      "       -67.34867215]), 'split78_train_score': array([ -8.34223792,  -8.49332155, -10.17611923, -19.91740069,\n",
      "       -66.98865137]), 'split79_train_score': array([ -8.25416551,  -8.4030673 ,  -9.85755995, -18.96654658,\n",
      "       -65.50695116]), 'split80_train_score': array([ -8.57383804,  -8.72959497, -10.2833694 , -19.87587742,\n",
      "       -67.32786092]), 'split81_train_score': array([ -8.45149524,  -8.60059705, -10.23227247, -19.87774154,\n",
      "       -66.85121112]), 'split82_train_score': array([ -8.13375064,  -8.28844848,  -9.82378427, -19.21364889,\n",
      "       -64.63494577]), 'split83_train_score': array([ -8.8055048 ,  -8.97348522, -10.64402623, -20.32373347,\n",
      "       -66.46948061]), 'split84_train_score': array([ -8.5480599 ,  -8.70321519, -10.34056977, -20.07202028,\n",
      "       -66.52870949]), 'split85_train_score': array([ -8.14133456,  -8.30305532,  -9.89187948, -19.5442798 ,\n",
      "       -66.02819906]), 'split86_train_score': array([ -8.53014283,  -8.69600608, -10.28056343, -20.04504045,\n",
      "       -67.42748127]), 'split87_train_score': array([ -8.49454001,  -8.64929124, -10.12171587, -19.46889408,\n",
      "       -66.22260113]), 'split88_train_score': array([ -8.71169401,  -8.85367814, -10.39163433, -19.84399666,\n",
      "       -65.93700178]), 'split89_train_score': array([ -8.79882919,  -8.9740469 , -10.66935211, -20.43621074,\n",
      "       -67.00160608]), 'split90_train_score': array([ -8.692932  ,  -8.84433087, -10.48311374, -20.4224462 ,\n",
      "       -67.35775344]), 'split91_train_score': array([ -8.51944562,  -8.68772051, -10.30778451, -19.91622067,\n",
      "       -67.26211261]), 'split92_train_score': array([ -8.57437686,  -8.73149986, -10.33657295, -20.04670924,\n",
      "       -67.72911977]), 'split93_train_score': array([ -8.70446547,  -8.85494969, -10.38246695, -19.85702901,\n",
      "       -65.46142681]), 'split94_train_score': array([ -8.53926689,  -8.69854707, -10.25954769, -19.77494593,\n",
      "       -67.00228788]), 'split95_train_score': array([ -8.18556214,  -8.33173483,  -9.91909646, -19.38253498,\n",
      "       -66.46639415]), 'split96_train_score': array([ -8.45218961,  -8.60961566, -10.11206802, -19.47841268,\n",
      "       -65.09471945]), 'split97_train_score': array([ -8.57586827,  -8.73198904, -10.33276729, -20.09119252,\n",
      "       -65.95626374]), 'split98_train_score': array([ -8.44970827,  -8.61727516, -10.24542948, -19.73873904,\n",
      "       -65.78746627]), 'split99_train_score': array([ -8.49517511,  -8.6629999 , -10.29816441, -19.99036207,\n",
      "       -66.24619258]), 'mean_train_score': array([ -8.51737447,  -8.67554765, -10.26682509, -19.87041968,\n",
      "       -66.44071043]), 'std_train_score': array([0.19131022, 0.1906056 , 0.216267  , 0.34619743, 0.74839801])}\n"
     ]
    }
   ],
   "source": [
    "print((ridgeRegressor_1.cv_results_))\n",
    "\n",
    "\n"
   ]
  },
  {
   "cell_type": "code",
   "execution_count": 78,
   "metadata": {
    "colab": {
     "base_uri": "https://localhost:8080/",
     "height": 66
    },
    "colab_type": "code",
    "id": "g6ivx9U2wHGa",
    "outputId": "b32f1fa9-46d3-4c1f-fd54-e257a990d7d1"
   },
   "outputs": [
    {
     "name": "stdout",
     "output_type": "stream",
     "text": [
      "[ -8.71470012  -8.86467683 -10.4546547  -20.08515073 -66.71437766]\n",
      "[0.19131022 0.1906056  0.216267   0.34619743 0.74839801]\n",
      "{'alpha': 0.001}\n"
     ]
    }
   ],
   "source": [
    "print(ridgeRegressor_1.cv_results_[\"mean_test_score\"])\n",
    "print(ridgeRegressor_1.cv_results_[\"std_train_score\"])\n",
    "print(ridgeRegressor_1.cv_results_[\"params\"][0])\n"
   ]
  },
  {
   "cell_type": "code",
   "execution_count": 87,
   "metadata": {
    "colab": {
     "base_uri": "https://localhost:8080/",
     "height": 158
    },
    "colab_type": "code",
    "id": "5BGNSrOBFGCg",
    "outputId": "8543ac17-9a3c-4437-aaa6-9ffb12e69a44"
   },
   "outputs": [
    {
     "ename": "AttributeError",
     "evalue": "ignored",
     "output_type": "error",
     "traceback": [
      "\u001b[0;31m---------------------------------------------------------------------------\u001b[0m",
      "\u001b[0;31mAttributeError\u001b[0m                            Traceback (most recent call last)",
      "\u001b[0;32m<ipython-input-87-7f395d1abe78>\u001b[0m in \u001b[0;36m<module>\u001b[0;34m()\u001b[0m\n\u001b[0;32m----> 1\u001b[0;31m \u001b[0mridgeRegressor_1\u001b[0m\u001b[0;34m.\u001b[0m\u001b[0mcv_results_\u001b[0m\u001b[0;34m.\u001b[0m\u001b[0mshape\u001b[0m\u001b[0;34m(\u001b[0m\u001b[0;34m)\u001b[0m\u001b[0;34m\u001b[0m\u001b[0;34m\u001b[0m\u001b[0m\n\u001b[0m",
      "\u001b[0;31mAttributeError\u001b[0m: 'dict' object has no attribute 'shape'"
     ]
    }
   ],
   "source": [
    "ridgeRegressor_1.cv_results_."
   ]
  },
  {
   "cell_type": "code",
   "execution_count": 0,
   "metadata": {
    "colab": {},
    "colab_type": "code",
    "id": "GwuOR-yj-v2S"
   },
   "outputs": [],
   "source": [
    "\n",
    "model = Ridge(alpha=10.0,normalize=True)\n",
    "scoring = 'neg_mean_squared_error'\n",
    "results = cross_val_score(model, X_test, y1_test, cv=rkf, scoring=scoring)\n",
    "print(results.mean())"
   ]
  }
 ],
 "metadata": {
  "colab": {
   "collapsed_sections": [],
   "name": "hw1.ipynb",
   "provenance": []
  },
  "kernelspec": {
   "display_name": "Python 3",
   "language": "python",
   "name": "python3"
  },
  "language_info": {
   "codemirror_mode": {
    "name": "ipython",
    "version": 3
   },
   "file_extension": ".py",
   "mimetype": "text/x-python",
   "name": "python",
   "nbconvert_exporter": "python",
   "pygments_lexer": "ipython3",
   "version": "3.7.7"
  }
 },
 "nbformat": 4,
 "nbformat_minor": 1
}
