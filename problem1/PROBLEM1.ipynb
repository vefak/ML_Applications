{
 "cells": [
  {
   "cell_type": "markdown",
   "metadata": {},
   "source": [
    "# BBL536E DATA SCIENCE \n",
    "## HOMEWORK #1\n",
    "---\n",
    "Vefak Murat Akman\n"
   ]
  },
  {
   "cell_type": "markdown",
   "metadata": {},
   "source": [
    "## Problem 1:\n",
    "---\n",
    "### Task 1:\n",
    "\n",
    "Build predictive model using Ridge Regresssion.\\\n",
    "Find optimal alpha parameter: 0.001, 0.01, 0.1, 1.0, 10.0\\\n",
    "Calculate Mean Absolute Error and Mean Squared Errors by using 10-fold 10 repetition. \\\n",
    "Calculate mean score and the standart deviation. "
   ]
  },
  {
   "cell_type": "markdown",
   "metadata": {},
   "source": [
    "### Import Libraries\n",
    "---"
   ]
  },
  {
   "cell_type": "code",
   "execution_count": 1,
   "metadata": {},
   "outputs": [],
   "source": [
    "#Import Libraries\n",
    "import pandas as pd\n",
    "from sklearn.linear_model import Ridge\n",
    "from sklearn.model_selection import cross_val_score,RepeatedKFold,GridSearchCV\n",
    "import numpy as np\n",
    "import matplotlib as plt\n",
    "from sklearn.preprocessing import StandardScaler\n",
    "from sklearn.metrics import mean_squared_error"
   ]
  },
  {
   "cell_type": "markdown",
   "metadata": {},
   "source": [
    "### Preparing & Exploring Data\n",
    "---\n",
    "This data about energy analysis using 12 different building shapes.\\\n",
    "X1-to-X8 features about building. y1 and y2 are outcomes. All features are numeric.\n",
    "> **Specifically**: \n",
    "    - X1 Relative Compactness\n",
    "    - X2 Surface Area \n",
    "    - X3 Wall Area \n",
    "    - X4 Roof Area \n",
    "    - X5 Overall Height \n",
    "    - X6 Orientation \n",
    "    - X7 Glazing Area \n",
    "    - X8 Glazing Area Distribution \n",
    "    - Y1 Heating Load \n",
    "    - Y2 Cooling Load"
   ]
  },
  {
   "cell_type": "code",
   "execution_count": 2,
   "metadata": {},
   "outputs": [
    {
     "ename": "ImportError",
     "evalue": "Missing optional dependency 'xlrd'. Install xlrd >= 1.0.0 for Excel support Use pip or conda to install xlrd.",
     "output_type": "error",
     "traceback": [
      "\u001b[0;31m---------------------------------------------------------------------------\u001b[0m",
      "\u001b[0;31mImportError\u001b[0m                               Traceback (most recent call last)",
      "\u001b[0;32m<ipython-input-2-c74f2377ae35>\u001b[0m in \u001b[0;36m<module>\u001b[0;34m()\u001b[0m\n\u001b[0;32m----> 1\u001b[0;31m \u001b[0mdata\u001b[0m \u001b[0;34m=\u001b[0m \u001b[0mpd\u001b[0m\u001b[0;34m.\u001b[0m\u001b[0mread_excel\u001b[0m\u001b[0;34m(\u001b[0m\u001b[0;34m\"ENB2012_data.xlsx\"\u001b[0m\u001b[0;34m)\u001b[0m\u001b[0;34m\u001b[0m\u001b[0;34m\u001b[0m\u001b[0m\n\u001b[0m\u001b[1;32m      2\u001b[0m \u001b[0mprint\u001b[0m\u001b[0;34m(\u001b[0m\u001b[0;34m\"Length of data= \"\u001b[0m\u001b[0;34m,\u001b[0m\u001b[0mlen\u001b[0m\u001b[0;34m(\u001b[0m\u001b[0mdata\u001b[0m\u001b[0;34m)\u001b[0m\u001b[0;34m)\u001b[0m\u001b[0;34m\u001b[0m\u001b[0;34m\u001b[0m\u001b[0m\n\u001b[1;32m      3\u001b[0m \u001b[0mdata\u001b[0m\u001b[0;34m.\u001b[0m\u001b[0mhead\u001b[0m\u001b[0;34m(\u001b[0m\u001b[0;34m)\u001b[0m\u001b[0;34m\u001b[0m\u001b[0;34m\u001b[0m\u001b[0m\n",
      "\u001b[0;32m/home/vefak/.local/lib/python3.6/site-packages/pandas/io/excel/_base.py\u001b[0m in \u001b[0;36mread_excel\u001b[0;34m(io, sheet_name, header, names, index_col, usecols, squeeze, dtype, engine, converters, true_values, false_values, skiprows, nrows, na_values, keep_default_na, verbose, parse_dates, date_parser, thousands, comment, skipfooter, convert_float, mangle_dupe_cols, **kwds)\u001b[0m\n\u001b[1;32m    302\u001b[0m \u001b[0;34m\u001b[0m\u001b[0m\n\u001b[1;32m    303\u001b[0m     \u001b[0;32mif\u001b[0m \u001b[0;32mnot\u001b[0m \u001b[0misinstance\u001b[0m\u001b[0;34m(\u001b[0m\u001b[0mio\u001b[0m\u001b[0;34m,\u001b[0m \u001b[0mExcelFile\u001b[0m\u001b[0;34m)\u001b[0m\u001b[0;34m:\u001b[0m\u001b[0;34m\u001b[0m\u001b[0;34m\u001b[0m\u001b[0m\n\u001b[0;32m--> 304\u001b[0;31m         \u001b[0mio\u001b[0m \u001b[0;34m=\u001b[0m \u001b[0mExcelFile\u001b[0m\u001b[0;34m(\u001b[0m\u001b[0mio\u001b[0m\u001b[0;34m,\u001b[0m \u001b[0mengine\u001b[0m\u001b[0;34m=\u001b[0m\u001b[0mengine\u001b[0m\u001b[0;34m)\u001b[0m\u001b[0;34m\u001b[0m\u001b[0;34m\u001b[0m\u001b[0m\n\u001b[0m\u001b[1;32m    305\u001b[0m     \u001b[0;32melif\u001b[0m \u001b[0mengine\u001b[0m \u001b[0;32mand\u001b[0m \u001b[0mengine\u001b[0m \u001b[0;34m!=\u001b[0m \u001b[0mio\u001b[0m\u001b[0;34m.\u001b[0m\u001b[0mengine\u001b[0m\u001b[0;34m:\u001b[0m\u001b[0;34m\u001b[0m\u001b[0;34m\u001b[0m\u001b[0m\n\u001b[1;32m    306\u001b[0m         raise ValueError(\n",
      "\u001b[0;32m/home/vefak/.local/lib/python3.6/site-packages/pandas/io/excel/_base.py\u001b[0m in \u001b[0;36m__init__\u001b[0;34m(self, io, engine)\u001b[0m\n\u001b[1;32m    819\u001b[0m         \u001b[0mself\u001b[0m\u001b[0;34m.\u001b[0m\u001b[0m_io\u001b[0m \u001b[0;34m=\u001b[0m \u001b[0mstringify_path\u001b[0m\u001b[0;34m(\u001b[0m\u001b[0mio\u001b[0m\u001b[0;34m)\u001b[0m\u001b[0;34m\u001b[0m\u001b[0;34m\u001b[0m\u001b[0m\n\u001b[1;32m    820\u001b[0m \u001b[0;34m\u001b[0m\u001b[0m\n\u001b[0;32m--> 821\u001b[0;31m         \u001b[0mself\u001b[0m\u001b[0;34m.\u001b[0m\u001b[0m_reader\u001b[0m \u001b[0;34m=\u001b[0m \u001b[0mself\u001b[0m\u001b[0;34m.\u001b[0m\u001b[0m_engines\u001b[0m\u001b[0;34m[\u001b[0m\u001b[0mengine\u001b[0m\u001b[0;34m]\u001b[0m\u001b[0;34m(\u001b[0m\u001b[0mself\u001b[0m\u001b[0;34m.\u001b[0m\u001b[0m_io\u001b[0m\u001b[0;34m)\u001b[0m\u001b[0;34m\u001b[0m\u001b[0;34m\u001b[0m\u001b[0m\n\u001b[0m\u001b[1;32m    822\u001b[0m \u001b[0;34m\u001b[0m\u001b[0m\n\u001b[1;32m    823\u001b[0m     \u001b[0;32mdef\u001b[0m \u001b[0m__fspath__\u001b[0m\u001b[0;34m(\u001b[0m\u001b[0mself\u001b[0m\u001b[0;34m)\u001b[0m\u001b[0;34m:\u001b[0m\u001b[0;34m\u001b[0m\u001b[0;34m\u001b[0m\u001b[0m\n",
      "\u001b[0;32m/home/vefak/.local/lib/python3.6/site-packages/pandas/io/excel/_xlrd.py\u001b[0m in \u001b[0;36m__init__\u001b[0;34m(self, filepath_or_buffer)\u001b[0m\n\u001b[1;32m     18\u001b[0m         \"\"\"\n\u001b[1;32m     19\u001b[0m         \u001b[0merr_msg\u001b[0m \u001b[0;34m=\u001b[0m \u001b[0;34m\"Install xlrd >= 1.0.0 for Excel support\"\u001b[0m\u001b[0;34m\u001b[0m\u001b[0;34m\u001b[0m\u001b[0m\n\u001b[0;32m---> 20\u001b[0;31m         \u001b[0mimport_optional_dependency\u001b[0m\u001b[0;34m(\u001b[0m\u001b[0;34m\"xlrd\"\u001b[0m\u001b[0;34m,\u001b[0m \u001b[0mextra\u001b[0m\u001b[0;34m=\u001b[0m\u001b[0merr_msg\u001b[0m\u001b[0;34m)\u001b[0m\u001b[0;34m\u001b[0m\u001b[0;34m\u001b[0m\u001b[0m\n\u001b[0m\u001b[1;32m     21\u001b[0m         \u001b[0msuper\u001b[0m\u001b[0;34m(\u001b[0m\u001b[0;34m)\u001b[0m\u001b[0;34m.\u001b[0m\u001b[0m__init__\u001b[0m\u001b[0;34m(\u001b[0m\u001b[0mfilepath_or_buffer\u001b[0m\u001b[0;34m)\u001b[0m\u001b[0;34m\u001b[0m\u001b[0;34m\u001b[0m\u001b[0m\n\u001b[1;32m     22\u001b[0m \u001b[0;34m\u001b[0m\u001b[0m\n",
      "\u001b[0;32m/home/vefak/.local/lib/python3.6/site-packages/pandas/compat/_optional.py\u001b[0m in \u001b[0;36mimport_optional_dependency\u001b[0;34m(name, extra, raise_on_missing, on_version)\u001b[0m\n\u001b[1;32m     90\u001b[0m     \u001b[0;32mexcept\u001b[0m \u001b[0mImportError\u001b[0m\u001b[0;34m:\u001b[0m\u001b[0;34m\u001b[0m\u001b[0;34m\u001b[0m\u001b[0m\n\u001b[1;32m     91\u001b[0m         \u001b[0;32mif\u001b[0m \u001b[0mraise_on_missing\u001b[0m\u001b[0;34m:\u001b[0m\u001b[0;34m\u001b[0m\u001b[0;34m\u001b[0m\u001b[0m\n\u001b[0;32m---> 92\u001b[0;31m             \u001b[0;32mraise\u001b[0m \u001b[0mImportError\u001b[0m\u001b[0;34m(\u001b[0m\u001b[0mmsg\u001b[0m\u001b[0;34m)\u001b[0m \u001b[0;32mfrom\u001b[0m \u001b[0;32mNone\u001b[0m\u001b[0;34m\u001b[0m\u001b[0;34m\u001b[0m\u001b[0m\n\u001b[0m\u001b[1;32m     93\u001b[0m         \u001b[0;32melse\u001b[0m\u001b[0;34m:\u001b[0m\u001b[0;34m\u001b[0m\u001b[0;34m\u001b[0m\u001b[0m\n\u001b[1;32m     94\u001b[0m             \u001b[0;32mreturn\u001b[0m \u001b[0;32mNone\u001b[0m\u001b[0;34m\u001b[0m\u001b[0;34m\u001b[0m\u001b[0m\n",
      "\u001b[0;31mImportError\u001b[0m: Missing optional dependency 'xlrd'. Install xlrd >= 1.0.0 for Excel support Use pip or conda to install xlrd."
     ]
    }
   ],
   "source": [
    "data = pd.read_excel(\"ENB2012_data.xlsx\")\n",
    "print(\"Length of data= \",len(data))\n",
    "data.head()"
   ]
  },
  {
   "cell_type": "code",
   "execution_count": null,
   "metadata": {},
   "outputs": [],
   "source": [
    "data.describe()"
   ]
  },
  {
   "cell_type": "code",
   "execution_count": null,
   "metadata": {},
   "outputs": [],
   "source": [
    "# Split Data\n",
    "X = data.iloc[:, 0:8].values\n",
    "y1 = data.iloc[:, 8].values\n",
    "y2 = data.iloc[:, 9].values"
   ]
  },
  {
   "cell_type": "markdown",
   "metadata": {},
   "source": [
    "### Ridge Regression\n",
    "---\n",
    "\n",
    "\n",
    "GridSearchCV is used for Task 1. This function can perform finding best alpha value using iteration. \\\n",
    "`best_params_`: Returns optimal alpha.\\\n",
    "`best_score_` : Returns optimal alpha's mean error(MAE or MSE for each cross validations.\\\n",
    "`cv_results_` : Returns results of gridSearchCV. \\\n",
    "`cv_results_[std_test_score]`: Returns std of each alpha parameter.\n",
    "\n"
   ]
  },
  {
   "cell_type": "code",
   "execution_count": null,
   "metadata": {},
   "outputs": [],
   "source": [
    "def findOptimalRidgeAlpha(x_data,y_data,parameters,scoring,cv):\n",
    "    \"\"\"train_test_splitmodel\n",
    "    Arguments:\n",
    "        x_data = Features\n",
    "        y_data = Results (Labels)\n",
    "        parameters = alpha values\n",
    "        scoring = Scoring method \n",
    "        cv = Cross validation method\n",
    "    Return:\n",
    "        best_params_\n",
    "        best_score_\n",
    "        cv_results_\n",
    "    \"\"\"\n",
    "    ridge_model = Ridge()\n",
    "    ridgeRegressor = GridSearchCV(ridge_model,parameters,scoring=scoring,cv=cv)\n",
    "    ridgeRegressor.fit(x_data,y_data)\n",
    "    return ridgeRegressor.best_params_,ridgeRegressor.best_score_ , ridgeRegressor.cv_results_, ridgeRegressor.best_index_\n",
    "\n",
    "#Create reapeted Kfold object with 10 repeats & 10 splits & random_state\n",
    "rkf = RepeatedKFold(n_splits=10, n_repeats=10, random_state =True)\n",
    "#Parameters\n",
    "parameters = {'alpha': [0.001, 0.01, 0.1, 1.0, 10.0]}"
   ]
  },
  {
   "cell_type": "markdown",
   "metadata": {},
   "source": [
    "### Y1 Results:\n",
    "---"
   ]
  },
  {
   "cell_type": "code",
   "execution_count": null,
   "metadata": {},
   "outputs": [],
   "source": [
    "#Optimal parameter for mean_sqauared_error\n",
    "best_alpha_mse,best_scr_mse,results_mse,idx = findOptimalRidgeAlpha(X,y1,parameters,\"neg_mean_squared_error\",rkf)\n",
    "print(\"Mean Squared Error: \")\n",
    "print(\"   Optimal Alpha= {}\".format(best_alpha_mse))\n",
    "print(\"   Mean of Mean Squared Error= {}\".format(best_scr_mse*-1))\n",
    "print(\"   Std of Mean Squared Error= {}\\n\".format(results_mse[\"std_test_score\"][idx]))\n",
    "print(\"**************************************************\\n\")\n",
    "#Optimal parameter for mean_abosule_error\n",
    "best_alpha_mae,best_scr_mae,results_mae, idx = findOptimalRidgeAlpha(X,y1,parameters,\"neg_mean_absolute_error\",rkf)\n",
    "print(\"Mean Absolute Error:\")\n",
    "print(\"   Optimal Alpha= {}\".format(best_alpha_mae))\n",
    "print(\"   Mean of Mean Absolute Error= {}\".format(best_scr_mae*-1))\n",
    "print(\"   Std of Mean Absolute Error= {}\".format(results_mae[\"std_test_score\"][idx]))\n"
   ]
  },
  {
   "cell_type": "markdown",
   "metadata": {},
   "source": [
    "### Y2 Results: \n",
    "---"
   ]
  },
  {
   "cell_type": "code",
   "execution_count": null,
   "metadata": {},
   "outputs": [],
   "source": [
    "#Optimal parameter for mean_sqauared_error\n",
    "best_alpha_mse,best_scr_mse,results_mse,idx = findOptimalRidgeAlpha(X,y2,parameters,\"neg_mean_squared_error\",rkf)\n",
    "print(\"Mean Squared Error: \")\n",
    "print(\"   Optimal Alpha= {}\".format(best_alpha_mse))\n",
    "print(\"   Mean of Mean Squared Error= {}\".format(best_scr_mse*-1))\n",
    "print(\"   Std of Mean Squared Error= {}\\n\".format(results_mse[\"std_test_score\"][idx]))\n",
    "print(\"**************************************************\\n\")\n",
    "#Optimal parameter train_test_splitmodelfor mean_abosule_error\n",
    "best_alpha_mae,best_scr_mae,results_mae,idx = findOptimalRidgeAlpha(X,y2,parameters,\"neg_mean_absolute_error\",rkf)\n",
    "print(\"Mean Absolute Error:\")\n",
    "print(\"   Optimal Alpha= {}\".format(best_alpha_mae))\n",
    "print(\"   Mean of Mean Squared Error= {}\".format(best_scr_mae*-1))\n",
    "print(\"   Std of Mean Squared Error= {}\".format(results_mae[\"std_test_score\"][idx]))"
   ]
  },
  {
   "cell_type": "markdown",
   "metadata": {},
   "source": [
    "#### Double check for results. \n",
    "In the below I tested the alpha=0.001 with same cv and scoring.\\\n",
    "The results are same. I would say that the proposed method is correct. \\\n",
    "Comment / Uncomment the lines to test other result."
   ]
  },
  {
   "cell_type": "code",
   "execution_count": null,
   "metadata": {},
   "outputs": [],
   "source": [
    "model = Ridge(alpha=0.01)\n",
    "scoring = 'neg_mean_absolute_error'\n",
    "#scoring = 'neg_mean_squared_error'\n",
    "#results = cross_val_score(model, X, y1, cv=rkf, scoring=scoring)\n",
    "results = cross_val_score(model, X, y2, cv=rkf, scoring=scoring)\n",
    "print(results.mean(axis=0)*-1)\n",
    "print(results.std(axis=0))"
   ]
  },
  {
   "cell_type": "markdown",
   "metadata": {},
   "source": [
    "## Problem 1:\n",
    "---\n",
    "## Task 2:\n",
    "\n",
    "Use gridsearch to find optimal parameters \\\n",
    "Calculate Mean Absoulute Error and Mean Squared Error \\\n",
    "Find mean and std of them\n",
    "\n",
    "*The data is already provided. There is no need to call them again. \n",
    "\n"
   ]
  },
  {
   "cell_type": "markdown",
   "metadata": {},
   "source": [
    "### Random Forest Regression \n",
    "\n",
    "### Import Libraries"
   ]
  },
  {
   "cell_type": "code",
   "execution_count": null,
   "metadata": {},
   "outputs": [],
   "source": [
    "from sklearn.model_selection import cross_val_score, GridSearchCV\n",
    "from sklearn.ensemble import RandomForestRegressor\n",
    "from sklearn.preprocessing import MinMaxScaler\n",
    "from sklearn.model_selection import train_test_split"
   ]
  },
  {
   "cell_type": "markdown",
   "metadata": {},
   "source": [
    "### Define Parameters & Cross Validation Method"
   ]
  },
  {
   "cell_type": "code",
   "execution_count": null,
   "metadata": {},
   "outputs": [],
   "source": [
    "# RandomForest Parameters\n",
    "n_estimators = (10, 50, 100, 250, 500)\n",
    "max_depth = [50,150,250]\n",
    "min_samples_split = [2, 3]\n",
    "min_samples_leaf = [1, 2, 3]\n",
    "\n",
    "params_grid = {'n_estimators': n_estimators,\n",
    "               'max_depth': max_depth,\n",
    "               'min_samples_split': min_samples_split,\n",
    "               'min_samples_leaf': min_samples_leaf\n",
    "              }\n",
    "#Kfold\n",
    "rkf = RepeatedKFold(n_splits=10, n_repeats=10, random_state =True)\n",
    "print(params_grid)"
   ]
  },
  {
   "cell_type": "markdown",
   "metadata": {},
   "source": [
    "### Define Random Forest Regressor Function and Grid Search Function to Find Parameters "
   ]
  },
  {
   "cell_type": "code",
   "execution_count": null,
   "metadata": {},
   "outputs": [],
   "source": [
    "#Grid Search \n",
    "def gridSearchRFR(x_data,y_data,param_grid,scoring,cv):\n",
    "    grid_model = GridSearchCV(\n",
    "                estimator=RandomForestRegressor(),\n",
    "                param_grid=param_grid,\n",
    "                cv=cv, scoring=scoring, verbose=2, n_jobs=-1)\n",
    "    results=grid_model.fit(x_data,y_data)\n",
    "    return results\n",
    "#Random Forest Regressor\n",
    "def RandomForestReg(x_data,y_data,best_params,scoring,cv):\n",
    "    rfr = RandomForestRegressor(max_depth=best_params[\"max_depth\"], \n",
    "                                    n_estimators=best_params[\"n_estimators\"],\n",
    "                                    min_samples_split=best_params[\"min_samples_split\"],\n",
    "                                    min_samples_leaf=best_params[\"min_samples_leaf\"],\n",
    "                                    random_state=True, verbose=1)\n",
    "    scores = cross_val_score(rfr, x_data, y_data, scoring=scoring,  cv=cv)\n",
    "    return scores\n",
    "    "
   ]
  },
  {
   "cell_type": "markdown",
   "metadata": {},
   "source": [
    "### Y1 Results:\n",
    "---"
   ]
  },
  {
   "cell_type": "code",
   "execution_count": null,
   "metadata": {
    "scrolled": true
   },
   "outputs": [],
   "source": [
    "#Finding best parameters for Y1 with neg_mean_squared_error\n",
    "y1_param_sqr = gridSearchRFR(X,y1,params_grid,scoring=\"neg_mean_squared_error\",cv=rkf)\n"
   ]
  },
  {
   "cell_type": "code",
   "execution_count": null,
   "metadata": {
    "scrolled": true
   },
   "outputs": [],
   "source": [
    "#Calculate scores\n",
    "y1_best_sqr = y1_param_sqr.best_params_\n",
    "y1_scores_sqr = RandomForestReg(X,y1,y1_best_sqr,scoring=\"neg_mean_squared_error\",cv=rkf)\n"
   ]
  },
  {
   "cell_type": "code",
   "execution_count": null,
   "metadata": {
    "scrolled": true
   },
   "outputs": [],
   "source": [
    "#Finding best parameters for Y1 with neg_mean_absolute_error\n",
    "y1_param_abs = gridSearchRFR(X,y1,params_grid,scoring=\"neg_mean_absolute_error\",cv=rkf)\n"
   ]
  },
  {
   "cell_type": "code",
   "execution_count": null,
   "metadata": {},
   "outputs": [],
   "source": [
    "y1_best_abs = y1_param_abs.best_params_\n",
    "y1_scores_abs = RandomForestReg(X,y1,y1_best_abs,scoring=\"neg_mean_absolute_error\",cv=rkf)\n"
   ]
  },
  {
   "cell_type": "code",
   "execution_count": null,
   "metadata": {},
   "outputs": [],
   "source": [
    "print(\"Mean Squared Error: \")\n",
    "print(\"   Best Params = {}\".format(y1_best_sqr))\n",
    "print(\"   Mean of Mean Squared Error = {}\".format(y1_scores_sqr.mean()))\n",
    "print(\"   Std of Mean Squared Error = {}\\n\".format(y1_scores_sqr.std()))\n",
    "\n",
    "\n",
    "print(\"**************************************************\\n\")\n",
    "#Optimal parameter train_test_splitmodelfor mean_abosule_error\n",
    "print(\"Mean Absolute Error:\")\n",
    "print(\"   Best Params = {}\".format(y1_best_abs))\n",
    "print(\"   Mean of Mean Absolute Error= {}\".format(y1_scores_abs.mean()))\n",
    "print(\"   Std of Mean Absolute Error= {}\".format(y1_scores_abs.std()))"
   ]
  },
  {
   "cell_type": "markdown",
   "metadata": {},
   "source": [
    "### Y2 Results:\n",
    "---"
   ]
  },
  {
   "cell_type": "code",
   "execution_count": null,
   "metadata": {
    "scrolled": true
   },
   "outputs": [],
   "source": [
    "#Finding best parameters for Y2 with neg_mean_squared_error\n",
    "y2_param_sqr = gridSearchRFR(X,y2,params_grid,scoring=\"neg_mean_squared_error\",cv=rkf)\n"
   ]
  },
  {
   "cell_type": "code",
   "execution_count": null,
   "metadata": {
    "scrolled": true
   },
   "outputs": [],
   "source": [
    "#Calculate scores\n",
    "y2_best_sqr = y2_param_sqr.best_params_\n",
    "y2_scores_sqr = RandomForestReg(X,y2,y2_best_sqr,scoring=\"neg_mean_squared_error\",cv=rkf)\n"
   ]
  },
  {
   "cell_type": "code",
   "execution_count": null,
   "metadata": {
    "scrolled": true
   },
   "outputs": [],
   "source": [
    "#Finding best parameters for Y2 with neg_mean_absolute_error\n",
    "y2_param_abs = gridSearchRFR(X,y2,params_grid,scoring=\"neg_mean_absolute_error\",cv=rkf)\n"
   ]
  },
  {
   "cell_type": "code",
   "execution_count": null,
   "metadata": {},
   "outputs": [],
   "source": [
    "#Calculate scores\n",
    "y2_best_abs = y2_param_abs.best_params_\n",
    "y2_scores_abs = RandomForestReg(X,y2,y2_best_abs,scoring=\"neg_mean_absolute_error\",cv=rkf)\n"
   ]
  },
  {
   "cell_type": "code",
   "execution_count": null,
   "metadata": {},
   "outputs": [],
   "source": [
    "print(\"Mean Squared Error: \")\n",
    "print(\"   Best Params = {}\".format(y2_best_sqr))\n",
    "print(\"   Mean of Mean Squared Error= {}\".format(y2_scores_sqr.mean()))\n",
    "print(\"   Std of Mean Squared Error= {}\\n\".format(y2_scores_sqr.std()))\n",
    "\n",
    "\n",
    "print(\"**************************************************\\n\")\n",
    "#Optimal parameter train_test_splitmodelfor mean_abosule_error\n",
    "print(\"Mean Absolute Error:\")\n",
    "print(\"   Best Params = {}\".format(y2_best_abs))\n",
    "print(\"   Mean of Mean Absolute Error = {}\".format(y2_scores_abs.mean()))\n",
    "print(\"   Std of Mean Absolute Error = {}\".format(y2_scores_abs.std()))"
   ]
  },
  {
   "cell_type": "markdown",
   "metadata": {},
   "source": [
    "---\n",
    "---\n",
    "---"
   ]
  },
  {
   "cell_type": "markdown",
   "metadata": {},
   "source": [
    "## Problem 2:\n",
    "---\n",
    "### Task 2:\n",
    "\n",
    "Build predictive model using Ridge Regresssion.\\\n",
    "Find optimal alpha parameter: 0.001, 0.01, 0.1, 1.0, 10.0\\\n",
    "Calculate Mean Absolute Error and Mean Squared Errors by using 10-fold 10 repetition. \\\n",
    "Calculate mean score and the standart deviation. "
   ]
  },
  {
   "cell_type": "code",
   "execution_count": null,
   "metadata": {},
   "outputs": [],
   "source": []
  },
  {
   "cell_type": "code",
   "execution_count": null,
   "metadata": {},
   "outputs": [],
   "source": []
  }
 ],
 "metadata": {
  "kernelspec": {
   "display_name": "Python 3",
   "language": "python",
   "name": "python3"
  },
  "language_info": {
   "codemirror_mode": {
    "name": "ipython",
    "version": 3
   },
   "file_extension": ".py",
   "mimetype": "text/x-python",
   "name": "python",
   "nbconvert_exporter": "python",
   "pygments_lexer": "ipython3",
   "version": "3.6.9"
  }
 },
 "nbformat": 4,
 "nbformat_minor": 2
}
