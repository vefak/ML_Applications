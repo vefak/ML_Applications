{
 "cells": [
  {
   "cell_type": "markdown",
   "metadata": {},
   "source": [
    "\n",
    "### Mutual Information Score Method\n",
    "\n",
    "---\n",
    "The Mutual Information is a measure of the similarity between two labels of the same data. Get Top-4 features\n",
    "\n",
    "### Recursive Feature Elimination Method\n",
    "\n",
    "---\n",
    "Given an external estimator that assigns weights to features (e.g., the coefficients of a linear model), the goal of recursive feature elimination (RFE) is to select features by recursively considering smaller and smaller sets of features. \n",
    "\n",
    "I used RFE with Ridge Regressor. Rigde Regressor parameters were default. Get Top-4 features\n"
   ]
  },
  {
   "cell_type": "markdown",
   "metadata": {},
   "source": [
    "### Import Libraries\n",
    "---"
   ]
  },
  {
   "cell_type": "code",
   "execution_count": 1,
   "metadata": {},
   "outputs": [],
   "source": [
    "#Import Libraries\n",
    "import pandas as pd\n",
    "import numpy as np\n",
    "import matplotlib.pyplot as plt"
   ]
  },
  {
   "cell_type": "markdown",
   "metadata": {},
   "source": [
    "### Preparing & Exploring Data\n",
    "---\n",
    "This data about effect of features on calory burning\n",
    "\n",
    "    - Calories Burned\t\n",
    "    - Steps\t\n",
    "    - Distance\t\n",
    "    - Floors\t\n",
    "    - Minutes Sedentary\t\n",
    "    - Minutes Lightly Active\t\n",
    "    - Minutes Fairly Active\t\n",
    "    - Minutes Very Active\t\n",
    "    - Activity Calories\n",
    "\n"
   ]
  },
  {
   "cell_type": "code",
   "execution_count": 4,
   "metadata": {},
   "outputs": [
    {
     "name": "stdout",
     "output_type": "stream",
     "text": [
      "Length of data =  30\n",
      "Shape of data  =  (30, 10)\n"
     ]
    },
    {
     "data": {
      "text/html": [
       "<div>\n",
       "<style scoped>\n",
       "    .dataframe tbody tr th:only-of-type {\n",
       "        vertical-align: middle;\n",
       "    }\n",
       "\n",
       "    .dataframe tbody tr th {\n",
       "        vertical-align: top;\n",
       "    }\n",
       "\n",
       "    .dataframe thead th {\n",
       "        text-align: right;\n",
       "    }\n",
       "</style>\n",
       "<table border=\"1\" class=\"dataframe\">\n",
       "  <thead>\n",
       "    <tr style=\"text-align: right;\">\n",
       "      <th></th>\n",
       "      <th>Date</th>\n",
       "      <th>Calories Burned</th>\n",
       "      <th>Steps</th>\n",
       "      <th>Distance</th>\n",
       "      <th>Floors</th>\n",
       "      <th>Minutes Sedentary</th>\n",
       "      <th>Minutes Lightly Active</th>\n",
       "      <th>Minutes Fairly Active</th>\n",
       "      <th>Minutes Very Active</th>\n",
       "      <th>Activity Calories</th>\n",
       "    </tr>\n",
       "  </thead>\n",
       "  <tbody>\n",
       "    <tr>\n",
       "      <th>0</th>\n",
       "      <td>7/07/2016</td>\n",
       "      <td>2,682</td>\n",
       "      <td>12,541</td>\n",
       "      <td>9.02</td>\n",
       "      <td>13</td>\n",
       "      <td>667</td>\n",
       "      <td>171</td>\n",
       "      <td>18</td>\n",
       "      <td>60</td>\n",
       "      <td>1,248</td>\n",
       "    </tr>\n",
       "    <tr>\n",
       "      <th>1</th>\n",
       "      <td>8/07/2016</td>\n",
       "      <td>2,423</td>\n",
       "      <td>8,029</td>\n",
       "      <td>5.70</td>\n",
       "      <td>35</td>\n",
       "      <td>760</td>\n",
       "      <td>208</td>\n",
       "      <td>13</td>\n",
       "      <td>6</td>\n",
       "      <td>928</td>\n",
       "    </tr>\n",
       "    <tr>\n",
       "      <th>2</th>\n",
       "      <td>9/07/2016</td>\n",
       "      <td>2,875</td>\n",
       "      <td>10,801</td>\n",
       "      <td>7.67</td>\n",
       "      <td>3</td>\n",
       "      <td>496</td>\n",
       "      <td>148</td>\n",
       "      <td>18</td>\n",
       "      <td>46</td>\n",
       "      <td>1,040</td>\n",
       "    </tr>\n",
       "    <tr>\n",
       "      <th>3</th>\n",
       "      <td>10/07/2016</td>\n",
       "      <td>2,638</td>\n",
       "      <td>11,997</td>\n",
       "      <td>8.52</td>\n",
       "      <td>22</td>\n",
       "      <td>771</td>\n",
       "      <td>248</td>\n",
       "      <td>3</td>\n",
       "      <td>27</td>\n",
       "      <td>1,285</td>\n",
       "    </tr>\n",
       "    <tr>\n",
       "      <th>4</th>\n",
       "      <td>11/07/2016</td>\n",
       "      <td>2,423</td>\n",
       "      <td>9,039</td>\n",
       "      <td>6.42</td>\n",
       "      <td>12</td>\n",
       "      <td>714</td>\n",
       "      <td>232</td>\n",
       "      <td>10</td>\n",
       "      <td>16</td>\n",
       "      <td>1,044</td>\n",
       "    </tr>\n",
       "  </tbody>\n",
       "</table>\n",
       "</div>"
      ],
      "text/plain": [
       "         Date Calories Burned   Steps  Distance  Floors  Minutes Sedentary  \\\n",
       "0   7/07/2016           2,682  12,541      9.02      13                667   \n",
       "1   8/07/2016           2,423   8,029      5.70      35                760   \n",
       "2   9/07/2016           2,875  10,801      7.67       3                496   \n",
       "3  10/07/2016           2,638  11,997      8.52      22                771   \n",
       "4  11/07/2016           2,423   9,039      6.42      12                714   \n",
       "\n",
       "   Minutes Lightly Active  Minutes Fairly Active  Minutes Very Active  \\\n",
       "0                     171                     18                   60   \n",
       "1                     208                     13                    6   \n",
       "2                     148                     18                   46   \n",
       "3                     248                      3                   27   \n",
       "4                     232                     10                   16   \n",
       "\n",
       "  Activity Calories  \n",
       "0             1,248  \n",
       "1               928  \n",
       "2             1,040  \n",
       "3             1,285  \n",
       "4             1,044  "
      ]
     },
     "execution_count": 4,
     "metadata": {},
     "output_type": "execute_result"
    }
   ],
   "source": [
    "data = pd.read_csv(\"../data/fitbit.csv\") #Reading data\n",
    "print(\"Length of data = \",len(data))\n",
    "print(\"Shape of data  = \",data.shape)\n",
    "data.head()"
   ]
  },
  {
   "cell_type": "code",
   "execution_count": 21,
   "metadata": {},
   "outputs": [
    {
     "name": "stdout",
     "output_type": "stream",
     "text": [
      "Shape of data after drop column =  (30, 9)\n"
     ]
    }
   ],
   "source": [
    "#Drop \"Date\" Column\n",
    "data = data.drop(['Date'], axis=1) \n",
    "print(\"Shape of data after drop column = \",data.shape)\n",
    "\n",
    "#There is error in csv file that some of columns are considered as strings\n",
    "#I converted them to floats\n",
    "data[\"Steps\"] =data[\"Steps\"].apply(lambda x : x.replace(',' , '')).astype(float)\n",
    "data[\"Calories Burned\"] =data[\"Calories Burned\"].apply(lambda x : x.replace(',' , '')).astype(float)\n",
    "data[\"Activity Calories\"] =data[\"Activity Calories\"].apply(lambda x : x.replace(',' , '')).astype(float)\n"
   ]
  },
  {
   "cell_type": "code",
   "execution_count": 22,
   "metadata": {},
   "outputs": [
    {
     "data": {
      "text/html": [
       "<div>\n",
       "<style scoped>\n",
       "    .dataframe tbody tr th:only-of-type {\n",
       "        vertical-align: middle;\n",
       "    }\n",
       "\n",
       "    .dataframe tbody tr th {\n",
       "        vertical-align: top;\n",
       "    }\n",
       "\n",
       "    .dataframe thead th {\n",
       "        text-align: right;\n",
       "    }\n",
       "</style>\n",
       "<table border=\"1\" class=\"dataframe\">\n",
       "  <thead>\n",
       "    <tr style=\"text-align: right;\">\n",
       "      <th></th>\n",
       "      <th>Calories Burned</th>\n",
       "      <th>Steps</th>\n",
       "      <th>Distance</th>\n",
       "      <th>Floors</th>\n",
       "      <th>Minutes Sedentary</th>\n",
       "      <th>Minutes Lightly Active</th>\n",
       "      <th>Minutes Fairly Active</th>\n",
       "      <th>Minutes Very Active</th>\n",
       "      <th>Activity Calories</th>\n",
       "    </tr>\n",
       "  </thead>\n",
       "  <tbody>\n",
       "    <tr>\n",
       "      <th>0</th>\n",
       "      <td>2682.0</td>\n",
       "      <td>12541.0</td>\n",
       "      <td>9.02</td>\n",
       "      <td>13</td>\n",
       "      <td>667</td>\n",
       "      <td>171</td>\n",
       "      <td>18</td>\n",
       "      <td>60</td>\n",
       "      <td>1248.0</td>\n",
       "    </tr>\n",
       "    <tr>\n",
       "      <th>1</th>\n",
       "      <td>2423.0</td>\n",
       "      <td>8029.0</td>\n",
       "      <td>5.70</td>\n",
       "      <td>35</td>\n",
       "      <td>760</td>\n",
       "      <td>208</td>\n",
       "      <td>13</td>\n",
       "      <td>6</td>\n",
       "      <td>928.0</td>\n",
       "    </tr>\n",
       "    <tr>\n",
       "      <th>2</th>\n",
       "      <td>2875.0</td>\n",
       "      <td>10801.0</td>\n",
       "      <td>7.67</td>\n",
       "      <td>3</td>\n",
       "      <td>496</td>\n",
       "      <td>148</td>\n",
       "      <td>18</td>\n",
       "      <td>46</td>\n",
       "      <td>1040.0</td>\n",
       "    </tr>\n",
       "    <tr>\n",
       "      <th>3</th>\n",
       "      <td>2638.0</td>\n",
       "      <td>11997.0</td>\n",
       "      <td>8.52</td>\n",
       "      <td>22</td>\n",
       "      <td>771</td>\n",
       "      <td>248</td>\n",
       "      <td>3</td>\n",
       "      <td>27</td>\n",
       "      <td>1285.0</td>\n",
       "    </tr>\n",
       "    <tr>\n",
       "      <th>4</th>\n",
       "      <td>2423.0</td>\n",
       "      <td>9039.0</td>\n",
       "      <td>6.42</td>\n",
       "      <td>12</td>\n",
       "      <td>714</td>\n",
       "      <td>232</td>\n",
       "      <td>10</td>\n",
       "      <td>16</td>\n",
       "      <td>1044.0</td>\n",
       "    </tr>\n",
       "  </tbody>\n",
       "</table>\n",
       "</div>"
      ],
      "text/plain": [
       "   Calories Burned    Steps  Distance  Floors  Minutes Sedentary  \\\n",
       "0           2682.0  12541.0      9.02      13                667   \n",
       "1           2423.0   8029.0      5.70      35                760   \n",
       "2           2875.0  10801.0      7.67       3                496   \n",
       "3           2638.0  11997.0      8.52      22                771   \n",
       "4           2423.0   9039.0      6.42      12                714   \n",
       "\n",
       "   Minutes Lightly Active  Minutes Fairly Active  Minutes Very Active  \\\n",
       "0                     171                     18                   60   \n",
       "1                     208                     13                    6   \n",
       "2                     148                     18                   46   \n",
       "3                     248                      3                   27   \n",
       "4                     232                     10                   16   \n",
       "\n",
       "   Activity Calories  \n",
       "0             1248.0  \n",
       "1              928.0  \n",
       "2             1040.0  \n",
       "3             1285.0  \n",
       "4             1044.0  "
      ]
     },
     "execution_count": 22,
     "metadata": {},
     "output_type": "execute_result"
    }
   ],
   "source": [
    "#Check Data to control Date column was dropped or not\n",
    "data.head()"
   ]
  },
  {
   "cell_type": "code",
   "execution_count": 23,
   "metadata": {},
   "outputs": [
    {
     "name": "stdout",
     "output_type": "stream",
     "text": [
      "Shape of X =  (30, 8)\n",
      "Shape of y =  (30,)\n"
     ]
    }
   ],
   "source": [
    "# Split Data as X(features) and y(targets)\n",
    "y = data.iloc[:, 0].values\n",
    "X = data.iloc[:, 1:9].values\n",
    "print(\"Shape of X = \",X.shape)\n",
    "print(\"Shape of y = \",y.shape)"
   ]
  },
  {
   "cell_type": "markdown",
   "metadata": {},
   "source": [
    "### Function"
   ]
  },
  {
   "cell_type": "code",
   "execution_count": 24,
   "metadata": {},
   "outputs": [],
   "source": [
    "from sklearn.feature_selection import mutual_info_regression\n",
    "from sklearn.feature_selection import RFE\n",
    "from sklearn.linear_model import Ridge\n",
    "\n",
    "def problem1(X,y):\n",
    "    \"\"\"\n",
    "    Input:\n",
    "        \n",
    "        X : Features\n",
    "        y : Targets\n",
    "        \n",
    "    Returns:\n",
    "    \n",
    "        top_mutual : Top-4 features by mutual info\n",
    "        top_rfe    : Top-4 features by RFE\n",
    "        \n",
    "    \"\"\"\n",
    "    \n",
    "    mic = mutual_info_regression(X, y) #Find mutual information between classes\n",
    "    top_mutual = mic.argsort()[-4:][::-1] #Sort and get Top-4 \n",
    "    \n",
    "    model = Ridge() #Create Ridge Regressor \n",
    "    rfe = RFE(model,4,step=0.1,verbose=0) #Create RFE object\n",
    "    rfe_selection = rfe.fit(X,y) #Training\n",
    "    top_rfe = rfe_selection.support_ #Top-4 Elements\n",
    "    \n",
    "    return top_mutual, top_rfe"
   ]
  },
  {
   "cell_type": "code",
   "execution_count": 25,
   "metadata": {},
   "outputs": [
    {
     "name": "stdout",
     "output_type": "stream",
     "text": [
      "Top-4 Features\n",
      "--------------------\n",
      "Mutual Top-4 Features: ['Activity Calories', 'Minutes Fairly Active', 'Steps', 'Distance']\n",
      "\n",
      "RFE Top-4 Features: Index(['Distance', 'Minutes Lightly Active', 'Minutes Fairly Active',\n",
      "       'Minutes Very Active'],\n",
      "      dtype='object')\n"
     ]
    }
   ],
   "source": [
    "#Print Results\n",
    "mutual,rfe = problem1(X,y)\n",
    "list_mutual = []\n",
    "list_rfe = []\n",
    "\n",
    "# Add answer to list object to print results properly\n",
    "for i, col  in enumerate(mutual): \n",
    "    list_mutual.append(data.columns[col+1])\n",
    "\n",
    "list_rfe.append(data.columns[1:9][rfe])\n",
    "\n",
    "print(\"Top-4 Features\")   \n",
    "print(\"--------------------\")   \n",
    "print(\"Mutual Top-4 Features: {}\\n\".format(list_mutual))\n",
    "print(\"RFE Top-4 Features: {}\".format(list_rfe[0]))\n"
   ]
  }
 ],
 "metadata": {
  "kernelspec": {
   "display_name": "Python 3",
   "language": "python",
   "name": "python3"
  },
  "language_info": {
   "codemirror_mode": {
    "name": "ipython",
    "version": 3
   },
   "file_extension": ".py",
   "mimetype": "text/x-python",
   "name": "python",
   "nbconvert_exporter": "python",
   "pygments_lexer": "ipython3",
   "version": "3.7.6"
  }
 },
 "nbformat": 4,
 "nbformat_minor": 2
}
