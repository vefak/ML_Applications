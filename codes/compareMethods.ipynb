{
 "cells": [
  {
   "cell_type": "markdown",
   "metadata": {},
   "source": [
    "### Comparing  Methods \n",
    "Predict customer churn with \n",
    "    - Logistic Regression\n",
    "    - Decision Tree\n",
    "    - Support Vector Machine\n",
    "    - K-Nearest Neighbor \n",
    "    - Neural Network methods\n",
    "\n",
    "Using 5-Fold cv with shuffling. Drop ID column. Remove rows which have missing data\n",
    "Using default parameters"
   ]
  },
  {
   "cell_type": "markdown",
   "metadata": {},
   "source": [
    "### Import Libraries\n",
    "---"
   ]
  },
  {
   "cell_type": "code",
   "execution_count": 1,
   "metadata": {},
   "outputs": [],
   "source": [
    "#Import Libraries\n",
    "import pandas as pd\n",
    "import numpy as np\n",
    "import matplotlib.pyplot as plt"
   ]
  },
  {
   "cell_type": "markdown",
   "metadata": {},
   "source": [
    "### Preparing & Exploring Data\n",
    "---"
   ]
  },
  {
   "cell_type": "code",
   "execution_count": 3,
   "metadata": {},
   "outputs": [
    {
     "name": "stdout",
     "output_type": "stream",
     "text": [
      "Shape of data =  (7043, 21)\n",
      "Shape of data after drop column =  (7043, 20) \n",
      "\n",
      "\n",
      "Null Values: \n",
      " gender              False\n",
      "SeniorCitizen       False\n",
      "Partner             False\n",
      "Dependents          False\n",
      "tenure              False\n",
      "PhoneService        False\n",
      "MultipleLines       False\n",
      "InternetService     False\n",
      "OnlineSecurity      False\n",
      "OnlineBackup        False\n",
      "DeviceProtection    False\n",
      "TechSupport         False\n",
      "StreamingTV         False\n",
      "StreamingMovies     False\n",
      "Contract            False\n",
      "PaperlessBilling    False\n",
      "PaymentMethod       False\n",
      "MonthlyCharges      False\n",
      "TotalCharges         True\n",
      "Churn               False\n",
      "dtype: bool\n",
      "----------------------\n",
      "\n",
      "Number of rows with empty cells: 11 \n",
      "\n",
      "Shape of data after remove rows=  (7032, 20)\n"
     ]
    }
   ],
   "source": [
    "data = pd.read_csv(\"../data/WA_Fn-UseC_-Telco-Customer-Churn.csv\", sep=\",\") #Reading data\n",
    "print(\"Shape of data = \",data.shape)\n",
    "\n",
    "\n",
    "#Drop \"Date\" Column\n",
    "data = data.drop(['customerID'], axis=1) \n",
    "print(\"Shape of data after drop column = \",   data.shape, \"\\n\\n\")\n",
    "\n",
    "#To remove rows which have empty values first convert empty cells to nan\n",
    "data = data.replace(' ', np.nan)\n",
    "print('Null Values: \\n', data.isnull().any()) #Control which column has nan values\n",
    "print(\"----------------------\\n\")\n",
    "\n",
    "empty_cells = np.where(pd.isnull(data)) \n",
    "print(\"Number of rows with empty cells: {}\".format(len(empty_cells[0])),\"\\n\")\n",
    "data = data.dropna() #Remove rows\n",
    "print(\"Shape of data after remove rows= \",   data.shape)"
   ]
  },
  {
   "cell_type": "code",
   "execution_count": 4,
   "metadata": {},
   "outputs": [],
   "source": [
    "from sklearn.preprocessing import LabelEncoder\n",
    "\n",
    "#Non-numeric features\n",
    "categorilcals = ['gender', 'Partner', 'Dependents', \n",
    "                 'PhoneService', 'MultipleLines', 'InternetService', 'OnlineSecurity',\n",
    "       'OnlineBackup', 'DeviceProtection', 'TechSupport', 'StreamingTV',\n",
    "       'StreamingMovies', 'Contract', 'PaperlessBilling', 'PaymentMethod',\n",
    "       'Churn']\n",
    "#Encoding non-numeric features\n",
    "labelencoder = LabelEncoder()\n",
    "for word in (categorilcals):\n",
    "    data[word]      = labelencoder.fit_transform(data[word]) \n",
    "\n",
    "#Divide data as features(X) and target(y)    \n",
    "X = data.iloc[:, 0:19].values.astype(float)\n",
    "y = data.iloc[:, -1].values.astype(float)\n",
    "\n",
    "\n",
    "#Scaling Data\n",
    "from sklearn.preprocessing import StandardScaler\n",
    "sc = StandardScaler()\n",
    "X = sc.fit_transform(X)\n"
   ]
  },
  {
   "cell_type": "code",
   "execution_count": 5,
   "metadata": {},
   "outputs": [],
   "source": [
    "from sklearn.neighbors import KNeighborsClassifier\n",
    "from sklearn.neural_network import MLPClassifier\n",
    "from sklearn.linear_model import LogisticRegression\n",
    "from sklearn.svm import LinearSVC\n",
    "from sklearn.tree import DecisionTreeClassifier\n",
    "\n",
    "\n",
    "def problem3(model_selected, features, target, cv):\n",
    "    \n",
    "    \n",
    "    \"\"\"\n",
    "    Input:\n",
    "        \n",
    "        features : Features\n",
    "        target   : Target.(Labels)\n",
    "        cv : cross-validation generator \n",
    "        model_selected : To select which model will use the train features\n",
    "            List of 5 Possible Models:\n",
    "                \n",
    "                'lr'  = Logistic Regression\n",
    "                'mlp' = MLP Classifier (Neural Network Model)\n",
    "                'dtc' = Decision Tree Classifier\n",
    "                'svc' = Linear Support Vector Machine\n",
    "                'knn' = k-Nearest Neighbors \n",
    "        \n",
    "    Returns:\n",
    "    \n",
    "        results : Mean of results\n",
    "        \n",
    "    \"\"\"\n",
    "    \n",
    "    if(model_selected == 'lr'):\n",
    "         model= LogisticRegression()\n",
    "\n",
    "    elif(model_selected == 'mlp'):\n",
    "         model= MLPClassifier()\n",
    "\n",
    "    elif(model_selected == 'dtc'): \n",
    "         model= DecisionTreeClassifier()\n",
    "\n",
    "    elif(model_selected == 'svc'):\n",
    "         model= LinearSVC()\n",
    "\n",
    "    elif(model_selected == 'knn'):\n",
    "         model= KNeighborsClassifier()\n",
    "\n",
    "    else:\n",
    "         raise NameError('invalid selected model')\n",
    "         \n",
    "\n",
    "    results= cross_val_score(model, features, target, cv=cv)   \n",
    "\n",
    "    return results.mean()"
   ]
  },
  {
   "cell_type": "code",
   "execution_count": 6,
   "metadata": {},
   "outputs": [
    {
     "name": "stderr",
     "output_type": "stream",
     "text": [
      "/home/vefak/anaconda3/lib/python3.7/site-packages/sklearn/svm/_base.py:947: ConvergenceWarning: Liblinear failed to converge, increase the number of iterations.\n",
      "  \"the number of iterations.\", ConvergenceWarning)\n",
      "/home/vefak/anaconda3/lib/python3.7/site-packages/sklearn/svm/_base.py:947: ConvergenceWarning: Liblinear failed to converge, increase the number of iterations.\n",
      "  \"the number of iterations.\", ConvergenceWarning)\n",
      "/home/vefak/anaconda3/lib/python3.7/site-packages/sklearn/svm/_base.py:947: ConvergenceWarning: Liblinear failed to converge, increase the number of iterations.\n",
      "  \"the number of iterations.\", ConvergenceWarning)\n",
      "/home/vefak/anaconda3/lib/python3.7/site-packages/sklearn/svm/_base.py:947: ConvergenceWarning: Liblinear failed to converge, increase the number of iterations.\n",
      "  \"the number of iterations.\", ConvergenceWarning)\n",
      "/home/vefak/anaconda3/lib/python3.7/site-packages/sklearn/neural_network/_multilayer_perceptron.py:571: ConvergenceWarning: Stochastic Optimizer: Maximum iterations (200) reached and the optimization hasn't converged yet.\n",
      "  % self.max_iter, ConvergenceWarning)\n",
      "/home/vefak/anaconda3/lib/python3.7/site-packages/sklearn/neural_network/_multilayer_perceptron.py:571: ConvergenceWarning: Stochastic Optimizer: Maximum iterations (200) reached and the optimization hasn't converged yet.\n",
      "  % self.max_iter, ConvergenceWarning)\n",
      "/home/vefak/anaconda3/lib/python3.7/site-packages/sklearn/neural_network/_multilayer_perceptron.py:571: ConvergenceWarning: Stochastic Optimizer: Maximum iterations (200) reached and the optimization hasn't converged yet.\n",
      "  % self.max_iter, ConvergenceWarning)\n",
      "/home/vefak/anaconda3/lib/python3.7/site-packages/sklearn/neural_network/_multilayer_perceptron.py:571: ConvergenceWarning: Stochastic Optimizer: Maximum iterations (200) reached and the optimization hasn't converged yet.\n",
      "  % self.max_iter, ConvergenceWarning)\n",
      "/home/vefak/anaconda3/lib/python3.7/site-packages/sklearn/neural_network/_multilayer_perceptron.py:571: ConvergenceWarning: Stochastic Optimizer: Maximum iterations (200) reached and the optimization hasn't converged yet.\n",
      "  % self.max_iter, ConvergenceWarning)\n",
      "/home/vefak/anaconda3/lib/python3.7/site-packages/sklearn/neural_network/_multilayer_perceptron.py:571: ConvergenceWarning: Stochastic Optimizer: Maximum iterations (200) reached and the optimization hasn't converged yet.\n",
      "  % self.max_iter, ConvergenceWarning)\n",
      "/home/vefak/anaconda3/lib/python3.7/site-packages/sklearn/neural_network/_multilayer_perceptron.py:571: ConvergenceWarning: Stochastic Optimizer: Maximum iterations (200) reached and the optimization hasn't converged yet.\n",
      "  % self.max_iter, ConvergenceWarning)\n",
      "/home/vefak/anaconda3/lib/python3.7/site-packages/sklearn/neural_network/_multilayer_perceptron.py:571: ConvergenceWarning: Stochastic Optimizer: Maximum iterations (200) reached and the optimization hasn't converged yet.\n",
      "  % self.max_iter, ConvergenceWarning)\n",
      "/home/vefak/anaconda3/lib/python3.7/site-packages/sklearn/neural_network/_multilayer_perceptron.py:571: ConvergenceWarning: Stochastic Optimizer: Maximum iterations (200) reached and the optimization hasn't converged yet.\n",
      "  % self.max_iter, ConvergenceWarning)\n",
      "/home/vefak/anaconda3/lib/python3.7/site-packages/sklearn/neural_network/_multilayer_perceptron.py:571: ConvergenceWarning: Stochastic Optimizer: Maximum iterations (200) reached and the optimization hasn't converged yet.\n",
      "  % self.max_iter, ConvergenceWarning)\n"
     ]
    }
   ],
   "source": [
    "#Split data as Traing and Test\n",
    "from sklearn.model_selection import train_test_split, cross_val_score\n",
    "X_train,X_test,y_train,y_test=train_test_split(X,y,test_size=0.3)\n",
    "\n",
    "# 5-Fold with shuffling\n",
    "from sklearn.model_selection import KFold\n",
    "kfold = KFold(n_splits=5, shuffle=True, random_state=0)\n",
    "\n",
    "\n",
    "#Call function and keep results\n",
    "train_lr = problem3('lr', X_train, y_train, kfold)\n",
    "test_lr = problem3('lr', X_test, y_test, kfold)\n",
    "\n",
    "train_dtc = problem3('dtc', X_train, y_train, kfold)\n",
    "test_dtc = problem3('dtc', X_test, y_test, kfold)\n",
    "\n",
    "train_svc = problem3('svc', X_train, y_train, kfold)\n",
    "test_svc = problem3('svc', X_test, y_test, kfold)\n",
    "\n",
    "train_knn = problem3('knn', X_train, y_train, kfold)\n",
    "test_knn = problem3('knn', X_test, y_test, kfold)\n",
    "\n",
    "train_mlp = problem3('mlp', X_train, y_train, kfold)\n",
    "test_mlp = problem3('mlp', X_test, y_test, kfold)\n",
    "\n",
    "    "
   ]
  },
  {
   "cell_type": "code",
   "execution_count": 7,
   "metadata": {},
   "outputs": [
    {
     "name": "stdout",
     "output_type": "stream",
     "text": [
      "model                train   test\n",
      "-------------------------------------\n",
      "LogisticRegression   0.800   0.808   \n",
      "DecisionTree         0.729   0.739   \n",
      "LinearSVC            0.799   0.802   \n",
      "KNN                  0.754   0.746   \n",
      "MLPClassifier        0.780   0.785   \n"
     ]
    }
   ],
   "source": [
    "print(\"model                train   test\")\n",
    "print(\"-------------------------------------\")\n",
    "print(\"LogisticRegression   {:.3f}   {:.3f}   \".format(train_lr,  test_lr))\n",
    "print(\"DecisionTree         {:.3f}   {:.3f}   \".format(train_dtc, test_dtc))\n",
    "print(\"LinearSVC            {:.3f}   {:.3f}   \".format(train_svc,  test_svc))\n",
    "print(\"KNN                  {:.3f}   {:.3f}   \".format(train_knn,  test_knn))\n",
    "print(\"MLPClassifier        {:.3f}   {:.3f}   \".format(train_mlp,  test_mlp))\n",
    "\n",
    "\n"
   ]
  }
 ],
 "metadata": {
  "kernelspec": {
   "display_name": "Python 3",
   "language": "python",
   "name": "python3"
  },
  "language_info": {
   "codemirror_mode": {
    "name": "ipython",
    "version": 3
   },
   "file_extension": ".py",
   "mimetype": "text/x-python",
   "name": "python",
   "nbconvert_exporter": "python",
   "pygments_lexer": "ipython3",
   "version": "3.7.6"
  }
 },
 "nbformat": 4,
 "nbformat_minor": 2
}
